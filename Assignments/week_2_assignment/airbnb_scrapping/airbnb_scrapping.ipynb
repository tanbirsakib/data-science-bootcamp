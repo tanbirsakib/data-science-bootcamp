{
 "cells": [
  {
   "cell_type": "code",
   "execution_count": 1,
   "id": "428b6e92",
   "metadata": {},
   "outputs": [
    {
     "name": "stdout",
     "output_type": "stream",
     "text": [
      "3\n",
      "sakib\n",
      "45\n",
      "tanbir\n",
      "3\n",
      "hirdoy\n",
      "45\n",
      "[['sakib', 45.0], ['tanbir', 3.0], ['hirdoy', 45.0]]\n",
      "[45.0, 3.0, 45.0]\n",
      "[3.0, 45.0, 45.0]\n",
      "[3.0]\n"
     ]
    }
   ],
   "source": [
    "if __name__ == '__main__':\n",
    "    records = []\n",
    "    scores = []\n",
    "    for _ in range(int(input())):\n",
    "        name = input()\n",
    "        score = float(input())\n",
    "        scores.append(score)\n",
    "        records.append([name, score])\n",
    "    print(records)\n",
    "    print(scores)\n",
    "    sorted_scores = sorted(scores)\n",
    "    print(sorted_scores)\n",
    "    max = max(sorted_scores)\n",
    "    for i in range(sorted_scores.count(max)):\n",
    "        sorted_scores.pop()\n",
    "    print(sorted_scores)"
   ]
  },
  {
   "cell_type": "code",
   "execution_count": null,
   "id": "c88df163",
   "metadata": {},
   "outputs": [],
   "source": []
  }
 ],
 "metadata": {
  "kernelspec": {
   "display_name": "Python 3 (ipykernel)",
   "language": "python",
   "name": "python3"
  },
  "language_info": {
   "codemirror_mode": {
    "name": "ipython",
    "version": 3
   },
   "file_extension": ".py",
   "mimetype": "text/x-python",
   "name": "python",
   "nbconvert_exporter": "python",
   "pygments_lexer": "ipython3",
   "version": "3.9.12"
  }
 },
 "nbformat": 4,
 "nbformat_minor": 5
}
