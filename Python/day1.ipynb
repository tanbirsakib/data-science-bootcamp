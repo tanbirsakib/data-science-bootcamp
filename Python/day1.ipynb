{
 "cells": [
  {
   "cell_type": "markdown",
   "id": "1e39a725",
   "metadata": {},
   "source": [
    "## checking the value is positive or not"
   ]
  },
  {
   "cell_type": "code",
   "execution_count": 2,
   "id": "fe99e471",
   "metadata": {},
   "outputs": [
    {
     "name": "stdout",
     "output_type": "stream",
     "text": [
      "3 the number is positibe\n",
      "6 the number is positibe\n",
      "8 the number is positibe\n",
      "-5 the number is negative\n",
      "-2 the number is negative\n",
      "-8 the number is negative\n",
      "4 the number is positibe\n",
      "66 the number is positibe\n",
      "-7 the number is negative\n"
     ]
    }
   ],
   "source": [
    "numbers = [3, 6, 8, -5, -2, -8, 0, 4, 0, 66, 0, -7]\n",
    "for i in numbers:\n",
    "    if i>0:\n",
    "        print(i,'the number is positibe')\n",
    "    elif i<0:\n",
    "        print(i,'the number is negative')"
   ]
  },
  {
   "cell_type": "markdown",
   "id": "db25afb7",
   "metadata": {},
   "source": [
    "## PRINTING DIAGRAM"
   ]
  },
  {
   "cell_type": "code",
   "execution_count": 6,
   "id": "826aeefb",
   "metadata": {},
   "outputs": [
    {
     "name": "stdout",
     "output_type": "stream",
     "text": [
      "* \n",
      "** \n",
      "*** \n",
      "**** \n",
      "*****\n"
     ]
    }
   ],
   "source": [
    "print('*', '\\n**', '\\n***', '\\n****', '\\n*****')"
   ]
  },
  {
   "cell_type": "code",
   "execution_count": 7,
   "id": "4ec8beca",
   "metadata": {},
   "outputs": [
    {
     "ename": "SyntaxError",
     "evalue": "invalid syntax (1291159333.py, line 4)",
     "output_type": "error",
     "traceback": [
      "\u001b[1;36m  Input \u001b[1;32mIn [7]\u001b[1;36m\u001b[0m\n\u001b[1;33m    elif(i==2):\u001b[0m\n\u001b[1;37m    ^\u001b[0m\n\u001b[1;31mSyntaxError\u001b[0m\u001b[1;31m:\u001b[0m invalid syntax\n"
     ]
    }
   ],
   "source": [
    "for i in range(7):\n",
    "    if(i==1):\n",
    "        print(\"*\")\n",
    "        elif(i==2):\n",
    "            print(\"**\")"
   ]
  },
  {
   "cell_type": "markdown",
   "id": "c0be8c99",
   "metadata": {},
   "source": [
    "## ----------concating string through loop----------------"
   ]
  },
  {
   "cell_type": "code",
   "execution_count": 12,
   "id": "54b23ef8",
   "metadata": {},
   "outputs": [
    {
     "name": "stdout",
     "output_type": "stream",
     "text": [
      "https//:iiuc/ac/bd/1995\n",
      "https//:iiuc/ac/bd/1996\n",
      "https//:iiuc/ac/bd/1997\n",
      "https//:iiuc/ac/bd/1998\n",
      "https//:iiuc/ac/bd/1999\n",
      "https//:iiuc/ac/bd/2000\n",
      "https//:iiuc/ac/bd/2001\n",
      "https//:iiuc/ac/bd/2002\n",
      "https//:iiuc/ac/bd/2003\n",
      "https//:iiuc/ac/bd/2004\n",
      "https//:iiuc/ac/bd/2005\n",
      "https//:iiuc/ac/bd/2006\n",
      "https//:iiuc/ac/bd/2007\n",
      "https//:iiuc/ac/bd/2008\n",
      "https//:iiuc/ac/bd/2009\n",
      "https//:iiuc/ac/bd/2010\n",
      "https//:iiuc/ac/bd/2011\n",
      "https//:iiuc/ac/bd/2012\n",
      "https//:iiuc/ac/bd/2013\n",
      "https//:iiuc/ac/bd/2014\n",
      "https//:iiuc/ac/bd/2015\n",
      "https//:iiuc/ac/bd/2016\n",
      "https//:iiuc/ac/bd/2017\n",
      "https//:iiuc/ac/bd/2018\n",
      "https//:iiuc/ac/bd/2019\n",
      "https//:iiuc/ac/bd/2020\n",
      "https//:iiuc/ac/bd/2021\n"
     ]
    }
   ],
   "source": [
    "cse = 'https//:iiuc/ac/bd/'\n",
    "for i in range(1995, 2022):\n",
    "    updated_url = cse + str(i)\n",
    "    print(updated_url)"
   ]
  },
  {
   "cell_type": "markdown",
   "id": "dcf3da6a",
   "metadata": {},
   "source": [
    "## FUNCTION\n"
   ]
  },
  {
   "cell_type": "code",
   "execution_count": 2,
   "id": "37f2017e",
   "metadata": {},
   "outputs": [
    {
     "data": {
      "text/plain": [
       "257.639"
      ]
     },
     "execution_count": 2,
     "metadata": {},
     "output_type": "execute_result"
    }
   ],
   "source": [
    "def forward_pass(w, x, b):\n",
    "    return w*x + b\n",
    "forward_pass(10.6, 23.99, 3.345)"
   ]
  },
  {
   "cell_type": "code",
   "execution_count": 3,
   "id": "4e9170cb",
   "metadata": {},
   "outputs": [],
   "source": [
    "def loss_calculation(y, y_head):\n",
    "    loss = (y-y_head)**2\n",
    "    return loss"
   ]
  },
  {
   "cell_type": "code",
   "execution_count": 6,
   "id": "67b10618",
   "metadata": {},
   "outputs": [
    {
     "data": {
      "text/plain": [
       "108900"
      ]
     },
     "execution_count": 6,
     "metadata": {},
     "output_type": "execute_result"
    }
   ],
   "source": [
    "loss_calculation(23,353)"
   ]
  },
  {
   "cell_type": "code",
   "execution_count": 7,
   "id": "8181a678",
   "metadata": {},
   "outputs": [],
   "source": [
    "def gradient_calculation(y, y_head, x):\n",
    "    gradient = -2*(y-y_head)*x\n",
    "    return gradient"
   ]
  },
  {
   "cell_type": "code",
   "execution_count": 8,
   "id": "7d532a12",
   "metadata": {},
   "outputs": [
    {
     "name": "stdout",
     "output_type": "stream",
     "text": [
      "2.74\n",
      "65.54\n",
      "45.1\n"
     ]
    },
    {
     "data": {
      "text/plain": [
       "5664.56"
      ]
     },
     "execution_count": 8,
     "metadata": {},
     "output_type": "execute_result"
    }
   ],
   "source": [
    "gradient_calculation(float(input()), float(input()), float(input()))"
   ]
  },
  {
   "cell_type": "code",
   "execution_count": null,
   "id": "5d070eea",
   "metadata": {},
   "outputs": [],
   "source": []
  }
 ],
 "metadata": {
  "kernelspec": {
   "display_name": "Python 3 (ipykernel)",
   "language": "python",
   "name": "python3"
  },
  "language_info": {
   "codemirror_mode": {
    "name": "ipython",
    "version": 3
   },
   "file_extension": ".py",
   "mimetype": "text/x-python",
   "name": "python",
   "nbconvert_exporter": "python",
   "pygments_lexer": "ipython3",
   "version": "3.9.12"
  }
 },
 "nbformat": 4,
 "nbformat_minor": 5
}
