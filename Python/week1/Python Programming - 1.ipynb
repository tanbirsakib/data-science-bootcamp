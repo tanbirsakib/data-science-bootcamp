{
 "cells": [
  {
   "cell_type": "markdown",
   "id": "b7b10822",
   "metadata": {},
   "source": [
    "## Outline\n",
    "[Python Documentaion](https://docs.python.org/3/tutorial/index.html)\n",
    "\n",
    "[Python ReadTheDoc](https://python-reference.readthedocs.io/en/latest/intro.html)\n",
    "- data type, Variable\n",
    "- input, output\n",
    "- operators\n",
    "- Condition - **if**, **if else** **if elif else**\n",
    "- Loop -- *for*, **while**\n",
    "- function\n",
    "- data structure -- **string**, **list**, **set**, **tuple**, **dictionary**\n",
    "- list comprehension\n",
    "- lambda function\n",
    "- File - txt, json\n",
    "- datetime"
   ]
  },
  {
   "cell_type": "markdown",
   "id": "8d829eb0",
   "metadata": {},
   "source": [
    "## Data Type & Variable"
   ]
  },
  {
   "cell_type": "code",
   "execution_count": null,
   "id": "d44c0ca4",
   "metadata": {},
   "outputs": [],
   "source": [
    "# C style variable declaration\n",
    "\n",
    "int main()\n",
    "{\n",
    "    int a = 10;\n",
    "    float b = 19.5;\n",
    "    char c = \"e\";\n",
    "}"
   ]
  },
  {
   "cell_type": "code",
   "execution_count": 7,
   "id": "c948bce7",
   "metadata": {},
   "outputs": [],
   "source": [
    "a = 10\n",
    "b = 89\n",
    "c = \"t\""
   ]
  },
  {
   "cell_type": "code",
   "execution_count": 8,
   "id": "800599fe",
   "metadata": {},
   "outputs": [
    {
     "data": {
      "text/plain": [
       "(int, int, str)"
      ]
     },
     "execution_count": 8,
     "metadata": {},
     "output_type": "execute_result"
    }
   ],
   "source": [
    "type(a), type(b), type(c)"
   ]
  },
  {
   "cell_type": "markdown",
   "id": "c4ac4cc8",
   "metadata": {},
   "source": [
    "## Inpute & Output"
   ]
  },
  {
   "cell_type": "code",
   "execution_count": 20,
   "id": "f4834e6f",
   "metadata": {},
   "outputs": [
    {
     "name": "stdout",
     "output_type": "stream",
     "text": [
      "Welcome to the Python World!!!\n"
     ]
    }
   ],
   "source": [
    "print(\"Welcome to the Python World!!!\")"
   ]
  },
  {
   "cell_type": "code",
   "execution_count": 34,
   "id": "64fb1a6c",
   "metadata": {},
   "outputs": [
    {
     "name": "stdout",
     "output_type": "stream",
     "text": [
      "What's your name: Ibrhaim\n",
      "Enter your age: 13\n"
     ]
    }
   ],
   "source": [
    "name = input(\"What's your name: \")\n",
    "age = float(input(\"Enter your age: \"))"
   ]
  },
  {
   "cell_type": "code",
   "execution_count": 39,
   "id": "251c551e",
   "metadata": {},
   "outputs": [
    {
     "name": "stdout",
     "output_type": "stream",
     "text": [
      "13.0 Ibrhaim\n"
     ]
    }
   ],
   "source": [
    "print(age, name)"
   ]
  },
  {
   "cell_type": "code",
   "execution_count": 35,
   "id": "ee0e8a25",
   "metadata": {},
   "outputs": [
    {
     "name": "stdout",
     "output_type": "stream",
     "text": [
      "Welcome Ibrhaim!!! Your age: 13.0\n"
     ]
    }
   ],
   "source": [
    "print(\"Welcome {0}!!! Your age: {1}\".format(name, age)) # format string"
   ]
  },
  {
   "cell_type": "code",
   "execution_count": 40,
   "id": "6e6cc796",
   "metadata": {},
   "outputs": [
    {
     "name": "stdout",
     "output_type": "stream",
     "text": [
      "Welcome Ibrhaim!! Your age: 13.0\n"
     ]
    }
   ],
   "source": [
    "print(f\"Welcome {name}!! Your age: {age}\") # f-string"
   ]
  },
  {
   "cell_type": "code",
   "execution_count": 41,
   "id": "a5c32acd",
   "metadata": {},
   "outputs": [
    {
     "name": "stdout",
     "output_type": "stream",
     "text": [
      "Welcome  Ibrhaim !!! Your age:  13.0\n"
     ]
    }
   ],
   "source": [
    "print(\"Welcome \", name, \"!!! Your age: \", age)"
   ]
  },
  {
   "cell_type": "code",
   "execution_count": 199,
   "id": "f6751dc4",
   "metadata": {},
   "outputs": [
    {
     "name": "stdout",
     "output_type": "stream",
     "text": [
      "Enter the value3, 2, 7, 5, \"apple\", 5\n",
      "3, 2, 7, 5, \"apple\", 5\n"
     ]
    }
   ],
   "source": [
    "multiple_value = input(\"Enter the value\")\n",
    "print(multiple_value)"
   ]
  },
  {
   "cell_type": "code",
   "execution_count": 200,
   "id": "23436b65",
   "metadata": {},
   "outputs": [
    {
     "data": {
      "text/plain": [
       "str"
      ]
     },
     "execution_count": 200,
     "metadata": {},
     "output_type": "execute_result"
    }
   ],
   "source": [
    "type(multiple_value)"
   ]
  },
  {
   "cell_type": "code",
   "execution_count": 201,
   "id": "5fd82bce",
   "metadata": {},
   "outputs": [
    {
     "data": {
      "text/plain": [
       "['3', ' 2', ' 7', ' 5', ' \"apple\"', ' 5']"
      ]
     },
     "execution_count": 201,
     "metadata": {},
     "output_type": "execute_result"
    }
   ],
   "source": [
    "multiple_value.split(',')"
   ]
  },
  {
   "cell_type": "code",
   "execution_count": null,
   "id": "d2d71c23",
   "metadata": {},
   "outputs": [],
   "source": []
  },
  {
   "cell_type": "markdown",
   "id": "7285e40c",
   "metadata": {},
   "source": [
    "## Operator"
   ]
  },
  {
   "cell_type": "code",
   "execution_count": null,
   "id": "fb47a442",
   "metadata": {},
   "outputs": [],
   "source": []
  },
  {
   "cell_type": "code",
   "execution_count": 117,
   "id": "4e300b9d",
   "metadata": {},
   "outputs": [
    {
     "ename": "IndentationError",
     "evalue": "unindent does not match any outer indentation level (<tokenize>, line 4)",
     "output_type": "error",
     "traceback": [
      "\u001b[1;36m  File \u001b[1;32m<tokenize>:4\u001b[1;36m\u001b[0m\n\u001b[1;33m    print(\"\\n\")\u001b[0m\n\u001b[1;37m    ^\u001b[0m\n\u001b[1;31mIndentationError\u001b[0m\u001b[1;31m:\u001b[0m unindent does not match any outer indentation level\n"
     ]
    }
   ],
   "source": []
  },
  {
   "cell_type": "markdown",
   "id": "8fa819d2",
   "metadata": {},
   "source": [
    "- arithmetic operator: **+, -, *, /, %, //**\n",
    "- logical operator: **and, or, not**\n",
    "- comparison operator: **>, <. >=, <=, ==, !=**"
   ]
  },
  {
   "cell_type": "code",
   "execution_count": 47,
   "id": "95ab31c1",
   "metadata": {},
   "outputs": [
    {
     "name": "stdout",
     "output_type": "stream",
     "text": [
      "16\n",
      "-10\n",
      "4.333333333333333\n"
     ]
    }
   ],
   "source": [
    "# arithmetic operator\n",
    "a = 3\n",
    "b = 13\n",
    "print(a+b)\n",
    "print(a-b)\n",
    "print(b/a)"
   ]
  },
  {
   "cell_type": "code",
   "execution_count": 45,
   "id": "271aa4c2",
   "metadata": {},
   "outputs": [
    {
     "name": "stdout",
     "output_type": "stream",
     "text": [
      "4\n"
     ]
    }
   ],
   "source": [
    "print(b//a)"
   ]
  },
  {
   "cell_type": "code",
   "execution_count": 46,
   "id": "7f6f5d98",
   "metadata": {},
   "outputs": [
    {
     "name": "stdout",
     "output_type": "stream",
     "text": [
      "1\n"
     ]
    }
   ],
   "source": [
    "print(b%a)"
   ]
  },
  {
   "cell_type": "code",
   "execution_count": 50,
   "id": "46eac860",
   "metadata": {},
   "outputs": [
    {
     "name": "stdout",
     "output_type": "stream",
     "text": [
      "True\n"
     ]
    }
   ],
   "source": [
    "# comarison operator\n",
    "print(a < b)"
   ]
  },
  {
   "cell_type": "code",
   "execution_count": 53,
   "id": "9a0f13f0",
   "metadata": {},
   "outputs": [
    {
     "name": "stdout",
     "output_type": "stream",
     "text": [
      "True\n"
     ]
    }
   ],
   "source": [
    "age1  = 25.5\n",
    "age2 = 24.6\n",
    "print(age1!=age2)"
   ]
  },
  {
   "cell_type": "code",
   "execution_count": 54,
   "id": "256c52f2",
   "metadata": {},
   "outputs": [
    {
     "data": {
      "text/plain": [
       "False"
      ]
     },
     "execution_count": 54,
     "metadata": {},
     "output_type": "execute_result"
    }
   ],
   "source": [
    "a = True\n",
    "b = False\n",
    "\n",
    "a and b"
   ]
  },
  {
   "cell_type": "markdown",
   "id": "3b9ecc05",
   "metadata": {},
   "source": [
    "## Condition"
   ]
  },
  {
   "cell_type": "code",
   "execution_count": 61,
   "id": "1ef6355b",
   "metadata": {},
   "outputs": [
    {
     "name": "stdout",
     "output_type": "stream",
     "text": [
      "Your age is greater than 20.\n",
      "You are eligible for the programe\n"
     ]
    }
   ],
   "source": [
    "# if\n",
    "age = 23\n",
    "\n",
    "if age>20:\n",
    "    print(\"Your age is greater than 20.\")\n",
    "    print(\"You are eligible for the programe\")"
   ]
  },
  {
   "cell_type": "code",
   "execution_count": 68,
   "id": "b922b5ad",
   "metadata": {},
   "outputs": [
    {
     "name": "stdout",
     "output_type": "stream",
     "text": [
      "Your age is 12 below 20\n",
      "You are not eligible for the programe\n"
     ]
    }
   ],
   "source": [
    "age = 12\n",
    "if age>=20:\n",
    "    print(f\"Your age is {age} greater than 20.\")\n",
    "    print(\"You are eligible for the programe\")\n",
    "else:\n",
    "    print(\"Your age is {} below 20\".format(age))\n",
    "    print(\"You are not eligible for the programe\")"
   ]
  },
  {
   "cell_type": "code",
   "execution_count": 72,
   "id": "5bb6295e",
   "metadata": {},
   "outputs": [
    {
     "name": "stdout",
     "output_type": "stream",
     "text": [
      "Mention your python exam marks: 67\n",
      "You got A-\n"
     ]
    }
   ],
   "source": [
    "# Grading Sytem:\n",
    "#     marks: >90 -> A+\n",
    "#     marks: 80-90 -> A\n",
    "#     marks: 60-80 -> A-\n",
    "#     marks: <60 -> B\n",
    "\n",
    "python_marks = float(input(\"Mention your python exam marks: \"))\n",
    "\n",
    "if python_marks >= 90:\n",
    "    print(\"Hurrah!!! Your got A+\")\n",
    "elif python_marks >= 80 and python_marks < 90:\n",
    "    print(\"Yes!! You got A\")\n",
    "elif python_marks >= 60 and python_marks < 80:\n",
    "    print(\"You got A-\")\n",
    "else:\n",
    "    print(\"Your Grade: B\")"
   ]
  },
  {
   "cell_type": "code",
   "execution_count": 73,
   "id": "2259270f",
   "metadata": {},
   "outputs": [
    {
     "name": "stdout",
     "output_type": "stream",
     "text": [
      "Mention your python exam marks: 85\n",
      "Yes!! You got A\n"
     ]
    }
   ],
   "source": [
    "python_marks = float(input(\"Mention your python exam marks: \"))\n",
    "\n",
    "if python_marks >= 90:\n",
    "    print(\"Hurrah!!! Your got A+\")\n",
    "elif 80<=python_marks<90:\n",
    "    print(\"Yes!! You got A\")\n",
    "elif 60<=python_marks<80:\n",
    "    print(\"You got A-\")\n",
    "else:\n",
    "    print(\"Your Grade: B\")"
   ]
  },
  {
   "cell_type": "code",
   "execution_count": 79,
   "id": "b65519a2",
   "metadata": {},
   "outputs": [
    {
     "name": "stdout",
     "output_type": "stream",
     "text": [
      "Hurrah!!! Your got A+\n",
      "Very Good\n"
     ]
    }
   ],
   "source": [
    "# Neted if-else\n",
    "python_marks = 94\n",
    "if python_marks >= 90:\n",
    "    print(\"Hurrah!!! Your got A+\")\n",
    "    if python_marks >= 95:\n",
    "        print(\"Excellent Grade\")\n",
    "    elif 93<=python_marks<95:\n",
    "        print(\"Very Good\")\n",
    "    else:\n",
    "        print(\"Good\")\n",
    "elif 80<=python_marks<90:\n",
    "    print(\"Yes!! You got A\")\n",
    "elif 60<=python_marks<80:\n",
    "    print(\"You got A-\")\n",
    "else:\n",
    "    print(\"Your Grade: B\")"
   ]
  },
  {
   "cell_type": "markdown",
   "id": "5d4c1e08",
   "metadata": {},
   "source": [
    "## Loop"
   ]
  },
  {
   "cell_type": "code",
   "execution_count": 77,
   "id": "1dd8388e",
   "metadata": {
    "collapsed": true
   },
   "outputs": [
    {
     "name": "stdout",
     "output_type": "stream",
     "text": [
      "Mention your python exam marks: 67\n",
      "You got A-\n",
      "Mention your python exam marks: 49\n",
      "Your Grade: B\n",
      "Mention your python exam marks: 80\n",
      "Your Grade: B\n",
      "End of the Grading System Testing\n"
     ]
    }
   ],
   "source": [
    "# while\n",
    "total_students = 3\n",
    "cnt = 1\n",
    "\n",
    "while cnt<=total_students:\n",
    "    \n",
    "    python_marks = float(input(\"Mention your python exam marks: \"))\n",
    "\n",
    "    if python_marks >= 90:\n",
    "        print(\"Hurrah!!! Your got A+\")\n",
    "        if python_marks >= 95:\n",
    "            print(\"Your marks above 95\")\n",
    "        elif 80<=python_marks<90:\n",
    "            print(\"Yes!! You got A\")\n",
    "    elif 60<=python_marks<80:\n",
    "        print(\"You got A-\")\n",
    "    else:\n",
    "        print(\"Your Grade: B\")\n",
    "    cnt += 1\n",
    "    \n",
    "print(\"End of the Grading System Testing\")\n"
   ]
  },
  {
   "cell_type": "code",
   "execution_count": 86,
   "id": "9fdac575",
   "metadata": {},
   "outputs": [
    {
     "name": "stdout",
     "output_type": "stream",
     "text": [
      "Mention your python exam marks: 93\n",
      "Hurrah!!! Your got A+\n",
      "Very Good\n",
      "Mention your python exam marks: 68\n",
      "You got A-\n",
      "Mention your python exam marks: 49\n",
      "Your Grade: B\n"
     ]
    }
   ],
   "source": [
    "# for loop\n",
    "for i in range(1, 4):\n",
    "    python_marks = float(input(\"Mention your python exam marks: \"))\n",
    "\n",
    "    if python_marks >= 90:\n",
    "        print(\"Hurrah!!! Your got A+\")\n",
    "        if python_marks >= 95:\n",
    "            print(\"Excellent Grade\")\n",
    "        elif 93<=python_marks<95:\n",
    "            print(\"Very Good\")\n",
    "        else:\n",
    "            print(\"Good\")\n",
    "    elif 60<=python_marks<80:\n",
    "        print(\"You got A-\")\n",
    "    else:\n",
    "        print(\"Your Grade: B\")"
   ]
  },
  {
   "cell_type": "code",
   "execution_count": 90,
   "id": "a9f0a16f",
   "metadata": {},
   "outputs": [],
   "source": [
    "# count positive, negative, zero\n",
    "numbers = [3, 6, 8, -5, -2, -8, 0, 4, 0, 66, 0, -7]"
   ]
  },
  {
   "cell_type": "code",
   "execution_count": 89,
   "id": "d4b53284",
   "metadata": {},
   "outputs": [
    {
     "name": "stdout",
     "output_type": "stream",
     "text": [
      "Positive numbers :  5 \n",
      "Negetive Numbers :  4 \n",
      "Zeros :  3\n"
     ]
    }
   ],
   "source": [
    "numbers =  [3, 6, 8, -5, -2, -8, 0, 4, 0, 66, 0, -7]\n",
    "\n",
    "pos = 0\n",
    "neg = 0\n",
    "zer = 0\n",
    "\n",
    "for i in numbers:\n",
    "  if i < 0:\n",
    "    neg+=1\n",
    "  elif i>0:\n",
    "    pos+=1\n",
    "  else:\n",
    "    zer+=1\n",
    "\n",
    "print(\"Positive numbers : \" , pos , \"\\nNegetive Numbers : \", neg , \"\\nZeros : \", zer)\n"
   ]
  },
  {
   "cell_type": "code",
   "execution_count": null,
   "id": "c6269d2f",
   "metadata": {},
   "outputs": [],
   "source": [
    "*\n",
    "**\n",
    "***\n",
    "****\n",
    "*****\n",
    "******"
   ]
  },
  {
   "cell_type": "code",
   "execution_count": 99,
   "id": "80477dbf",
   "metadata": {},
   "outputs": [
    {
     "name": "stdout",
     "output_type": "stream",
     "text": [
      "*\n",
      "\n",
      "**\n",
      "\n",
      "***\n",
      "\n",
      "****\n",
      "\n",
      "*****\n",
      "\n",
      "******\n",
      "\n"
     ]
    }
   ],
   "source": [
    "for i in range (1, 7):\n",
    "    for j in range(1, i+1): # 1, 2, 3, 4\n",
    "        print(\"*\", end=\"\")\n",
    "    print(\"\\n\")"
   ]
  },
  {
   "cell_type": "code",
   "execution_count": 100,
   "id": "f7776aeb",
   "metadata": {},
   "outputs": [
    {
     "name": "stdout",
     "output_type": "stream",
     "text": [
      "*\n",
      "\n",
      "\n",
      "**\n",
      "\n",
      "\n",
      "***\n",
      "\n",
      "\n",
      "****\n",
      "\n",
      "\n",
      "*****\n",
      "\n",
      "\n",
      "******\n",
      "\n",
      "\n"
     ]
    }
   ],
   "source": [
    "for i in range (1, 7):\n",
    "    print(\"*\"*i)\n",
    "    print(\"\\n\")"
   ]
  },
  {
   "cell_type": "code",
   "execution_count": null,
   "id": "b007d79c",
   "metadata": {},
   "outputs": [],
   "source": [
    "https://iiuc.ac.bd/cse/students/1995\n",
    "https://iiuc.ac.bd/cse/students/1996\n",
    "https://iiuc.ac.bd/cse/students/1997\n",
    ".\n",
    ".\n",
    ".\n",
    ".\n",
    ".\n",
    "https://iiuc.ac.bd/cse/students/2022"
   ]
  },
  {
   "cell_type": "code",
   "execution_count": 107,
   "id": "3d473330",
   "metadata": {
    "collapsed": true
   },
   "outputs": [
    {
     "name": "stdout",
     "output_type": "stream",
     "text": [
      "https://iiuc.ac.bd/cse/students/1995\n",
      "https://iiuc.ac.bd/cse/students/1996\n",
      "https://iiuc.ac.bd/cse/students/1997\n",
      "https://iiuc.ac.bd/cse/students/1998\n",
      "https://iiuc.ac.bd/cse/students/1999\n",
      "https://iiuc.ac.bd/cse/students/2000\n",
      "https://iiuc.ac.bd/cse/students/2001\n",
      "https://iiuc.ac.bd/cse/students/2002\n",
      "https://iiuc.ac.bd/cse/students/2003\n",
      "https://iiuc.ac.bd/cse/students/2004\n",
      "https://iiuc.ac.bd/cse/students/2005\n",
      "https://iiuc.ac.bd/cse/students/2006\n",
      "https://iiuc.ac.bd/cse/students/2007\n",
      "https://iiuc.ac.bd/cse/students/2008\n",
      "https://iiuc.ac.bd/cse/students/2009\n",
      "https://iiuc.ac.bd/cse/students/2010\n",
      "https://iiuc.ac.bd/cse/students/2011\n",
      "https://iiuc.ac.bd/cse/students/2012\n",
      "https://iiuc.ac.bd/cse/students/2013\n",
      "https://iiuc.ac.bd/cse/students/2014\n",
      "https://iiuc.ac.bd/cse/students/2015\n",
      "https://iiuc.ac.bd/cse/students/2016\n",
      "https://iiuc.ac.bd/cse/students/2017\n",
      "https://iiuc.ac.bd/cse/students/2018\n",
      "https://iiuc.ac.bd/cse/students/2019\n",
      "https://iiuc.ac.bd/cse/students/2020\n",
      "https://iiuc.ac.bd/cse/students/2021\n",
      "https://iiuc.ac.bd/cse/students/2022\n"
     ]
    }
   ],
   "source": [
    "url  = \"https://iiuc.ac.bd/cse/students\"\n",
    "for i in range(1995, 2023):\n",
    "#     updated_url = \"https://iiuc.ac.bd/cse/students/\"+str(i)\n",
    "#     updated_url = \"https://iiuc.ac.bd/cse/students/{}\".format(i)\n",
    "#     updated_url = f\"https://iiuc.ac.bd/cse/students/{i}\"\n",
    "\n",
    "#     updated_url = url+str(i)\n",
    "#     updated_url = url.format(i)\n",
    "    updated_url = f\"{url}/{i}\"\n",
    "    print(updated_url)"
   ]
  },
  {
   "cell_type": "code",
   "execution_count": null,
   "id": "24eb623c",
   "metadata": {},
   "outputs": [],
   "source": [
    "*\n",
    "**\n",
    "***\n",
    "****\n",
    "*****\n",
    "******\n",
    "******\n",
    "*****\n",
    "****\n",
    "***\n",
    "**\n",
    "*"
   ]
  },
  {
   "cell_type": "code",
   "execution_count": 119,
   "id": "f9ba3081",
   "metadata": {},
   "outputs": [
    {
     "name": "stdout",
     "output_type": "stream",
     "text": [
      "*\n",
      "**\n",
      "***\n",
      "****\n",
      "*****\n",
      "******\n",
      "******\n",
      "*****\n",
      "****\n",
      "***\n",
      "**\n",
      "*\n"
     ]
    }
   ],
   "source": [
    "for i in range(1, 7):\n",
    "    print(\"*\"*i)\n",
    "for i in reversed(range(1, 7)):\n",
    "    print(\"*\"*i)   "
   ]
  },
  {
   "cell_type": "code",
   "execution_count": 124,
   "id": "4953ba57",
   "metadata": {},
   "outputs": [
    {
     "name": "stdout",
     "output_type": "stream",
     "text": [
      "*\n",
      "\n",
      "**\n",
      "\n",
      "***\n",
      "\n",
      "****\n",
      "\n",
      "*****\n",
      "\n",
      "******\n",
      "\n",
      "******\n",
      "\n",
      "*****\n",
      "\n",
      "****\n",
      "\n",
      "***\n",
      "\n",
      "**\n",
      "\n",
      "*\n",
      "\n"
     ]
    }
   ],
   "source": [
    "# forward pattern printing\n",
    "for i in range(1,7):\n",
    "    for j in range(1, i+1):\n",
    "        print(\"*\",end=\"\")\n",
    "    print(\"\\n\")\n",
    "\n",
    "# reverse pattern printing\n",
    "for i in range(1,7):\n",
    "    for j in range(i,7):\n",
    "        print(\"*\",end=\"\")\n",
    "    print(\"\\n\")"
   ]
  },
  {
   "cell_type": "markdown",
   "id": "2fe316ed",
   "metadata": {},
   "source": [
    "## Function"
   ]
  },
  {
   "cell_type": "code",
   "execution_count": 127,
   "id": "40e30d87",
   "metadata": {},
   "outputs": [],
   "source": [
    "def forward_printing(n):\n",
    "    for i in range(1,n):\n",
    "        for j in range(1, i+1):\n",
    "            print(\"*\",end=\"\")\n",
    "        print(\"\\n\")"
   ]
  },
  {
   "cell_type": "code",
   "execution_count": 130,
   "id": "e9953958",
   "metadata": {
    "collapsed": true
   },
   "outputs": [
    {
     "name": "stdout",
     "output_type": "stream",
     "text": [
      "*\n",
      "\n",
      "**\n",
      "\n",
      "***\n",
      "\n",
      "****\n",
      "\n",
      "*****\n",
      "\n",
      "******\n",
      "\n",
      "None\n"
     ]
    }
   ],
   "source": [
    "a = forward_printing(7)\n",
    "print(a)"
   ]
  },
  {
   "cell_type": "code",
   "execution_count": 131,
   "id": "9717a984",
   "metadata": {},
   "outputs": [],
   "source": [
    "def reverse_printing(n):\n",
    "    for i in range(1,n):\n",
    "        for j in range(i,n):\n",
    "            print(\"*\",end=\"\")\n",
    "        print(\"\\n\")"
   ]
  },
  {
   "cell_type": "code",
   "execution_count": 133,
   "id": "1058692e",
   "metadata": {
    "collapsed": true
   },
   "outputs": [
    {
     "name": "stdout",
     "output_type": "stream",
     "text": [
      "*******\n",
      "\n",
      "******\n",
      "\n",
      "*****\n",
      "\n",
      "****\n",
      "\n",
      "***\n",
      "\n",
      "**\n",
      "\n",
      "*\n",
      "\n"
     ]
    },
    {
     "data": {
      "text/plain": [
       "NoneType"
      ]
     },
     "execution_count": 133,
     "metadata": {},
     "output_type": "execute_result"
    }
   ],
   "source": [
    "type(reverse_printing(8))"
   ]
  },
  {
   "cell_type": "code",
   "execution_count": 146,
   "id": "3d302a4c",
   "metadata": {},
   "outputs": [],
   "source": [
    "# max(0, a)\n",
    "def zero_or_maximum(n):\n",
    "    if n <= 0:\n",
    "        return 0\n",
    "    else:\n",
    "        return n"
   ]
  },
  {
   "cell_type": "code",
   "execution_count": 147,
   "id": "c3c62471",
   "metadata": {},
   "outputs": [
    {
     "data": {
      "text/plain": [
       "(0, int)"
      ]
     },
     "execution_count": 147,
     "metadata": {},
     "output_type": "execute_result"
    }
   ],
   "source": [
    "result = zero_or_maximum(-7)\n",
    "result, type(result)"
   ]
  },
  {
   "cell_type": "code",
   "execution_count": 153,
   "id": "d0fb0ee4",
   "metadata": {},
   "outputs": [],
   "source": [
    "def grading_system(math, programming, attendence=5, assignment=4):\n",
    "    total = math + programming + attendence + assignment\n",
    "    return total/4"
   ]
  },
  {
   "cell_type": "code",
   "execution_count": 155,
   "id": "fca988c4",
   "metadata": {},
   "outputs": [
    {
     "data": {
      "text/plain": [
       "44.75"
      ]
     },
     "execution_count": 155,
     "metadata": {},
     "output_type": "execute_result"
    }
   ],
   "source": [
    "grading_system(68, 93, 10, 8)"
   ]
  },
  {
   "cell_type": "code",
   "execution_count": 158,
   "id": "d1f5aaf5",
   "metadata": {},
   "outputs": [],
   "source": [
    "# w = w - lr * dw\n",
    "def weight_change(w, dw, lr=0.01):\n",
    "    w = w - lr * dw\n",
    "    return w"
   ]
  },
  {
   "cell_type": "code",
   "execution_count": 159,
   "id": "e9084a3b",
   "metadata": {},
   "outputs": [
    {
     "data": {
      "text/plain": [
       "0.49998"
      ]
     },
     "execution_count": 159,
     "metadata": {},
     "output_type": "execute_result"
    }
   ],
   "source": [
    "weight_change(0.5, 0.002)"
   ]
  },
  {
   "cell_type": "code",
   "execution_count": 195,
   "id": "bc109e7b",
   "metadata": {},
   "outputs": [],
   "source": [
    "def forward_pass(w, x, b):\n",
    "    '''\n",
    "    Input\n",
    "        w = weight (float)\n",
    "        x = input_feature (float)\n",
    "        b = bias (float)\n",
    "    output \n",
    "        w*x + b\n",
    "    '''\n",
    "    result = w*x + b\n",
    "    return result"
   ]
  },
  {
   "cell_type": "code",
   "execution_count": 197,
   "id": "5f3e36ff",
   "metadata": {},
   "outputs": [
    {
     "data": {
      "text/plain": [
       "701.0"
      ]
     },
     "execution_count": 197,
     "metadata": {},
     "output_type": "execute_result"
    }
   ],
   "source": [
    "forward_pass(0.5, 1400, 1)"
   ]
  },
  {
   "cell_type": "code",
   "execution_count": null,
   "id": "eee9a6f4",
   "metadata": {},
   "outputs": [],
   "source": []
  },
  {
   "cell_type": "code",
   "execution_count": 166,
   "id": "776ec9aa",
   "metadata": {},
   "outputs": [],
   "source": [
    "def loss_calculation(y, y_head):\n",
    "    '''\n",
    "    Input\n",
    "        y = real value\n",
    "        y_head = predicted value\n",
    "    Output\n",
    "        (y-y_head)^2\n",
    "    '''\n",
    "    return (y-y_head)*(y-y_head)"
   ]
  },
  {
   "cell_type": "code",
   "execution_count": 172,
   "id": "f84f3821",
   "metadata": {},
   "outputs": [],
   "source": [
    "def gradiant_w(y, y_head, x):\n",
    "    '''\n",
    "    Input\n",
    "        y = real value\n",
    "        y_head = predicted value\n",
    "        x = input_feature\n",
    "    Output\n",
    "        -2*(y-y_head)*x\n",
    "    '''\n",
    "    return -2*(y-y_head)*x"
   ]
  },
  {
   "cell_type": "code",
   "execution_count": 173,
   "id": "cd6fc0c9",
   "metadata": {},
   "outputs": [],
   "source": [
    "def gradiant_b(y, y_head):\n",
    "    '''\n",
    "    Input\n",
    "        y = real value\n",
    "        y_head = predicted value\n",
    "        x = input_feature\n",
    "    Output\n",
    "        -2*(y-y_head)\n",
    "    '''\n",
    "    return -2*(y-y_head)"
   ]
  },
  {
   "cell_type": "code",
   "execution_count": 162,
   "id": "798f26bd",
   "metadata": {},
   "outputs": [],
   "source": [
    "import math"
   ]
  },
  {
   "cell_type": "code",
   "execution_count": 164,
   "id": "c49ed0d5",
   "metadata": {},
   "outputs": [
    {
     "data": {
      "text/plain": [
       "20.085536923187668"
      ]
     },
     "execution_count": 164,
     "metadata": {},
     "output_type": "execute_result"
    }
   ],
   "source": [
    "math.exp(3)"
   ]
  },
  {
   "cell_type": "code",
   "execution_count": 168,
   "id": "7a6701ca",
   "metadata": {},
   "outputs": [],
   "source": [
    "def sigmoid(x):\n",
    "    '''\n",
    "    Input\n",
    "        x = any int/float value\n",
    "    Output\n",
    "        1/(1+e^-x)\n",
    "        \n",
    "    '''\n",
    "    return 1/1+math.exp(-x)"
   ]
  },
  {
   "cell_type": "code",
   "execution_count": 170,
   "id": "8845ed72",
   "metadata": {},
   "outputs": [],
   "source": [
    "def update_weight(w, dw, lr=0.001):\n",
    "    '''\n",
    "    Input\n",
    "        w = weight\n",
    "        dw = gradiant_weight\n",
    "        lr = learning_rate\n",
    "    Output\n",
    "        w - lr * dw\n",
    "    '''\n",
    "    return w - lr * dw"
   ]
  },
  {
   "cell_type": "code",
   "execution_count": 174,
   "id": "b35cd3a5",
   "metadata": {},
   "outputs": [],
   "source": [
    "def update_bias(b, db, lr=0.001):\n",
    "    '''\n",
    "    Input\n",
    "        w = weight\n",
    "        dw = gradiant_weight\n",
    "        lr = learning_rate\n",
    "    Output\n",
    "        w - lr * dw\n",
    "    '''\n",
    "    return b - lr * db"
   ]
  },
  {
   "cell_type": "code",
   "execution_count": 161,
   "id": "40fc5863",
   "metadata": {},
   "outputs": [],
   "source": [
    "import random"
   ]
  },
  {
   "cell_type": "code",
   "execution_count": 193,
   "id": "224d053e",
   "metadata": {},
   "outputs": [],
   "source": [
    "def main(x, y):\n",
    "    '''\n",
    "    Input\n",
    "        x = input feature\n",
    "        y = real value\n",
    "    Output\n",
    "        None\n",
    "    Task\n",
    "        0. Do the following task 1-4 50 times\n",
    "        1. call forward_pass function and save the returned value in a variable say \"y_head\"\n",
    "        2. calculate the loss using y and y_head (loss_calculation)\n",
    "        3. find out the gradiant and save in a variable say \"dw\"\n",
    "        4. update w with the previous gradiant output \"dw\"\n",
    "        5. Return w, b\n",
    "    '''\n",
    "    w = random.random()\n",
    "    b = 1\n",
    "    for i in range(50):\n",
    "        y_head = forward_pass(w, x, b)\n",
    "        loss = loss_calculation(y, y_head)\n",
    "        dw = gradiant_w(y, y_head, x)\n",
    "        db = gradiant_b(y, y_head)\n",
    "        w = update_weight(w, dw)\n",
    "        b = update_bias(b, db)\n",
    "        print(w, b)\n",
    "    return w, b\n",
    "        "
   ]
  },
  {
   "cell_type": "code",
   "execution_count": 194,
   "id": "6b766dea",
   "metadata": {
    "collapsed": true
   },
   "outputs": [
    {
     "name": "stdout",
     "output_type": "stream",
     "text": [
      "278.87724187433884 3.783023598677251\n",
      "-5009.424200332173 -49.09999082338787\n",
      "95478.87980447598 955.7830492246935\n",
      "-1813999.8728948885 -18139.00447776895\n",
      "34469915.38589844 344700.1481101643\n",
      "-654997042.3616924 -6549969.429365745\n",
      "12446254088.75803 124462541.88183148\n",
      "-236503719904.77896 -2365037198.053538\n",
      "4494043685920.411 44940436860.198364\n",
      "-85395818119569.86 -853958181194.7042\n",
      "1622691335908356.5 16226913359084.557\n",
      "-3.08343807649303e+16 -308343807649302.0\n",
      "5.859149032952058e+17 5859149032952060.0\n",
      "-1.1133554992415502e+19 -1.11335549924155e+17\n",
      "2.115598119658794e+20 2.115598119658794e+18\n",
      "-4.02005954697564e+21 -4.02005954697564e+19\n",
      "7.638917151163112e+22 7.638917151163112e+20\n",
      "-1.4515470370640143e+24 -1.4515470370640146e+22\n",
      "2.7582296798290403e+25 2.75822967982904e+23\n",
      "-5.2411880376111425e+26 -5.241188037611142e+24\n",
      "9.959305509068693e+27 9.959305509068692e+25\n",
      "-1.892467232833233e+29 -1.892467232833233e+27\n",
      "3.5960662358297087e+30 3.5960662358297088e+28\n",
      "-6.833245061323613e+31 -6.833245061323612e+29\n",
      "1.298453226552713e+33 1.2984532265527129e+31\n",
      "-2.467320821095465e+34 -2.4673208210954655e+32\n",
      "4.688403024245603e+35 4.688403024245603e+33\n",
      "-8.908903426671495e+36 -8.908903426671495e+34\n",
      "1.6928698291361179e+38 1.6928698291361176e+36\n",
      "-3.216791249324451e+39 -3.2167912493244512e+37\n",
      "6.112546731966322e+40 6.1125467319663216e+38\n",
      "-1.1615061300082405e+42 -1.1615061300082408e+40\n",
      "2.2070939482416584e+43 2.2070939482416584e+41\n",
      "-4.1939199204487994e+44 -4.1939199204488e+42\n",
      "7.969286632836809e+45 7.969286632836809e+43\n",
      "-1.5143238459716504e+47 -1.5143238459716505e+45\n",
      "2.87751817211533e+48 2.87751817211533e+46\n",
      "-5.46786003065355e+49 -5.46786003065355e+47\n",
      "1.0390027630247876e+51 1.0390027630247876e+49\n",
      "-1.9743130502997017e+52 -1.9743130502997017e+50\n",
      "3.7515896581794933e+53 3.751589658179494e+51\n",
      "-7.128770668472672e+54 -7.128770668472673e+52\n",
      "1.3546090024231772e+56 1.3546090024231772e+54\n",
      "-2.5740280264045212e+57 -2.5740280264045217e+55\n",
      "4.8911680557738715e+58 4.891168055773871e+56\n",
      "-9.29419753958151e+59 -9.294197539581511e+57\n",
      "1.7660834164712784e+61 1.7660834164712784e+59\n",
      "-3.355911707978724e+62 -3.3559117079787234e+60\n",
      "6.376903427501171e+63 6.376903427501172e+61\n",
      "-1.2117391892937724e+65 -1.2117391892937725e+63\n",
      "-1.2117391892937724e+65 -1.2117391892937725e+63\n"
     ]
    }
   ],
   "source": [
    "x = 100\n",
    "y = 1450\n",
    "w, b = main(x, y)\n",
    "print(w, b)"
   ]
  },
  {
   "cell_type": "code",
   "execution_count": null,
   "id": "98d22a7a",
   "metadata": {},
   "outputs": [],
   "source": []
  }
 ],
 "metadata": {
  "kernelspec": {
   "display_name": "Python 3 (ipykernel)",
   "language": "python",
   "name": "python3"
  },
  "language_info": {
   "codemirror_mode": {
    "name": "ipython",
    "version": 3
   },
   "file_extension": ".py",
   "mimetype": "text/x-python",
   "name": "python",
   "nbconvert_exporter": "python",
   "pygments_lexer": "ipython3",
   "version": "3.9.12"
  }
 },
 "nbformat": 4,
 "nbformat_minor": 5
}
