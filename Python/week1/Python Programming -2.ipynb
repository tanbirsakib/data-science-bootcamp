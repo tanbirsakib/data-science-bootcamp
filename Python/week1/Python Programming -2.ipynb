{
 "cells": [
  {
   "cell_type": "markdown",
   "id": "33a3f3f2",
   "metadata": {},
   "source": [
    "# Built-in Data Type"
   ]
  },
  {
   "cell_type": "markdown",
   "id": "a43ba2c5",
   "metadata": {},
   "source": [
    "## List"
   ]
  },
  {
   "cell_type": "markdown",
   "id": "243a9179",
   "metadata": {},
   "source": [
    "### List Creation"
   ]
  },
  {
   "cell_type": "code",
   "execution_count": 2,
   "id": "9cd6a3db",
   "metadata": {},
   "outputs": [],
   "source": [
    "# List similar to array\\\n",
    "empty_lst  = []\n",
    "shopping_list_qunatity = [3, 7, 2, 4]\n",
    "shopping_lst_name = [\"Onion\", \"Potato\", \"Orange\", \"Apple\"]\n",
    "shopping_lst = [\"onion\", 3, \"potato\", 7, \"orange\", 2.5, \"apple\", 1.5, True]"
   ]
  },
  {
   "cell_type": "code",
   "execution_count": 3,
   "id": "7397a88d",
   "metadata": {},
   "outputs": [
    {
     "name": "stdout",
     "output_type": "stream",
     "text": [
      "[3, 7, 2, 4]\n"
     ]
    }
   ],
   "source": [
    "print(shopping_list_qunatity)"
   ]
  },
  {
   "cell_type": "code",
   "execution_count": 4,
   "id": "f045e929",
   "metadata": {},
   "outputs": [
    {
     "name": "stdout",
     "output_type": "stream",
     "text": [
      "['Onion', 'Potato', 'Orange', 'Apple']\n"
     ]
    }
   ],
   "source": [
    "print(shopping_lst_name)"
   ]
  },
  {
   "cell_type": "code",
   "execution_count": 5,
   "id": "ffda98c6",
   "metadata": {},
   "outputs": [
    {
     "name": "stdout",
     "output_type": "stream",
     "text": [
      "['onion', 3, 'potato', 7, 'orange', 2.5, 'apple', 1.5, True]\n"
     ]
    }
   ],
   "source": [
    "print(shopping_lst)"
   ]
  },
  {
   "cell_type": "code",
   "execution_count": 6,
   "id": "7034ff8c",
   "metadata": {},
   "outputs": [],
   "source": [
    "# 2-D list\n",
    "\n",
    "big_shopping_lst = [shopping_lst, [\"pen\", 2, \"khata\", \"5\"]]\n",
    "two_dimenstional_lst = [[2, 4, 7, 1], 3, 7.5, 6, [\"banana\", \"apple\"], \"orange\"]"
   ]
  },
  {
   "cell_type": "code",
   "execution_count": 7,
   "id": "e697ff96",
   "metadata": {},
   "outputs": [
    {
     "name": "stdout",
     "output_type": "stream",
     "text": [
      "[['onion', 3, 'potato', 7, 'orange', 2.5, 'apple', 1.5, True], ['pen', 2, 'khata', '5']]\n"
     ]
    }
   ],
   "source": [
    "print(big_shopping_lst)"
   ]
  },
  {
   "cell_type": "code",
   "execution_count": 8,
   "id": "2386a5eb",
   "metadata": {},
   "outputs": [
    {
     "name": "stdout",
     "output_type": "stream",
     "text": [
      "[[2, 4, 7, 1], 3, 7.5, 6, ['banana', 'apple'], 'orange']\n"
     ]
    }
   ],
   "source": [
    "print(two_dimenstional_lst)"
   ]
  },
  {
   "cell_type": "markdown",
   "id": "dc81cb95",
   "metadata": {},
   "source": [
    "## Accessing list"
   ]
  },
  {
   "cell_type": "code",
   "execution_count": 9,
   "id": "9ce04c87",
   "metadata": {},
   "outputs": [
    {
     "name": "stdout",
     "output_type": "stream",
     "text": [
      "['onion', 3, 'potato', 7, 'orange', 2.5, 'apple', 1.5, True]\n"
     ]
    }
   ],
   "source": [
    "print(shopping_lst)"
   ]
  },
  {
   "cell_type": "code",
   "execution_count": 10,
   "id": "f89ea3e3",
   "metadata": {},
   "outputs": [
    {
     "data": {
      "text/plain": [
       "'orange'"
      ]
     },
     "execution_count": 10,
     "metadata": {},
     "output_type": "execute_result"
    }
   ],
   "source": [
    "shopping_lst[4]"
   ]
  },
  {
   "cell_type": "code",
   "execution_count": 11,
   "id": "9a580499",
   "metadata": {},
   "outputs": [
    {
     "data": {
      "text/plain": [
       "['potato', 7, 'orange', 2.5, 'apple', 1.5, True]"
      ]
     },
     "execution_count": 11,
     "metadata": {},
     "output_type": "execute_result"
    }
   ],
   "source": [
    "shopping_lst[2:]"
   ]
  },
  {
   "cell_type": "code",
   "execution_count": 12,
   "id": "9dcffc1e",
   "metadata": {},
   "outputs": [
    {
     "data": {
      "text/plain": [
       "['potato', 7, 'orange', 2.5]"
      ]
     },
     "execution_count": 12,
     "metadata": {},
     "output_type": "execute_result"
    }
   ],
   "source": [
    "shopping_lst[2:6]"
   ]
  },
  {
   "cell_type": "code",
   "execution_count": 13,
   "id": "4df00799",
   "metadata": {},
   "outputs": [
    {
     "data": {
      "text/plain": [
       "['onion', 7, 'apple']"
      ]
     },
     "execution_count": 13,
     "metadata": {},
     "output_type": "execute_result"
    }
   ],
   "source": [
    "shopping_lst[::3]"
   ]
  },
  {
   "cell_type": "code",
   "execution_count": 14,
   "id": "7435d941",
   "metadata": {},
   "outputs": [
    {
     "name": "stdout",
     "output_type": "stream",
     "text": [
      "[['onion', 3, 'potato', 7, 'orange', 2.5, 'apple', 1.5, True], ['pen', 2, 'khata', '5']]\n"
     ]
    }
   ],
   "source": [
    "print(big_shopping_lst)"
   ]
  },
  {
   "cell_type": "code",
   "execution_count": 15,
   "id": "2f53ccbc",
   "metadata": {},
   "outputs": [
    {
     "data": {
      "text/plain": [
       "['onion', 'potato', 'orange', 'apple', True]"
      ]
     },
     "execution_count": 15,
     "metadata": {},
     "output_type": "execute_result"
    }
   ],
   "source": [
    "big_shopping_lst[0][::2]"
   ]
  },
  {
   "cell_type": "code",
   "execution_count": 16,
   "id": "aad224dc",
   "metadata": {},
   "outputs": [
    {
     "data": {
      "text/plain": [
       "['pen', 'khata']"
      ]
     },
     "execution_count": 16,
     "metadata": {},
     "output_type": "execute_result"
    }
   ],
   "source": [
    "big_shopping_lst[1][0::2]"
   ]
  },
  {
   "cell_type": "code",
   "execution_count": 17,
   "id": "9296a701",
   "metadata": {},
   "outputs": [
    {
     "data": {
      "text/plain": [
       "['onion', 3, 'potato', 7, 'orange', 2.5, 'apple', 1.5, True]"
      ]
     },
     "execution_count": 17,
     "metadata": {},
     "output_type": "execute_result"
    }
   ],
   "source": [
    "shopping_lst"
   ]
  },
  {
   "cell_type": "code",
   "execution_count": 18,
   "id": "9793597d",
   "metadata": {},
   "outputs": [
    {
     "data": {
      "text/plain": [
       "[True, 1.5, 'apple', 2.5, 'orange', 7, 'potato', 3, 'onion']"
      ]
     },
     "execution_count": 18,
     "metadata": {},
     "output_type": "execute_result"
    }
   ],
   "source": [
    "shopping_lst[::-1]"
   ]
  },
  {
   "cell_type": "markdown",
   "id": "0243eb1c",
   "metadata": {},
   "source": [
    "### built-in function"
   ]
  },
  {
   "cell_type": "code",
   "execution_count": 19,
   "id": "dc5e4995",
   "metadata": {},
   "outputs": [
    {
     "data": {
      "text/plain": [
       "2"
      ]
     },
     "execution_count": 19,
     "metadata": {},
     "output_type": "execute_result"
    }
   ],
   "source": [
    "len(big_shopping_lst)"
   ]
  },
  {
   "cell_type": "code",
   "execution_count": 20,
   "id": "cd3e1ff1",
   "metadata": {},
   "outputs": [
    {
     "data": {
      "text/plain": [
       "9"
      ]
     },
     "execution_count": 20,
     "metadata": {},
     "output_type": "execute_result"
    }
   ],
   "source": [
    "len(shopping_lst)"
   ]
  },
  {
   "cell_type": "code",
   "execution_count": 21,
   "id": "1fded9a2",
   "metadata": {},
   "outputs": [],
   "source": [
    "shopping_lst.append(\"abc\")"
   ]
  },
  {
   "cell_type": "code",
   "execution_count": 22,
   "id": "2e0a84c7",
   "metadata": {},
   "outputs": [
    {
     "data": {
      "text/plain": [
       "['onion', 3, 'potato', 7, 'orange', 2.5, 'apple', 1.5, True, 'abc']"
      ]
     },
     "execution_count": 22,
     "metadata": {},
     "output_type": "execute_result"
    }
   ],
   "source": [
    "shopping_lst"
   ]
  },
  {
   "cell_type": "code",
   "execution_count": 23,
   "id": "520f7b3f",
   "metadata": {},
   "outputs": [
    {
     "name": "stdout",
     "output_type": "stream",
     "text": [
      "['onion', 3, 'potato', 7, 'orange', 2.5, 'apple', 1.5, True, 'abc', 'abc']\n"
     ]
    }
   ],
   "source": [
    "shopping_lst.append(\"abc\")\n",
    "print(shopping_lst)"
   ]
  },
  {
   "cell_type": "code",
   "execution_count": 24,
   "id": "9f8c947c",
   "metadata": {},
   "outputs": [
    {
     "data": {
      "text/plain": [
       "2"
      ]
     },
     "execution_count": 24,
     "metadata": {},
     "output_type": "execute_result"
    }
   ],
   "source": [
    "shopping_lst.count(\"abc\")"
   ]
  },
  {
   "cell_type": "code",
   "execution_count": 25,
   "id": "c510c4ba",
   "metadata": {},
   "outputs": [
    {
     "data": {
      "text/plain": [
       "4"
      ]
     },
     "execution_count": 25,
     "metadata": {},
     "output_type": "execute_result"
    }
   ],
   "source": [
    "shopping_lst.index(\"orange\")"
   ]
  },
  {
   "cell_type": "code",
   "execution_count": 26,
   "id": "ba6a96c9",
   "metadata": {},
   "outputs": [
    {
     "name": "stdout",
     "output_type": "stream",
     "text": [
      "['onion', 3, 'potato', 7, 'orange', 2.5, 'apple', 1.5, True, 'abc', 'abc']\n"
     ]
    }
   ],
   "source": [
    "print(shopping_lst)"
   ]
  },
  {
   "cell_type": "code",
   "execution_count": 27,
   "id": "5b57720b",
   "metadata": {},
   "outputs": [],
   "source": [
    "shopping_lst.reverse()"
   ]
  },
  {
   "cell_type": "code",
   "execution_count": 28,
   "id": "a9554482",
   "metadata": {},
   "outputs": [
    {
     "data": {
      "text/plain": [
       "['abc', 'abc', True, 1.5, 'apple', 2.5, 'orange', 7, 'potato', 3, 'onion']"
      ]
     },
     "execution_count": 28,
     "metadata": {},
     "output_type": "execute_result"
    }
   ],
   "source": [
    "shopping_lst"
   ]
  },
  {
   "cell_type": "code",
   "execution_count": 29,
   "id": "b4ddaf86",
   "metadata": {},
   "outputs": [],
   "source": [
    "shopping_lst = shopping_lst.remove(\"abc\")"
   ]
  },
  {
   "cell_type": "code",
   "execution_count": 30,
   "id": "ca3a652c",
   "metadata": {},
   "outputs": [
    {
     "ename": "AttributeError",
     "evalue": "'NoneType' object has no attribute 'remove'",
     "output_type": "error",
     "traceback": [
      "\u001b[1;31m---------------------------------------------------------------------------\u001b[0m",
      "\u001b[1;31mAttributeError\u001b[0m                            Traceback (most recent call last)",
      "Input \u001b[1;32mIn [30]\u001b[0m, in \u001b[0;36m<cell line: 1>\u001b[1;34m()\u001b[0m\n\u001b[1;32m----> 1\u001b[0m \u001b[43mshopping_lst\u001b[49m\u001b[38;5;241;43m.\u001b[39;49m\u001b[43mremove\u001b[49m(\u001b[38;5;124m\"\u001b[39m\u001b[38;5;124mabc\u001b[39m\u001b[38;5;124m\"\u001b[39m)\n",
      "\u001b[1;31mAttributeError\u001b[0m: 'NoneType' object has no attribute 'remove'"
     ]
    }
   ],
   "source": [
    "shopping_lst.remove(\"abc\")"
   ]
  },
  {
   "cell_type": "code",
   "execution_count": 36,
   "id": "9c23523e",
   "metadata": {},
   "outputs": [],
   "source": [
    "shopping_lst"
   ]
  },
  {
   "cell_type": "code",
   "execution_count": 33,
   "id": "79461aed",
   "metadata": {},
   "outputs": [
    {
     "ename": "TypeError",
     "evalue": "'NoneType' object does not support item assignment",
     "output_type": "error",
     "traceback": [
      "\u001b[1;31m---------------------------------------------------------------------------\u001b[0m",
      "\u001b[1;31mTypeError\u001b[0m                                 Traceback (most recent call last)",
      "Input \u001b[1;32mIn [33]\u001b[0m, in \u001b[0;36m<cell line: 1>\u001b[1;34m()\u001b[0m\n\u001b[1;32m----> 1\u001b[0m shopping_lst[\u001b[38;5;241m3\u001b[39m] \u001b[38;5;241m=\u001b[39m \u001b[38;5;241m7\u001b[39m\n\u001b[0;32m      2\u001b[0m shopping_lst[\u001b[38;5;241m2\u001b[39m] \u001b[38;5;241m=\u001b[39m \u001b[38;5;124m\"\u001b[39m\u001b[38;5;124mchanged_item\u001b[39m\u001b[38;5;124m\"\u001b[39m\n\u001b[0;32m      3\u001b[0m shopping_lst\n",
      "\u001b[1;31mTypeError\u001b[0m: 'NoneType' object does not support item assignment"
     ]
    }
   ],
   "source": [
    "shopping_lst[3] = 7\n",
    "shopping_lst[2] = \"changed_item\"\n",
    "shopping_lst"
   ]
  },
  {
   "cell_type": "code",
   "execution_count": 34,
   "id": "706d94b0",
   "metadata": {},
   "outputs": [
    {
     "ename": "TypeError",
     "evalue": "'NoneType' object is not iterable",
     "output_type": "error",
     "traceback": [
      "\u001b[1;31m---------------------------------------------------------------------------\u001b[0m",
      "\u001b[1;31mTypeError\u001b[0m                                 Traceback (most recent call last)",
      "Input \u001b[1;32mIn [34]\u001b[0m, in \u001b[0;36m<cell line: 1>\u001b[1;34m()\u001b[0m\n\u001b[1;32m----> 1\u001b[0m \u001b[38;5;28;01mfor\u001b[39;00m i \u001b[38;5;129;01min\u001b[39;00m shopping_lst:\n\u001b[0;32m      2\u001b[0m     \u001b[38;5;28mprint\u001b[39m(i)\n",
      "\u001b[1;31mTypeError\u001b[0m: 'NoneType' object is not iterable"
     ]
    }
   ],
   "source": [
    "for i in shopping_lst:\n",
    "    print(i)"
   ]
  },
  {
   "cell_type": "code",
   "execution_count": 35,
   "id": "9955eafa",
   "metadata": {},
   "outputs": [
    {
     "ename": "TypeError",
     "evalue": "argument of type 'NoneType' is not iterable",
     "output_type": "error",
     "traceback": [
      "\u001b[1;31m---------------------------------------------------------------------------\u001b[0m",
      "\u001b[1;31mTypeError\u001b[0m                                 Traceback (most recent call last)",
      "Input \u001b[1;32mIn [35]\u001b[0m, in \u001b[0;36m<cell line: 1>\u001b[1;34m()\u001b[0m\n\u001b[1;32m----> 1\u001b[0m \u001b[38;5;124;43m\"\u001b[39;49m\u001b[38;5;124;43mapple\u001b[39;49m\u001b[38;5;124;43m\"\u001b[39;49m\u001b[43m \u001b[49m\u001b[38;5;129;43;01min\u001b[39;49;00m\u001b[43m \u001b[49m\u001b[43mshopping_lst\u001b[49m\n",
      "\u001b[1;31mTypeError\u001b[0m: argument of type 'NoneType' is not iterable"
     ]
    }
   ],
   "source": [
    "\"apple\" in shopping_lst"
   ]
  },
  {
   "cell_type": "code",
   "execution_count": 37,
   "id": "292fdd8b",
   "metadata": {},
   "outputs": [
    {
     "ename": "TypeError",
     "evalue": "argument of type 'NoneType' is not iterable",
     "output_type": "error",
     "traceback": [
      "\u001b[1;31m---------------------------------------------------------------------------\u001b[0m",
      "\u001b[1;31mTypeError\u001b[0m                                 Traceback (most recent call last)",
      "Input \u001b[1;32mIn [37]\u001b[0m, in \u001b[0;36m<cell line: 1>\u001b[1;34m()\u001b[0m\n\u001b[1;32m----> 1\u001b[0m \u001b[38;5;124;43m\"\u001b[39;49m\u001b[38;5;124;43mbanana\u001b[39;49m\u001b[38;5;124;43m\"\u001b[39;49m\u001b[43m \u001b[49m\u001b[38;5;129;43;01min\u001b[39;49;00m\u001b[43m \u001b[49m\u001b[43mshopping_lst\u001b[49m\n",
      "\u001b[1;31mTypeError\u001b[0m: argument of type 'NoneType' is not iterable"
     ]
    }
   ],
   "source": [
    "\"banana\" in shopping_lst"
   ]
  },
  {
   "cell_type": "code",
   "execution_count": 163,
   "id": "f6278c0f",
   "metadata": {},
   "outputs": [],
   "source": [
    "shopping_lst.insert(2, \"banana\")"
   ]
  },
  {
   "cell_type": "code",
   "execution_count": 164,
   "id": "865f8237",
   "metadata": {
    "collapsed": true
   },
   "outputs": [
    {
     "data": {
      "text/plain": [
       "['onion',\n",
       " 3,\n",
       " 'banana',\n",
       " 'changed_item',\n",
       " 7,\n",
       " 'orange',\n",
       " 2.5,\n",
       " 'apple',\n",
       " 1.5,\n",
       " True,\n",
       " 'abc']"
      ]
     },
     "execution_count": 164,
     "metadata": {},
     "output_type": "execute_result"
    }
   ],
   "source": [
    "shopping_lst"
   ]
  },
  {
   "cell_type": "markdown",
   "id": "7076691a",
   "metadata": {},
   "source": [
    "## Tuple"
   ]
  },
  {
   "cell_type": "code",
   "execution_count": 38,
   "id": "166c89ac",
   "metadata": {},
   "outputs": [],
   "source": [
    "empty_t = ()"
   ]
  },
  {
   "cell_type": "code",
   "execution_count": 89,
   "id": "0d946dee",
   "metadata": {},
   "outputs": [
    {
     "data": {
      "text/plain": [
       "tuple"
      ]
     },
     "execution_count": 89,
     "metadata": {},
     "output_type": "execute_result"
    }
   ],
   "source": [
    "type(empty_t)"
   ]
  },
  {
   "cell_type": "code",
   "execution_count": 90,
   "id": "0b3db4bd",
   "metadata": {},
   "outputs": [],
   "source": [
    "t = (2, 6.7, \"str\")"
   ]
  },
  {
   "cell_type": "code",
   "execution_count": 91,
   "id": "0c596e52",
   "metadata": {},
   "outputs": [
    {
     "data": {
      "text/plain": [
       "(2, 6.7, 'str')"
      ]
     },
     "execution_count": 91,
     "metadata": {},
     "output_type": "execute_result"
    }
   ],
   "source": [
    "t"
   ]
  },
  {
   "cell_type": "code",
   "execution_count": 92,
   "id": "5514ccd8",
   "metadata": {},
   "outputs": [
    {
     "data": {
      "text/plain": [
       "'str'"
      ]
     },
     "execution_count": 92,
     "metadata": {},
     "output_type": "execute_result"
    }
   ],
   "source": [
    "t[2]"
   ]
  },
  {
   "cell_type": "code",
   "execution_count": 95,
   "id": "ee9f226d",
   "metadata": {
    "collapsed": true
   },
   "outputs": [
    {
     "ename": "TypeError",
     "evalue": "'tuple' object does not support item assignment",
     "output_type": "error",
     "traceback": [
      "\u001b[1;31m---------------------------------------------------------------------------\u001b[0m",
      "\u001b[1;31mTypeError\u001b[0m                                 Traceback (most recent call last)",
      "Input \u001b[1;32mIn [95]\u001b[0m, in \u001b[0;36m<cell line: 1>\u001b[1;34m()\u001b[0m\n\u001b[1;32m----> 1\u001b[0m t[\u001b[38;5;241m2\u001b[39m] \u001b[38;5;241m=\u001b[39m \u001b[38;5;241m10\u001b[39m\n",
      "\u001b[1;31mTypeError\u001b[0m: 'tuple' object does not support item assignment"
     ]
    }
   ],
   "source": [
    "t[2] = 10"
   ]
  },
  {
   "cell_type": "markdown",
   "id": "0dacacd1",
   "metadata": {},
   "source": [
    "## Set"
   ]
  },
  {
   "cell_type": "code",
   "execution_count": 39,
   "id": "a3497ce1",
   "metadata": {},
   "outputs": [
    {
     "data": {
      "text/plain": [
       "set"
      ]
     },
     "execution_count": 39,
     "metadata": {},
     "output_type": "execute_result"
    }
   ],
   "source": [
    "empty_set = set()\n",
    "type(empty_set)\n"
   ]
  },
  {
   "cell_type": "code",
   "execution_count": 40,
   "id": "06611701",
   "metadata": {},
   "outputs": [],
   "source": [
    "s = {2, 6, 8, \"str\"}"
   ]
  },
  {
   "cell_type": "code",
   "execution_count": 41,
   "id": "a60fff95",
   "metadata": {},
   "outputs": [
    {
     "data": {
      "text/plain": [
       "{2, 6, 8, 'str'}"
      ]
     },
     "execution_count": 41,
     "metadata": {},
     "output_type": "execute_result"
    }
   ],
   "source": [
    "s"
   ]
  },
  {
   "cell_type": "code",
   "execution_count": 42,
   "id": "ff5a04d4",
   "metadata": {},
   "outputs": [],
   "source": [
    "s = {2, 6, 8, 2, \"str\", 2}\n",
    "c = {2, 5, 9}"
   ]
  },
  {
   "cell_type": "code",
   "execution_count": 43,
   "id": "c9fa8f75",
   "metadata": {},
   "outputs": [
    {
     "data": {
      "text/plain": [
       "{2, 5, 6, 8, 9, 'str'}"
      ]
     },
     "execution_count": 43,
     "metadata": {},
     "output_type": "execute_result"
    }
   ],
   "source": [
    "s.union(c)"
   ]
  },
  {
   "cell_type": "code",
   "execution_count": 44,
   "id": "6a06ad95",
   "metadata": {},
   "outputs": [
    {
     "data": {
      "text/plain": [
       "{2}"
      ]
     },
     "execution_count": 44,
     "metadata": {},
     "output_type": "execute_result"
    }
   ],
   "source": [
    "s.intersection(c)"
   ]
  },
  {
   "cell_type": "code",
   "execution_count": 45,
   "id": "dde4966e",
   "metadata": {},
   "outputs": [
    {
     "data": {
      "text/plain": [
       "{6, 8, 'str'}"
      ]
     },
     "execution_count": 45,
     "metadata": {},
     "output_type": "execute_result"
    }
   ],
   "source": [
    "s-c"
   ]
  },
  {
   "cell_type": "markdown",
   "id": "f575c39e",
   "metadata": {},
   "source": [
    "## Dictionary"
   ]
  },
  {
   "cell_type": "code",
   "execution_count": 46,
   "id": "2f0d0fd9",
   "metadata": {},
   "outputs": [
    {
     "data": {
      "text/plain": [
       "dict"
      ]
     },
     "execution_count": 46,
     "metadata": {},
     "output_type": "execute_result"
    }
   ],
   "source": [
    "empty_d = {}\n",
    "type(empty_d)"
   ]
  },
  {
   "cell_type": "code",
   "execution_count": 47,
   "id": "6f3a0b7a",
   "metadata": {},
   "outputs": [
    {
     "name": "stdout",
     "output_type": "stream",
     "text": [
      "{'apple': 2.5, 'banana': 3.5, 'potato': 5}\n"
     ]
    }
   ],
   "source": [
    "# key, value\n",
    "d = {\"apple\":2.5, \"banana\":3.5, \"potato\":5}\n",
    "print(d)"
   ]
  },
  {
   "cell_type": "code",
   "execution_count": 48,
   "id": "b4eac69f",
   "metadata": {},
   "outputs": [],
   "source": [
    "test_d = {1:\"ibrahim\", 2: \"hasan\", 3:\"yusuf\"}"
   ]
  },
  {
   "cell_type": "code",
   "execution_count": 49,
   "id": "5f92ff5d",
   "metadata": {},
   "outputs": [
    {
     "data": {
      "text/plain": [
       "{'beginner': {1: 'abc', 2: 'bcd', 3: 'def'}, 'advanced': [1, 'xyz', 2, 'pqr']}"
      ]
     },
     "execution_count": 49,
     "metadata": {},
     "output_type": "execute_result"
    }
   ],
   "source": [
    "data_science_audience = {\"beginner\":{1:\"abc\", 2:\"bcd\", 3:\"def\"}, \"advanced\":[1, \"xyz\", 2, \"pqr\"]}\n",
    "data_science_audience"
   ]
  },
  {
   "cell_type": "code",
   "execution_count": 52,
   "id": "e51d31b5",
   "metadata": {},
   "outputs": [
    {
     "name": "stdout",
     "output_type": "stream",
     "text": [
      "None\n"
     ]
    }
   ],
   "source": [
    "print(d.get(\"advanced\"))"
   ]
  },
  {
   "cell_type": "code",
   "execution_count": 53,
   "id": "c7ea1675",
   "metadata": {},
   "outputs": [
    {
     "data": {
      "text/plain": [
       "['xyz', 'pqr']"
      ]
     },
     "execution_count": 53,
     "metadata": {},
     "output_type": "execute_result"
    }
   ],
   "source": [
    "data_science_audience[\"advanced\"][1::2]"
   ]
  },
  {
   "cell_type": "code",
   "execution_count": 54,
   "id": "2f12f6b6",
   "metadata": {},
   "outputs": [
    {
     "data": {
      "text/plain": [
       "'bcd'"
      ]
     },
     "execution_count": 54,
     "metadata": {},
     "output_type": "execute_result"
    }
   ],
   "source": [
    "data_science_audience[\"beginner\"][2]"
   ]
  },
  {
   "cell_type": "code",
   "execution_count": 55,
   "id": "59f6b3e0",
   "metadata": {},
   "outputs": [],
   "source": [
    "data_science_audience.get(\"mid\")"
   ]
  },
  {
   "cell_type": "code",
   "execution_count": 56,
   "id": "7fd94e6f",
   "metadata": {},
   "outputs": [
    {
     "data": {
      "text/plain": [
       "2"
      ]
     },
     "execution_count": 56,
     "metadata": {},
     "output_type": "execute_result"
    }
   ],
   "source": [
    "len(list(data_science_audience.keys()))"
   ]
  },
  {
   "cell_type": "code",
   "execution_count": 58,
   "id": "75d117af",
   "metadata": {},
   "outputs": [],
   "source": [
    "all_company = {\n",
    "    \"abc\": {\n",
    "        \"management\": [\n",
    "            \"abc\",\n",
    "            \"def\",\n",
    "            \"xxyz\"\n",
    "        ],\n",
    "        \"bot\": [\n",
    "            \"pqr\",\n",
    "            \"vrt\"\n",
    "        ],\n",
    "        \"paid_up_capital\": 12984479,\n",
    "        \"total_share\": 100000\n",
    "    },\n",
    "    \"xyz\": {\n",
    "        \"management\": [\n",
    "            \"abc\",\n",
    "            \"def\",\n",
    "            \"xxyz\"\n",
    "        ],\n",
    "        \"bot\": [\n",
    "            \"pqr\",\n",
    "            \"vrt\"\n",
    "        ],\n",
    "        \"paid_up_capital\": 12984479,\n",
    "        \"total_share\": 100000,\n",
    "        \"img\": \"/images/i\"\n",
    "    },\n",
    "    \"pqr\": {\n",
    "        \"management\": [\n",
    "            \"abc\",\n",
    "            \"def\",\n",
    "            \"xxyz\"\n",
    "        ],\n",
    "        \"bot\": [\n",
    "            \"pqr\",\n",
    "            \"vrt\"\n",
    "        ],\n",
    "        \"paid_up_capital\": 12984479,\n",
    "        \"total_share\": 100000\n",
    "    }\n",
    "}"
   ]
  },
  {
   "cell_type": "code",
   "execution_count": 59,
   "id": "46a87547",
   "metadata": {},
   "outputs": [
    {
     "data": {
      "text/plain": [
       "{'abc': {'management': ['abc', 'def', 'xxyz'],\n",
       "  'bot': ['pqr', 'vrt'],\n",
       "  'paid_up_capital': 12984479,\n",
       "  'total_share': 100000},\n",
       " 'xyz': {'management': ['abc', 'def', 'xxyz'],\n",
       "  'bot': ['pqr', 'vrt'],\n",
       "  'paid_up_capital': 12984479,\n",
       "  'total_share': 100000,\n",
       "  'img': '/images/i'},\n",
       " 'pqr': {'management': ['abc', 'def', 'xxyz'],\n",
       "  'bot': ['pqr', 'vrt'],\n",
       "  'paid_up_capital': 12984479,\n",
       "  'total_share': 100000}}"
      ]
     },
     "execution_count": 59,
     "metadata": {},
     "output_type": "execute_result"
    }
   ],
   "source": [
    "all_company"
   ]
  },
  {
   "cell_type": "code",
   "execution_count": 60,
   "id": "4b76eb81",
   "metadata": {},
   "outputs": [
    {
     "data": {
      "text/plain": [
       "True"
      ]
     },
     "execution_count": 60,
     "metadata": {},
     "output_type": "execute_result"
    }
   ],
   "source": [
    "\"def\" in all_company[\"xyz\"][\"management\"]"
   ]
  },
  {
   "cell_type": "code",
   "execution_count": 61,
   "id": "b9739bb4",
   "metadata": {},
   "outputs": [
    {
     "data": {
      "text/plain": [
       "12984479.0"
      ]
     },
     "execution_count": 61,
     "metadata": {},
     "output_type": "execute_result"
    }
   ],
   "source": [
    "# find out avg paid_up_capital of all companies\n",
    "(all_company[\"abc\"][\"paid_up_capital\"] + all_company[\"xyz\"][\"paid_up_capital\"] + all_company[\"pqr\"][\"paid_up_capital\"])/3"
   ]
  },
  {
   "cell_type": "code",
   "execution_count": 62,
   "id": "d7a48baa",
   "metadata": {},
   "outputs": [
    {
     "data": {
      "text/plain": [
       "dict_keys(['abc', 'xyz', 'pqr'])"
      ]
     },
     "execution_count": 62,
     "metadata": {},
     "output_type": "execute_result"
    }
   ],
   "source": [
    "all_company.keys()"
   ]
  },
  {
   "cell_type": "code",
   "execution_count": 63,
   "id": "b56754ea",
   "metadata": {},
   "outputs": [
    {
     "data": {
      "text/plain": [
       "dict_values([{'management': ['abc', 'def', 'xxyz'], 'bot': ['pqr', 'vrt'], 'paid_up_capital': 12984479, 'total_share': 100000}, {'management': ['abc', 'def', 'xxyz'], 'bot': ['pqr', 'vrt'], 'paid_up_capital': 12984479, 'total_share': 100000, 'img': '/images/i'}, {'management': ['abc', 'def', 'xxyz'], 'bot': ['pqr', 'vrt'], 'paid_up_capital': 12984479, 'total_share': 100000}])"
      ]
     },
     "execution_count": 63,
     "metadata": {},
     "output_type": "execute_result"
    }
   ],
   "source": [
    "all_company.values()"
   ]
  },
  {
   "cell_type": "code",
   "execution_count": 64,
   "id": "7231a535",
   "metadata": {},
   "outputs": [
    {
     "data": {
      "text/plain": [
       "dict_items([('abc', {'management': ['abc', 'def', 'xxyz'], 'bot': ['pqr', 'vrt'], 'paid_up_capital': 12984479, 'total_share': 100000}), ('xyz', {'management': ['abc', 'def', 'xxyz'], 'bot': ['pqr', 'vrt'], 'paid_up_capital': 12984479, 'total_share': 100000, 'img': '/images/i'}), ('pqr', {'management': ['abc', 'def', 'xxyz'], 'bot': ['pqr', 'vrt'], 'paid_up_capital': 12984479, 'total_share': 100000})])"
      ]
     },
     "execution_count": 64,
     "metadata": {},
     "output_type": "execute_result"
    }
   ],
   "source": [
    "all_company.items()"
   ]
  },
  {
   "cell_type": "code",
   "execution_count": 65,
   "id": "59631a49",
   "metadata": {},
   "outputs": [
    {
     "name": "stdout",
     "output_type": "stream",
     "text": [
      "Key abc Value {'management': ['abc', 'def', 'xxyz'], 'bot': ['pqr', 'vrt'], 'paid_up_capital': 12984479, 'total_share': 100000}\n",
      "Key xyz Value {'management': ['abc', 'def', 'xxyz'], 'bot': ['pqr', 'vrt'], 'paid_up_capital': 12984479, 'total_share': 100000, 'img': '/images/i'}\n",
      "Key pqr Value {'management': ['abc', 'def', 'xxyz'], 'bot': ['pqr', 'vrt'], 'paid_up_capital': 12984479, 'total_share': 100000}\n"
     ]
    },
    {
     "data": {
      "text/plain": [
       "12984479.0"
      ]
     },
     "execution_count": 65,
     "metadata": {},
     "output_type": "execute_result"
    }
   ],
   "source": [
    "total = 0\n",
    "for k, v in all_company.items():\n",
    "    print(\"Key\", k, \"Value\", v)\n",
    "    total += v[\"paid_up_capital\"]\n",
    "\n",
    "total/len(all_company.keys())"
   ]
  },
  {
   "cell_type": "code",
   "execution_count": 66,
   "id": "b837f809",
   "metadata": {},
   "outputs": [
    {
     "name": "stdout",
     "output_type": "stream",
     "text": [
      "Missing image\n"
     ]
    }
   ],
   "source": [
    "if \"img\" in all_company[\"abc\"].keys():\n",
    "    print(\"save image\")\n",
    "else:\n",
    "    print(\"Missing image\")"
   ]
  },
  {
   "cell_type": "code",
   "execution_count": 67,
   "id": "202d148b",
   "metadata": {},
   "outputs": [
    {
     "data": {
      "text/plain": [
       "{'abc': {'management': ['abc', 'def', 'xxyz'],\n",
       "  'bot': ['pqr', 'vrt'],\n",
       "  'paid_up_capital': 987654,\n",
       "  'total_share': 100000},\n",
       " 'xyz': {'management': ['abc', 'def', 'xxyz'],\n",
       "  'bot': ['pqr', 'vrt'],\n",
       "  'paid_up_capital': 12984479,\n",
       "  'total_share': 100000,\n",
       "  'img': '/images/i'},\n",
       " 'pqr': {'management': ['abc', 'def', 'xxyz'],\n",
       "  'bot': ['pqr', 'vrt'],\n",
       "  'paid_up_capital': 12984479,\n",
       "  'total_share': 100000}}"
      ]
     },
     "execution_count": 67,
     "metadata": {},
     "output_type": "execute_result"
    }
   ],
   "source": [
    "all_company[\"abc\"][\"paid_up_capital\"] = 987654\n",
    "all_company"
   ]
  },
  {
   "cell_type": "code",
   "execution_count": 68,
   "id": "bc2bec95",
   "metadata": {},
   "outputs": [
    {
     "data": {
      "text/plain": [
       "{'abc': {'management': ['abc', 'def', 'xxyz'],\n",
       "  'bot': ['pqr', 'vrt'],\n",
       "  'paid_up_capital': 987654,\n",
       "  'total_share': 100000},\n",
       " 'xyz': {'management': ['abc', 'def', 'xxyz'],\n",
       "  'bot': ['pqr', 'vrt'],\n",
       "  'paid_up_capital': 12984479,\n",
       "  'total_share': 100000,\n",
       "  'img': '/images/i'},\n",
       " 'pqr': {'management': ['abc', 'def', 'xxyz'],\n",
       "  'bot': ['pqr', 'vrt'],\n",
       "  'paid_up_capital': 12984479,\n",
       "  'total_share': 100000},\n",
       " 'stu': {'management': None,\n",
       "  'bot': ['ert', 'qe'],\n",
       "  'paid_up_capital': 5454654675}}"
      ]
     },
     "execution_count": 68,
     "metadata": {},
     "output_type": "execute_result"
    }
   ],
   "source": [
    "all_company[\"stu\"] = {\"management\": None, \"bot\": [\"ert\", \"qe\"], \"paid_up_capital\": 5454654675}\n",
    "all_company"
   ]
  },
  {
   "cell_type": "code",
   "execution_count": 70,
   "id": "b53261ef",
   "metadata": {},
   "outputs": [
    {
     "data": {
      "text/plain": [
       "{'abc': {'management': ['abc', 'def', 'xxyz'],\n",
       "  'bot': ['pqr', 'vrt'],\n",
       "  'paid_up_capital': 987654,\n",
       "  'total_share': 100000},\n",
       " 'xyz': {'management': ['abc', 'def', 'xxyz'],\n",
       "  'bot': ['pqr', 'vrt'],\n",
       "  'paid_up_capital': 12984479,\n",
       "  'total_share': 100000,\n",
       "  'img': '/images/i'},\n",
       " 'pqr': {'management': ['abc', 'def', 'xxyz'],\n",
       "  'bot': ['pqr', 'vrt'],\n",
       "  'paid_up_capital': 12984479,\n",
       "  'total_share': 100000},\n",
       " 'stu': {'management': None,\n",
       "  'bot': ['ert', 'qe'],\n",
       "  'paid_up_capital': 5454654675,\n",
       "  'total_share': 564563456}}"
      ]
     },
     "execution_count": 70,
     "metadata": {},
     "output_type": "execute_result"
    }
   ],
   "source": [
    "all_company[\"stu\"][\"total_share\"] = 564563456\n",
    "all_company"
   ]
  },
  {
   "cell_type": "markdown",
   "id": "c8119599",
   "metadata": {},
   "source": [
    "## String"
   ]
  },
  {
   "cell_type": "code",
   "execution_count": 71,
   "id": "190ff8c9",
   "metadata": {},
   "outputs": [
    {
     "data": {
      "text/plain": [
       "('data_science_bootcamp_science', str)"
      ]
     },
     "execution_count": 71,
     "metadata": {},
     "output_type": "execute_result"
    }
   ],
   "source": [
    "program = \"data_science_bootcamp_science\"\n",
    "program, type(program)"
   ]
  },
  {
   "cell_type": "code",
   "execution_count": 72,
   "id": "1edd1305",
   "metadata": {},
   "outputs": [
    {
     "data": {
      "text/plain": [
       "'dt_cec_otapsine'"
      ]
     },
     "execution_count": 72,
     "metadata": {},
     "output_type": "execute_result"
    }
   ],
   "source": [
    "# accessing\n",
    "program[1] # single value access\n",
    "program[1:10] # range value access\n",
    "program[::2] # stepping"
   ]
  },
  {
   "cell_type": "code",
   "execution_count": 73,
   "id": "9fdff33c",
   "metadata": {},
   "outputs": [
    {
     "data": {
      "text/plain": [
       "2"
      ]
     },
     "execution_count": 73,
     "metadata": {},
     "output_type": "execute_result"
    }
   ],
   "source": [
    "program.count(\"science\")"
   ]
  },
  {
   "cell_type": "code",
   "execution_count": 74,
   "id": "1861461c",
   "metadata": {},
   "outputs": [
    {
     "data": {
      "text/plain": [
       "29"
      ]
     },
     "execution_count": 74,
     "metadata": {},
     "output_type": "execute_result"
    }
   ],
   "source": [
    "len(program)"
   ]
  },
  {
   "cell_type": "markdown",
   "id": "d405044f",
   "metadata": {},
   "source": [
    "## buil-in functions"
   ]
  },
  {
   "cell_type": "code",
   "execution_count": 75,
   "id": "e8568a66",
   "metadata": {},
   "outputs": [
    {
     "data": {
      "text/plain": [
       "'DATA_SCIENCE_BOOTCAMP_SCIENCE'"
      ]
     },
     "execution_count": 75,
     "metadata": {},
     "output_type": "execute_result"
    }
   ],
   "source": [
    "program.upper()"
   ]
  },
  {
   "cell_type": "code",
   "execution_count": 76,
   "id": "f0763ff6",
   "metadata": {},
   "outputs": [
    {
     "data": {
      "text/plain": [
       "'data_science_bootcamp_science'"
      ]
     },
     "execution_count": 76,
     "metadata": {},
     "output_type": "execute_result"
    }
   ],
   "source": [
    "program.lower()"
   ]
  },
  {
   "cell_type": "code",
   "execution_count": 77,
   "id": "3b190b26",
   "metadata": {},
   "outputs": [
    {
     "data": {
      "text/plain": [
       "'Data_science_bootcamp_science'"
      ]
     },
     "execution_count": 77,
     "metadata": {},
     "output_type": "execute_result"
    }
   ],
   "source": [
    "program.capitalize()"
   ]
  },
  {
   "cell_type": "code",
   "execution_count": 78,
   "id": "031ecb56",
   "metadata": {},
   "outputs": [
    {
     "data": {
      "text/plain": [
       "'Adfsdf. asdfasdf asdfdf asdf. asdfasdf'"
      ]
     },
     "execution_count": 78,
     "metadata": {},
     "output_type": "execute_result"
    }
   ],
   "source": [
    "paragraph = \"adfsdf. asdfasdf asdfdf asdf. asdfasdf\"\n",
    "paragraph.capitalize()"
   ]
  },
  {
   "cell_type": "code",
   "execution_count": 79,
   "id": "7c30c338",
   "metadata": {},
   "outputs": [
    {
     "data": {
      "text/plain": [
       "True"
      ]
     },
     "execution_count": 79,
     "metadata": {},
     "output_type": "execute_result"
    }
   ],
   "source": [
    "program.endswith(\"science\")"
   ]
  },
  {
   "cell_type": "code",
   "execution_count": 80,
   "id": "b8eb06f9",
   "metadata": {},
   "outputs": [
    {
     "data": {
      "text/plain": [
       "False"
      ]
     },
     "execution_count": 80,
     "metadata": {},
     "output_type": "execute_result"
    }
   ],
   "source": [
    "program.startswith(\"22DS\")"
   ]
  },
  {
   "cell_type": "code",
   "execution_count": 81,
   "id": "5b9d6e09",
   "metadata": {},
   "outputs": [
    {
     "data": {
      "text/plain": [
       "'             Data Science Bootcamp'"
      ]
     },
     "execution_count": 81,
     "metadata": {},
     "output_type": "execute_result"
    }
   ],
   "source": [
    "program = \"             Data Science Bootcamp\"\n",
    "program"
   ]
  },
  {
   "cell_type": "code",
   "execution_count": 82,
   "id": "48e83ae2",
   "metadata": {},
   "outputs": [
    {
     "data": {
      "text/plain": [
       "'Data Science Bootcamp'"
      ]
     },
     "execution_count": 82,
     "metadata": {},
     "output_type": "execute_result"
    }
   ],
   "source": [
    "program.lstrip()"
   ]
  },
  {
   "cell_type": "code",
   "execution_count": 83,
   "id": "4c7286cf",
   "metadata": {},
   "outputs": [
    {
     "data": {
      "text/plain": [
       "'Data Science Bootcamp'"
      ]
     },
     "execution_count": 83,
     "metadata": {},
     "output_type": "execute_result"
    }
   ],
   "source": [
    "program = 'Data Science Bootcamp               '\n",
    "program.rstrip()"
   ]
  },
  {
   "cell_type": "code",
   "execution_count": 84,
   "id": "8a2e5a14",
   "metadata": {},
   "outputs": [
    {
     "data": {
      "text/plain": [
       "'data science bootcamp'"
      ]
     },
     "execution_count": 84,
     "metadata": {},
     "output_type": "execute_result"
    }
   ],
   "source": [
    "program = \"      data science bootcamp           \"\n",
    "program.strip()"
   ]
  },
  {
   "cell_type": "code",
   "execution_count": 85,
   "id": "8c4306eb",
   "metadata": {},
   "outputs": [
    {
     "data": {
      "text/plain": [
       "44"
      ]
     },
     "execution_count": 85,
     "metadata": {},
     "output_type": "execute_result"
    }
   ],
   "source": [
    "program = \"welcome_to_the_data_science_bootcamp_program\"\n",
    "len(program)"
   ]
  },
  {
   "cell_type": "code",
   "execution_count": 86,
   "id": "3f07dc19",
   "metadata": {},
   "outputs": [
    {
     "name": "stdout",
     "output_type": "stream",
     "text": [
      "['welcome', 'to', 'the', 'data', 'science', 'bootcamp', 'program'] 7\n"
     ]
    }
   ],
   "source": [
    "splited_list = program.split('_')\n",
    "total_words = len(program.split('_'))\n",
    "print(splited_list, total_words)"
   ]
  },
  {
   "cell_type": "code",
   "execution_count": 87,
   "id": "7dedbc23",
   "metadata": {},
   "outputs": [
    {
     "data": {
      "text/plain": [
       "True"
      ]
     },
     "execution_count": 87,
     "metadata": {},
     "output_type": "execute_result"
    }
   ],
   "source": [
    "\"bootcamp\" in program # check if a character or str exist or not"
   ]
  },
  {
   "cell_type": "code",
   "execution_count": 88,
   "id": "5680be0e",
   "metadata": {},
   "outputs": [
    {
     "data": {
      "text/plain": [
       "['data', 'science', 'bootcamp']"
      ]
     },
     "execution_count": 88,
     "metadata": {},
     "output_type": "execute_result"
    }
   ],
   "source": [
    "program = \"      data science bootcamp           \"\n",
    "program = program.strip()\n",
    "program.split(' ')"
   ]
  },
  {
   "cell_type": "code",
   "execution_count": 202,
   "id": "4a3b258a",
   "metadata": {},
   "outputs": [
    {
     "data": {
      "text/plain": [
       "'Deep Learning bootcamp'"
      ]
     },
     "execution_count": 202,
     "metadata": {},
     "output_type": "execute_result"
    }
   ],
   "source": [
    "program.replace(\"data science\", \"Deep Learning\")"
   ]
  },
  {
   "cell_type": "code",
   "execution_count": 207,
   "id": "23efd245",
   "metadata": {},
   "outputs": [
    {
     "name": "stdout",
     "output_type": "stream",
     "text": [
      "data science bootcamp\n"
     ]
    }
   ],
   "source": [
    "print(program)"
   ]
  },
  {
   "cell_type": "code",
   "execution_count": 206,
   "id": "da7b2f81",
   "metadata": {},
   "outputs": [
    {
     "data": {
      "text/plain": [
       "'data science bootcamp'"
      ]
     },
     "execution_count": 206,
     "metadata": {},
     "output_type": "execute_result"
    }
   ],
   "source": [
    "\"data science\" + \" \" + \"bootcamp\""
   ]
  },
  {
   "cell_type": "code",
   "execution_count": 215,
   "id": "939d39ca",
   "metadata": {},
   "outputs": [
    {
     "name": "stdout",
     "output_type": "stream",
     "text": [
      "data science bootcamp Digit:  2\n",
      "Digit:  0\n",
      "Digit:  2\n",
      "Digit:  2\n"
     ]
    }
   ],
   "source": [
    "program = \"data science bootcamp 2022\"\n",
    "for i in program:\n",
    "    if i.isdigit():\n",
    "        print(\"Digit: \", i)\n",
    "        # play your self\n",
    "    else:\n",
    "        print(i, end=\"\")"
   ]
  },
  {
   "cell_type": "markdown",
   "id": "f7e4724c",
   "metadata": {},
   "source": [
    "# Advanced Topics"
   ]
  },
  {
   "cell_type": "markdown",
   "id": "2e39c207",
   "metadata": {},
   "source": [
    "## List comprehension"
   ]
  },
  {
   "cell_type": "code",
   "execution_count": 221,
   "id": "ce0074fb",
   "metadata": {},
   "outputs": [
    {
     "data": {
      "text/plain": [
       "[0, 1, 2, 3, 4, 5, 6, 7, 8, 9]"
      ]
     },
     "execution_count": 221,
     "metadata": {},
     "output_type": "execute_result"
    }
   ],
   "source": [
    "# plain for loop\n",
    "number = []\n",
    "for i in range(10):\n",
    "    number.append(i)\n",
    "number"
   ]
  },
  {
   "cell_type": "code",
   "execution_count": 223,
   "id": "26933000",
   "metadata": {},
   "outputs": [],
   "source": [
    "# plain for loop --> comprehension\n",
    "[i for i in range(10)]"
   ]
  },
  {
   "cell_type": "code",
   "execution_count": 226,
   "id": "d651e048",
   "metadata": {},
   "outputs": [],
   "source": [
    "# for loop with if\n",
    "all_divided_by_3 = []\n",
    "for i in range(101):\n",
    "    if i%3==0:\n",
    "        all_divided_by_3.append(i)"
   ]
  },
  {
   "cell_type": "code",
   "execution_count": 227,
   "id": "2336d6b8",
   "metadata": {
    "collapsed": true
   },
   "outputs": [
    {
     "data": {
      "text/plain": [
       "[0,\n",
       " 3,\n",
       " 6,\n",
       " 9,\n",
       " 12,\n",
       " 15,\n",
       " 18,\n",
       " 21,\n",
       " 24,\n",
       " 27,\n",
       " 30,\n",
       " 33,\n",
       " 36,\n",
       " 39,\n",
       " 42,\n",
       " 45,\n",
       " 48,\n",
       " 51,\n",
       " 54,\n",
       " 57,\n",
       " 60,\n",
       " 63,\n",
       " 66,\n",
       " 69,\n",
       " 72,\n",
       " 75,\n",
       " 78,\n",
       " 81,\n",
       " 84,\n",
       " 87,\n",
       " 90,\n",
       " 93,\n",
       " 96,\n",
       " 99]"
      ]
     },
     "execution_count": 227,
     "metadata": {},
     "output_type": "execute_result"
    }
   ],
   "source": [
    "all_divided_by_3"
   ]
  },
  {
   "cell_type": "code",
   "execution_count": 230,
   "id": "eae84974",
   "metadata": {
    "collapsed": true
   },
   "outputs": [
    {
     "data": {
      "text/plain": [
       "[0,\n",
       " 3,\n",
       " 6,\n",
       " 9,\n",
       " 12,\n",
       " 15,\n",
       " 18,\n",
       " 21,\n",
       " 24,\n",
       " 27,\n",
       " 30,\n",
       " 33,\n",
       " 36,\n",
       " 39,\n",
       " 42,\n",
       " 45,\n",
       " 48,\n",
       " 51,\n",
       " 54,\n",
       " 57,\n",
       " 60,\n",
       " 63,\n",
       " 66,\n",
       " 69,\n",
       " 72,\n",
       " 75,\n",
       " 78,\n",
       " 81,\n",
       " 84,\n",
       " 87,\n",
       " 90,\n",
       " 93,\n",
       " 96,\n",
       " 99]"
      ]
     },
     "execution_count": 230,
     "metadata": {},
     "output_type": "execute_result"
    }
   ],
   "source": [
    "[i for i in range(101) if i%3==0] # for loop with if"
   ]
  },
  {
   "cell_type": "code",
   "execution_count": 239,
   "id": "0bb8dfbb",
   "metadata": {},
   "outputs": [
    {
     "data": {
      "text/plain": [
       "['divided_by_3: 0',\n",
       " '!divided_by_3: 1',\n",
       " '!divided_by_3: 2',\n",
       " 'divided_by_3: 3',\n",
       " '!divided_by_3: 4',\n",
       " '!divided_by_3: 5',\n",
       " 'divided_by_3: 6',\n",
       " '!divided_by_3: 7',\n",
       " '!divided_by_3: 8',\n",
       " 'divided_by_3: 9']"
      ]
     },
     "execution_count": 239,
     "metadata": {},
     "output_type": "execute_result"
    }
   ],
   "source": [
    "# for loop with if\n",
    "all_divided_by_3 = []\n",
    "for i in range(10):\n",
    "    if i%3==0:\n",
    "        all_divided_by_3.append(\"divided_by_3: \"+str(i))\n",
    "    else:\n",
    "        all_divided_by_3.append(\"!divided_by_3: \"+str(i))\n",
    "all_divided_by_3"
   ]
  },
  {
   "cell_type": "code",
   "execution_count": 240,
   "id": "f3a8de7d",
   "metadata": {},
   "outputs": [
    {
     "data": {
      "text/plain": [
       "['divided_by_3: 0',\n",
       " '!divided_by_3: 1',\n",
       " '!divided_by_3: 2',\n",
       " 'divided_by_3: 3',\n",
       " '!divided_by_3: 4',\n",
       " '!divided_by_3: 5',\n",
       " 'divided_by_3: 6',\n",
       " '!divided_by_3: 7',\n",
       " '!divided_by_3: 8',\n",
       " 'divided_by_3: 9']"
      ]
     },
     "execution_count": 240,
     "metadata": {},
     "output_type": "execute_result"
    }
   ],
   "source": [
    "[\"divided_by_3: \" + str(i) if i%3==0 else \"!divided_by_3: \"+str(i) for i in range(10) ] # for loop with if-else"
   ]
  },
  {
   "cell_type": "code",
   "execution_count": 234,
   "id": "8932ec3b",
   "metadata": {},
   "outputs": [
    {
     "data": {
      "text/plain": [
       "'abc3.4'"
      ]
     },
     "execution_count": 234,
     "metadata": {},
     "output_type": "execute_result"
    }
   ],
   "source": [
    "\"abc\" +str( 3.4)"
   ]
  },
  {
   "cell_type": "markdown",
   "id": "5dea6527",
   "metadata": {},
   "source": [
    "## lambda function"
   ]
  },
  {
   "cell_type": "code",
   "execution_count": 243,
   "id": "f084e05f",
   "metadata": {},
   "outputs": [],
   "source": [
    "def square(n):\n",
    "    return n*n"
   ]
  },
  {
   "cell_type": "code",
   "execution_count": 244,
   "id": "fc1431e0",
   "metadata": {},
   "outputs": [
    {
     "data": {
      "text/plain": [
       "9"
      ]
     },
     "execution_count": 244,
     "metadata": {},
     "output_type": "execute_result"
    }
   ],
   "source": [
    "square(3)"
   ]
  },
  {
   "cell_type": "code",
   "execution_count": 250,
   "id": "8ec8dea4",
   "metadata": {},
   "outputs": [],
   "source": [
    "sqr_func = lambda n, m: n*m # lambda input: return value"
   ]
  },
  {
   "cell_type": "code",
   "execution_count": 251,
   "id": "6cc96db5",
   "metadata": {},
   "outputs": [
    {
     "data": {
      "text/plain": [
       "12"
      ]
     },
     "execution_count": 251,
     "metadata": {},
     "output_type": "execute_result"
    }
   ],
   "source": [
    "sqr_func(3, 4)"
   ]
  },
  {
   "cell_type": "markdown",
   "id": "8b303ff1",
   "metadata": {},
   "source": [
    "## File "
   ]
  },
  {
   "cell_type": "code",
   "execution_count": 252,
   "id": "2eddff83",
   "metadata": {},
   "outputs": [],
   "source": [
    "# txt, json, csv, excel, database, png, jpg, pdf, docx"
   ]
  },
  {
   "cell_type": "code",
   "execution_count": 271,
   "id": "18f73dc2",
   "metadata": {},
   "outputs": [],
   "source": [
    "file_name = open(\"sample.txt\", \"r\")"
   ]
  },
  {
   "cell_type": "code",
   "execution_count": null,
   "id": "3cc2f984",
   "metadata": {},
   "outputs": [],
   "source": [
    "# read(), readline(), readlines()"
   ]
  },
  {
   "cell_type": "code",
   "execution_count": 255,
   "id": "9fb980b6",
   "metadata": {},
   "outputs": [
    {
     "data": {
      "text/plain": [
       "'test\\ntest1\\ntest2'"
      ]
     },
     "execution_count": 255,
     "metadata": {},
     "output_type": "execute_result"
    }
   ],
   "source": [
    "file_name.read()"
   ]
  },
  {
   "cell_type": "code",
   "execution_count": 269,
   "id": "5ed7aa2d",
   "metadata": {},
   "outputs": [
    {
     "data": {
      "text/plain": [
       "'test\\n'"
      ]
     },
     "execution_count": 269,
     "metadata": {},
     "output_type": "execute_result"
    }
   ],
   "source": [
    "file_name.readline()"
   ]
  },
  {
   "cell_type": "code",
   "execution_count": 261,
   "id": "742ebb2c",
   "metadata": {},
   "outputs": [
    {
     "data": {
      "text/plain": [
       "'test1\\n'"
      ]
     },
     "execution_count": 261,
     "metadata": {},
     "output_type": "execute_result"
    }
   ],
   "source": [
    "file_name.readline()"
   ]
  },
  {
   "cell_type": "code",
   "execution_count": 262,
   "id": "aecba74e",
   "metadata": {},
   "outputs": [
    {
     "data": {
      "text/plain": [
       "'test2'"
      ]
     },
     "execution_count": 262,
     "metadata": {},
     "output_type": "execute_result"
    }
   ],
   "source": [
    "file_name.readline()"
   ]
  },
  {
   "cell_type": "code",
   "execution_count": 263,
   "id": "09eb06f5",
   "metadata": {},
   "outputs": [
    {
     "data": {
      "text/plain": [
       "''"
      ]
     },
     "execution_count": 263,
     "metadata": {},
     "output_type": "execute_result"
    }
   ],
   "source": [
    "file_name.readline()"
   ]
  },
  {
   "cell_type": "code",
   "execution_count": 264,
   "id": "1b9cb366",
   "metadata": {},
   "outputs": [
    {
     "data": {
      "text/plain": [
       "''"
      ]
     },
     "execution_count": 264,
     "metadata": {},
     "output_type": "execute_result"
    }
   ],
   "source": [
    "file_name.readline()"
   ]
  },
  {
   "cell_type": "code",
   "execution_count": 272,
   "id": "6420c364",
   "metadata": {},
   "outputs": [
    {
     "name": "stdout",
     "output_type": "stream",
     "text": [
      "test\n",
      "\n",
      "test1\n",
      "\n",
      "test2\n"
     ]
    }
   ],
   "source": [
    "for line in file_name.readlines():\n",
    "    print(line)"
   ]
  },
  {
   "cell_type": "code",
   "execution_count": 270,
   "id": "0604f99a",
   "metadata": {},
   "outputs": [
    {
     "data": {
      "text/plain": [
       "['test1\\n', 'test2']"
      ]
     },
     "execution_count": 270,
     "metadata": {},
     "output_type": "execute_result"
    }
   ],
   "source": [
    "file_name.readlines()"
   ]
  },
  {
   "cell_type": "code",
   "execution_count": null,
   "id": "80729ee7",
   "metadata": {},
   "outputs": [],
   "source": [
    "# close the file"
   ]
  },
  {
   "cell_type": "code",
   "execution_count": 275,
   "id": "80ca776b",
   "metadata": {},
   "outputs": [
    {
     "name": "stdout",
     "output_type": "stream",
     "text": [
      "test\n",
      "\n",
      "test1\n",
      "\n",
      "test2\n"
     ]
    }
   ],
   "source": [
    "with open(\"sample.txt\", \"r\") as f:\n",
    "    for line in f.readlines():\n",
    "        print(line)"
   ]
  },
  {
   "cell_type": "code",
   "execution_count": 276,
   "id": "15000457",
   "metadata": {},
   "outputs": [
    {
     "ename": "ValueError",
     "evalue": "I/O operation on closed file.",
     "output_type": "error",
     "traceback": [
      "\u001b[1;31m---------------------------------------------------------------------------\u001b[0m",
      "\u001b[1;31mValueError\u001b[0m                                Traceback (most recent call last)",
      "Input \u001b[1;32mIn [276]\u001b[0m, in \u001b[0;36m<cell line: 1>\u001b[1;34m()\u001b[0m\n\u001b[1;32m----> 1\u001b[0m \u001b[43mf\u001b[49m\u001b[38;5;241;43m.\u001b[39;49m\u001b[43mreadline\u001b[49m\u001b[43m(\u001b[49m\u001b[43m)\u001b[49m\n",
      "\u001b[1;31mValueError\u001b[0m: I/O operation on closed file."
     ]
    }
   ],
   "source": [
    "f.readline()"
   ]
  },
  {
   "cell_type": "code",
   "execution_count": 277,
   "id": "408e4c15",
   "metadata": {},
   "outputs": [],
   "source": [
    "with open(\"sample.txt\", \"w\") as f:\n",
    "    f.write(\"Data Science Bootcamp\\nWeek 1: Python\\nWeek 2: Numpy, Pandas, Matplotlib, Plotly\")\n"
   ]
  },
  {
   "cell_type": "code",
   "execution_count": 278,
   "id": "f84b0a88",
   "metadata": {},
   "outputs": [
    {
     "name": "stdout",
     "output_type": "stream",
     "text": [
      "Data Science Bootcamp\n",
      "Week 1: Python\n",
      "Week 2: Numpy, Pandas, Matplotlib, Plotly\n"
     ]
    }
   ],
   "source": [
    "with open(\"sample.txt\", \"r\") as f:\n",
    "    print(f.read())"
   ]
  },
  {
   "cell_type": "code",
   "execution_count": null,
   "id": "d3677550",
   "metadata": {},
   "outputs": [],
   "source": [
    "company_name, establised_year, employee_no = \"ABC\", 1994, 200"
   ]
  },
  {
   "cell_type": "code",
   "execution_count": 279,
   "id": "151feb10",
   "metadata": {},
   "outputs": [],
   "source": [
    "companies = [\"abc\", \"xyz\", \"pqr\"]\n",
    "established_year = [1993, 2005, 1998]\n",
    "employee_no = [150, 179, 45]"
   ]
  },
  {
   "cell_type": "markdown",
   "id": "1dd3475d",
   "metadata": {},
   "source": [
    "### ZIP "
   ]
  },
  {
   "cell_type": "code",
   "execution_count": 286,
   "id": "7fe3edcb",
   "metadata": {},
   "outputs": [
    {
     "name": "stdout",
     "output_type": "stream",
     "text": [
      "abc\n",
      "xyz\n",
      "pqr\n"
     ]
    }
   ],
   "source": [
    "for c in companies:\n",
    "    print(c)"
   ]
  },
  {
   "cell_type": "code",
   "execution_count": 287,
   "id": "156bb87f",
   "metadata": {},
   "outputs": [
    {
     "name": "stdout",
     "output_type": "stream",
     "text": [
      "abc 1993 150\n",
      "xyz 2005 179\n",
      "pqr 1998 45\n"
     ]
    }
   ],
   "source": [
    "for c, e_y, e_n in zip(companies, established_year, employee_no):\n",
    "    print(c, e_y, e_n)"
   ]
  },
  {
   "cell_type": "code",
   "execution_count": 292,
   "id": "417d26f2",
   "metadata": {},
   "outputs": [],
   "source": [
    "with open(\"company_information_updated.txt\", \"a\") as f:\n",
    "#     f.write(\"company_name, establied_year, employee_no\\n\")\n",
    "    for c, e_y, e_n in zip(companies, established_year, employee_no):\n",
    "        f.write(f\"{c}, {e_y}, {e_n}\")\n",
    "        f.write(\"\\n\")"
   ]
  },
  {
   "cell_type": "code",
   "execution_count": 290,
   "id": "0ed5fd83",
   "metadata": {},
   "outputs": [
    {
     "data": {
      "text/plain": [
       "3"
      ]
     },
     "execution_count": 290,
     "metadata": {},
     "output_type": "execute_result"
    }
   ],
   "source": [
    "len(companies)"
   ]
  },
  {
   "cell_type": "code",
   "execution_count": 291,
   "id": "7fb8fb78",
   "metadata": {},
   "outputs": [],
   "source": [
    "with open(\"company_information_v2.txt\", \"w\") as f:\n",
    "    f.write(\"company_name, establied_year, employee_no\\n\")\n",
    "    for i in range(len(companies)):\n",
    "         f.write(f\"{companies[i]}, {established_year[i]}, {employee_no[i]}\\n\")"
   ]
  },
  {
   "cell_type": "code",
   "execution_count": null,
   "id": "f8db6246",
   "metadata": {},
   "outputs": [],
   "source": []
  }
 ],
 "metadata": {
  "kernelspec": {
   "display_name": "Python 3 (ipykernel)",
   "language": "python",
   "name": "python3"
  },
  "language_info": {
   "codemirror_mode": {
    "name": "ipython",
    "version": 3
   },
   "file_extension": ".py",
   "mimetype": "text/x-python",
   "name": "python",
   "nbconvert_exporter": "python",
   "pygments_lexer": "ipython3",
   "version": "3.9.12"
  }
 },
 "nbformat": 4,
 "nbformat_minor": 5
}
