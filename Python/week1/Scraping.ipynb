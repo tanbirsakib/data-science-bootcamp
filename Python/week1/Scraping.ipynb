{
 "cells": [
  {
   "cell_type": "code",
   "execution_count": 5,
   "metadata": {
    "id": "gl2RLYqs_UW3"
   },
   "outputs": [
    {
     "name": "stdout",
     "output_type": "stream",
     "text": [
      "Requirement already satisfied: requests-html in c:\\users\\iamts\\anaconda3\\lib\\site-packages (0.10.0)\n",
      "Requirement already satisfied: bs4 in c:\\users\\iamts\\anaconda3\\lib\\site-packages (from requests-html) (0.0.1)\n",
      "Requirement already satisfied: pyppeteer>=0.0.14 in c:\\users\\iamts\\anaconda3\\lib\\site-packages (from requests-html) (1.0.2)\n",
      "Requirement already satisfied: fake-useragent in c:\\users\\iamts\\anaconda3\\lib\\site-packages (from requests-html) (0.1.11)\n",
      "Requirement already satisfied: w3lib in c:\\users\\iamts\\anaconda3\\lib\\site-packages (from requests-html) (1.21.0)\n",
      "Requirement already satisfied: parse in c:\\users\\iamts\\anaconda3\\lib\\site-packages (from requests-html) (1.19.0)\n",
      "Requirement already satisfied: requests in c:\\users\\iamts\\anaconda3\\lib\\site-packages (from requests-html) (2.27.1)\n",
      "Requirement already satisfied: pyquery in c:\\users\\iamts\\anaconda3\\lib\\site-packages (from requests-html) (1.4.3)\n",
      "Requirement already satisfied: appdirs<2.0.0,>=1.4.3 in c:\\users\\iamts\\anaconda3\\lib\\site-packages (from pyppeteer>=0.0.14->requests-html) (1.4.4)\n",
      "Requirement already satisfied: certifi>=2021 in c:\\users\\iamts\\anaconda3\\lib\\site-packages (from pyppeteer>=0.0.14->requests-html) (2021.10.8)\n",
      "Requirement already satisfied: tqdm<5.0.0,>=4.42.1 in c:\\users\\iamts\\anaconda3\\lib\\site-packages (from pyppeteer>=0.0.14->requests-html) (4.64.0)\n",
      "Requirement already satisfied: urllib3<2.0.0,>=1.25.8 in c:\\users\\iamts\\anaconda3\\lib\\site-packages (from pyppeteer>=0.0.14->requests-html) (1.26.9)\n",
      "Requirement already satisfied: importlib-metadata>=1.4 in c:\\users\\iamts\\anaconda3\\lib\\site-packages (from pyppeteer>=0.0.14->requests-html) (4.11.3)\n",
      "Requirement already satisfied: pyee<9.0.0,>=8.1.0 in c:\\users\\iamts\\anaconda3\\lib\\site-packages (from pyppeteer>=0.0.14->requests-html) (8.2.2)\n",
      "Requirement already satisfied: websockets<11.0,>=10.0 in c:\\users\\iamts\\anaconda3\\lib\\site-packages (from pyppeteer>=0.0.14->requests-html) (10.3)\n",
      "Requirement already satisfied: zipp>=0.5 in c:\\users\\iamts\\anaconda3\\lib\\site-packages (from importlib-metadata>=1.4->pyppeteer>=0.0.14->requests-html) (3.7.0)\n",
      "Requirement already satisfied: colorama in c:\\users\\iamts\\anaconda3\\lib\\site-packages (from tqdm<5.0.0,>=4.42.1->pyppeteer>=0.0.14->requests-html) (0.4.4)\n",
      "Requirement already satisfied: beautifulsoup4 in c:\\users\\iamts\\anaconda3\\lib\\site-packages (from bs4->requests-html) (4.11.1)\n",
      "Requirement already satisfied: soupsieve>1.2 in c:\\users\\iamts\\anaconda3\\lib\\site-packages (from beautifulsoup4->bs4->requests-html) (2.3.1)\n",
      "Requirement already satisfied: cssselect>0.7.9 in c:\\users\\iamts\\anaconda3\\lib\\site-packages (from pyquery->requests-html) (1.1.0)\n",
      "Requirement already satisfied: lxml>=2.1 in c:\\users\\iamts\\anaconda3\\lib\\site-packages (from pyquery->requests-html) (4.8.0)\n",
      "Requirement already satisfied: charset-normalizer~=2.0.0 in c:\\users\\iamts\\anaconda3\\lib\\site-packages (from requests->requests-html) (2.0.4)\n",
      "Requirement already satisfied: idna<4,>=2.5 in c:\\users\\iamts\\anaconda3\\lib\\site-packages (from requests->requests-html) (3.3)\n",
      "Requirement already satisfied: six>=1.4.1 in c:\\users\\iamts\\anaconda3\\lib\\site-packages (from w3lib->requests-html) (1.16.0)\n"
     ]
    }
   ],
   "source": [
    "!pip install requests-html"
   ]
  },
  {
   "cell_type": "code",
   "execution_count": 6,
   "metadata": {
    "id": "x0y_rkLZ_ji0"
   },
   "outputs": [],
   "source": [
    "from requests_html import HTMLSession"
   ]
  },
  {
   "cell_type": "code",
   "execution_count": 7,
   "metadata": {
    "id": "9gCs0o3A_ndM"
   },
   "outputs": [],
   "source": [
    "session = HTMLSession()"
   ]
  },
  {
   "cell_type": "code",
   "execution_count": null,
   "metadata": {
    "id": "Gh0LXd88uL9x"
   },
   "outputs": [],
   "source": []
  },
  {
   "cell_type": "code",
   "execution_count": null,
   "metadata": {
    "id": "Gax1lbd3uMBe"
   },
   "outputs": [],
   "source": []
  },
  {
   "cell_type": "code",
   "execution_count": null,
   "metadata": {
    "id": "M_l-iWD9uMEZ"
   },
   "outputs": [],
   "source": []
  },
  {
   "cell_type": "code",
   "execution_count": null,
   "metadata": {
    "id": "0pffrl67uMHi"
   },
   "outputs": [],
   "source": []
  },
  {
   "cell_type": "code",
   "execution_count": null,
   "metadata": {
    "id": "2XyNU9t6uMKb"
   },
   "outputs": [],
   "source": []
  },
  {
   "cell_type": "code",
   "execution_count": null,
   "metadata": {
    "id": "hDdF78KKuMNw"
   },
   "outputs": [],
   "source": []
  },
  {
   "cell_type": "code",
   "execution_count": null,
   "metadata": {
    "id": "pT5F3stbuMRF"
   },
   "outputs": [],
   "source": []
  },
  {
   "cell_type": "markdown",
   "metadata": {
    "id": "TPVvpsm_DewD"
   },
   "source": [
    "# DSE news Scraping"
   ]
  },
  {
   "cell_type": "code",
   "execution_count": 8,
   "metadata": {
    "colab": {
     "base_uri": "https://localhost:8080/"
    },
    "id": "uS3K-2HqDhFa",
    "outputId": "bc417adb-06c6-4175-c990-5445b5895a69"
   },
   "outputs": [
    {
     "name": "stdout",
     "output_type": "stream",
     "text": [
      "200\n"
     ]
    }
   ],
   "source": [
    "url = \"https://dsebd.org/old_news.php?startDate=2022-08-20&endDate=2022-08-26&criteria=4&archive=news\"\n",
    "r = session.get(url)\n",
    "print(r.status_code)"
   ]
  },
  {
   "cell_type": "code",
   "execution_count": 9,
   "metadata": {
    "id": "Au27FXEukBQu"
   },
   "outputs": [],
   "source": [
    "with open(\"dse_news.html\", \"w\") as f:\n",
    "  f.write(r.text)"
   ]
  },
  {
   "cell_type": "code",
   "execution_count": 10,
   "metadata": {
    "id": "R23PR9BUw9up"
   },
   "outputs": [],
   "source": [
    "dse_news = r.html.find(\".table-news\")[0].text"
   ]
  },
  {
   "cell_type": "code",
   "execution_count": 11,
   "metadata": {
    "colab": {
     "base_uri": "https://localhost:8080/"
    },
    "id": "_qS46-2Hw9xp",
    "outputId": "1aa91fa1-6cd4-46fc-967f-5ad38f2d720d"
   },
   "outputs": [
    {
     "data": {
      "text/plain": [
       "str"
      ]
     },
     "execution_count": 11,
     "metadata": {},
     "output_type": "execute_result"
    }
   ],
   "source": [
    "type(dse_news)"
   ]
  },
  {
   "cell_type": "code",
   "execution_count": 12,
   "metadata": {
    "colab": {
     "base_uri": "https://localhost:8080/",
     "height": 109
    },
    "id": "1eKIL9rDw90m",
    "outputId": "9e8d0306-c5fa-48a0-9ea3-dc4e446cfc70"
   },
   "outputs": [
    {
     "data": {
      "text/plain": [
       "'Trading Code:\\nMEGHNALIFE\\nNews Title:\\nMEGHNALIFE: Board Meeting schedule under LR 19(1)\\nNews:\\nAs per Regulation 19(1) of the Dhaka Stock Exchange (Listing) Regulations, 2015, the company has informed that a meeting of the Board of Directors will be held on September 04, 2022 at 4:00 PM to consider, among others, audited financial statements of the company for the year ended December 31, 2021.\\nPost Date:\\n2022-08-25\\nTrading Code:\\nEXCH\\nNews Title:\\nDSENEWS: Daily Turnover\\nNews:\\nToday\\'s (25.08.2022) Total Trades: 267,596; Volume: 414,011,946 and Turnover: Tk. 17,774.527 million.\\nPost Date:\\n2022-08-25\\nTrading Code:\\nTCS\\nNews Title:\\nDSENEWS: Withdrawal of Authorized Representative\\nNews:\\nWithdrawal of Authorized Representative: Transcon Securities Limited. (DSE TREC No. 55) has withdrawn one of its Authorized Representatives, Mr. Md. Abdul Baker with immediate effect.\\nPost Date:\\n2022-08-25\\nTrading Code:\\nSSS\\nNews Title:\\nDSENEWS: Withdrawal of Authorized Representative\\nNews:\\nWithdrawal of Authorized Representative: Sterling Stocks & Securities Limited. (DSE TREC No. 249) has withdrawn one of its Authorized Representatives, Mr. Md. Ali Haidar Rashid with immediate effect.\\nPost Date:\\n2022-08-25\\nTrading Code:\\nGSL\\nNews Title:\\nDSENEWS: Withdrawal of Authorized Representative\\nNews:\\nWithdrawal of Authorized Representative: Globe Securities Limited. (DSE TREC No. 189) has withdrawn one of its Authorized Representatives, Mr. Md. Mazibur Rahman with immediate effect.\\nPost Date:\\n2022-08-25\\nTrading Code:\\nPRIMEBANK\\nNews Title:\\nPRIMEBANK: Share Transmission Completion of Deceased Sponsor Director\\nNews:\\nThe Company has further informed that 2,80,38,000 shares of Late Mrs. Marina Yasmin Chowdhury, one of the Sponsor Directors of the company, have been transmitted to her nominee Mr. Azam J Chowdhury (Spouse and Nominated Director of the Company), by way of nomination as news disseminated on 22.08.2022.\\nPost Date:\\n2022-08-25\\nTrading Code:\\nIBNSINA\\nNews Title:\\nIBNSINA: Board Meeting schedule under LR 19(1)\\nNews:\\nAs per Regulation 19(1) of the Dhaka Stock Exchange (Listing) Regulations, 2015, the company has informed that a meeting of the Board of Directors will be held on September 05, 2022 at 2:30 PM to consider, among others, audited financial statements of the company for the year ended June 30, 2022.\\nPost Date:\\n2022-08-25\\nTrading Code:\\nWALTONHIL\\nNews Title:\\nWALTONHIL: Sale Declaration of a Sponsor Director\\nNews:\\nReferring to the BSEC letter No. BSEC/SRMIC/160-2020(Part-I)/200 dated May 22, 2022, S. M. Ashraful Alam, one of the Sponsor Directors of the Company, has expressed his intention to sell 1,00,000 shares out of his holding 6,60,00,000 shares of the company at prevailing market price (in the Public Market) through Dhaka Stock Exchange within next 30 working days.\\nPost Date:\\n2022-08-25\\nTrading Code:\\nPOPULARLIF\\nNews Title:\\nPOPULARLIF: Resumption after record date\\nNews:\\nTrading of the shares of the company will resume on 28.08.2022 after record date.\\nPost Date:\\n2022-08-25\\nTrading Code:\\nSONARBAINS\\nNews Title:\\nSONARBAINS: Resumption after record date\\nNews:\\nTrading of the shares of the company will resume on 28.08.2022 after record date.\\nPost Date:\\n2022-08-25\\nTrading Code:\\nFIRSTSBANK\\nNews Title:\\nFIRSTSBANK: Non-approval of Rights Share issuance by BSEC\\nNews:\\n(continuation news of FIRSTSBANK): due to failure to form Nomination and Remuneration Committee (NRC), increase in number of outstanding shares for payment of Stock Dividend for the year 2021 and trading its shares in the month of August 2022 near to face value. (end)\\nPost Date:\\n2022-08-25\\nTrading Code:\\nFIRSTSBANK\\nNews Title:\\nFIRSTSBANK: Non-approval of Rights Share issuance by BSEC\\nNews:\\nReference to earlier news disseminated by DSE on 19.09.2021 regarding decision to raise paid-up capital through issuance of Rights Share, the company has further informed that BSEC is not in a position to consider their application for approval of issuance of Rights Share of the company (cont.)\\nPost Date:\\n2022-08-25\\nTrading Code:\\nUPGDCL\\nNews Title:\\nUPGDCL: Board approval of the scheme of Amalgamation\\nNews:\\n(continuation news of UPGDCL): by the Honorable High Court Division of the Supreme Court of Bangladesh in accordance with the provisions of Section 228 and 229 of the Companies Act, 1994 and compliance of all related regulatory requirements including approval of the same Scheme by the members of \"Transferor Companies\" and United Power Generation and Distribution Company Limited and also requisite approval of the Banks and other Creditors. (end)\\nPost Date:\\n2022-08-25\\nTrading Code:\\nUPGDCL\\nNews Title:\\nUPGDCL: Board approval of the scheme of Amalgamation\\nNews:\\nThe Company has informed that the Board of Directors of the company has approved the Scheme of amalgamation of (i) United Anwara Power Ltd. (ii) United Energy Ltd. and (iii) United Jamalpur Power Ltd. (\"Collectively the Transferor Companies\") with United Power Generation & Distribution Co. Ltd. (UPGDCL), whereby, UPGDCL will merge with the Transferor Companies, and UPGDCL shall be the surviving entity. The above approval by the Board of Directors is subject to sanction of the Scheme (cont.)\\nPost Date:\\n2022-08-25\\nTrading Code:\\nLHBL\\nNews Title:\\nLHBL: Response to DSE Query\\nNews:\\nIn response to a DSE query dated August 24, 2022 regarding clarification on recent news published in the newspaper titled \"LafargeHolcim shares soar amid deal speculation\". The Company has informed that LafargeHolcim Bangladesh Ltd. does not have any information on the content of the aforesaid news article and they do not comment on rumors in the market.\\nPost Date:\\n2022-08-25\\nTrading Code:\\nEXCH\\nNews Title:\\nDSENEWS: Commencement of ICB AMCL CMSF Golden Jubilee Mutual Fund by GP\\nNews:\\n(Continuation of DSENEWS): Please visit the following website for subscription related updates: https://www.essbangladesh.com. (end)\\nPost Date:\\n2022-08-25\\nTrading Code:\\nEXCH\\nNews Title:\\nDSENEWS: Commencement of ICB AMCL CMSF Golden Jubilee Mutual Fund by GP\\nNews:\\n(Continuation of DSENEWS): and make the full payment to DSE through The City Bank Limited (A/C Name: Dhaka Stock Exchange Limited, A/C No.: 1121063938001) from August 25, 2022 to August 29, 2022 (during banking hour) from their consolidated customers\\' account based on total submitted application. Exchanges shall send the list of BO accounts who have applied in the IPO to the CDBL and CDBL shall verify the list of BO accounts provided by the Exchanges. (cont.2)\\nPost Date:\\n2022-08-25\\nTrading Code:\\nEXCH\\nNews Title:\\nDSENEWS: Commencement of ICB AMCL CMSF Golden Jubilee Mutual Fund by GP\\nNews:\\nThe subscription for units of ICB AMCL CMSF Golden Jubilee Mutual Fund will be started from August 17, 2022 and continued till August 24, 2022. Minimum and maximum amount allowed for subscription for General Public would be BDT 10,000 (ten thousand only) or any of its multiple. The registered TREC Holders/ merchant bankers have to upload the IPO application file of General Public in the Electronic Subscription System (ESS) from 10:00 AM of August 25, 2022 to 5:00 PM of August 29, 2022 (cont.1)\\nPost Date:\\n2022-08-25\\nTrading Code:\\nEXCH\\nNews Title:\\nDSENEWS: DSE Training News\\nNews:\\n(Continuation of DSENEWS): Queries in this regard may be directed to the Academy at +8809666702070, Ext. nos. 1342, 1344, Cell no - 01700707562 or email at training@dse.com.bd. (end)\\nPost Date:\\n2022-08-25\\nTrading Code:\\nEXCH\\nNews Title:\\nDSENEWS: DSE Training News\\nNews:\\nTraining Program on \"Asset Management: Mutual Funds/Collective Investment Scheme\": Due to unavoidable circumstances, the program has been rescheduled to be held on September 12 to 14, 2022 at 2:30 pm to 5:00 pm instead of August 23 to 25, 2022. For registration and information, contact to DSE Training Academy, DSE Tower (level -13), Plot No - 46, Road No - 21, Nikunja - 02, Dhaka - 1229 with a fee of BDT. 3,000/- (three thousand taka) only (excluding-all Taxes). (cont.)\\nPost Date:\\n2022-08-25\\nTrading Code:\\nSANDHANINS\\nNews Title:\\nSANDHANINS: Board Meeting schedule under LR 16(1)\\nNews:\\nAs per Regulation 16(1) of the Dhaka Stock Exchange (Listing) Regulations, 2015, the Company has informed that a meeting of the Board of Directors will be held on August 31, 2022 at 2:15 PM to consider, among others, un-audited financial statements of the Company for the First Quarter (Q1) period ended March 31, 2022 and Second Quarter (Q2) period ended June 30, 2022.\\nPost Date:\\n2022-08-25\\nTrading Code:\\nSANDHANINS\\nNews Title:\\nSANDHANINS: Board Meeting schedule under LR 19(1)\\nNews:\\nAs per Regulation 19(1) of the Dhaka Stock Exchange (Listing) Regulations, 2015, the company has informed that a meeting of the Board of Directors will be held on August 31, 2022 at 2:15 PM to consider, among others, audited financial statements of the company for the year ended December 31, 2021.\\nPost Date:\\n2022-08-25\\nTrading Code:\\nEXCH\\nNews Title:\\nDSENEWS: Commencement of ES of Navana Pharmaceuticals Limited by GP through ESS\\nNews:\\n(Continuation of DSENEWS): from their consolidated customers\\' account based on total submitted application. Exchanges shall send the list of BO accounts who have applied in the IPO to the CDBL and CDBL shall verify the list of BO accounts provided by the Exchanges regarding investment of general applicants in listed securities. Please visit the following website for subscription related updates: https://www.essbangladesh.com. (end)\\nPost Date:\\n2022-08-25\\nTrading Code:\\nEXCH\\nNews Title:\\nDSENEWS: Commencement of ES of Navana Pharmaceuticals Limited by GP through ESS\\nNews:\\n(Continuation of DSENEWS): The registered TREC Holders/ merchant bankers have to upload the IPO application file of General Public in the Electronic Subscription System (ESS) from 10:00 AM of September 20, 2022 to 5:30 PM of September 22, 2022 and make the full payment to DSE through Mercantile Bank Limited (A/C Name: Dhaka Stock Exchange Limited, A/C No.: 135413134079404) from September 20, 2022 to 2:00 PM of September 22, 2022 (during banking hour) (cont.3)\\nPost Date:\\n2022-08-25\\nTrading Code:\\nEXCH\\nNews Title:\\nDSENEWS: Commencement of ES of Navana Pharmaceuticals Limited by GP through ESS\\nNews:\\n(Continuation of DSENEWS): (day-end) in matured listed securities at market price (between the close price of both Exchanges whichever is higher) which is in accordance with the BSEC consent letter to Navana Pharmaceuticals Limited (Ref: BSEC/CI/IPO-323/2022/853, dated June 19, 2022). Minimum and maximum amount allowed for subscription for General Public would be BDT 10,000 (ten thousand only). (cont.2)\\nPost Date:\\n2022-08-25\\nTrading Code:\\nEXCH\\nNews Title:\\nDSENEWS: Commencement of ES of Navana Pharmaceuticals Limited by GP through ESS\\nNews:\\nCommencement of electronic subscription of Navana Pharmaceuticals Limited by General Public through Electronic Subscription System: The subscription for shares of Navana Pharmaceuticals Limited will be started from September 13, 2022 and continued till September 19, 2022. Minimum required investment for Resident Bangladeshi (RB) will be BDT 50,000 (fifty thousand only) and for Non-Resident Bangladeshi (NRB) will be BDT 100,000 (one lakh only) as on September 5, 2022 (cont.1)\\nPost Date:\\n2022-08-25\\nTrading Code:\\nEXCH\\nNews Title:\\nDSENEWS: Compliances and Awareness for Alert to Covid - 19\\nNews:\\n(continuation news of DSENEWS): (6) Arrangement of hand sanitizer every time to enter office premise (employees, clients and visitors), (7) Arrangement of mask to provide to employees and clients in the brokerage house, (8) Discourage visitors to enter into the office, (9) Arrangement of virtual office for part of employees on rotation basis and (10) Avoid face to face meetings in the office and encourage telephone/video conference among the employees and clients. (end)\\nPost Date:\\n2022-08-25\\nTrading Code:\\nEXCH\\nNews Title:\\nDSENEWS: Compliances and Awareness for Alert to Covid - 19\\nNews:\\nDSENEWS: All concerned are hereby informed that (1) Discourage clients for rushing in the brokerage house and encourage more for trading through mobile apps and other internet based devices, (2) No hand shake, (3) No hugging; (4) Maintain reasonable social distance (at least one meter), (4) Identifying employees and clients who is coughing or sneezing or with any suspicious symptoms, (5) Avoid touching eyes, nose, ears and mouth, (cont.)\\nPost Date:\\n2022-08-25\\nTrading Code:\\nEXCH\\nNews Title:\\nDSENEWS: Awareness message\\nNews:\\nDSENEWS: All Stock Dealers, Stock Brokers and Authorized Representatives are asked to strictly follow the code of conduct as enumerated in the Second Schedule to the Securities and Exchange Commission (Stock Dealer, Stock Broker and Authorized Representative) Rules, 2000.\\nPost Date:\\n2022-08-25\\nTrading Code:\\nEXCH\\nNews Title:\\nDSENEWS: Awareness Message for Investors\\nNews:\\n(Continuation of DSE News): If anyone spreads information based on rumor, using patent of DSE, he/she will be held liable under Copyright Act, 2000 and it shall be treated as punishable offence under Section-17 of the Securities and Exchange Ordinance, 1969. (end)\\nPost Date:\\n2022-08-25\\nTrading Code:\\nEXCH\\nNews Title:\\nDSENEWS: Awareness Message for Investors\\nNews:\\nDSE does not publish market data through any social media pages. INVESTORS should not rely on any information from an unauthorized source such as Facebook, WhatsApp, Viber, Linkedin etc. (cont.)\\nPost Date:\\n2022-08-25\\nTrading Code:\\nREGL\\nNews Title:\\nBSEC NEWS: Awareness Message for Investors\\nNews:\\n(Continuation of BSEC News - Awareness Message for Investors) 3. Do not pay any heed to rumors at the time of trading shares; it may cause loss to you. Even spreading rumor is legally prohibited. (Ref.: SEC letter no. SEC/SRMIC/2010/726 dated November 23, 2010). (end)\\nPost Date:\\n2022-08-25\\nTrading Code:\\nREGL\\nNews Title:\\nBSEC NEWS: Awareness Message for Investors\\nNews:\\nInvestors are requested to consider the following facts at the time of making investment decision in the Capital Market: 1. Without acquiring proper knowledge, information and experience regarding different aspects and matters of Capital Market, one should not invest in the Capital Market. 2. The gain or loss, whichever comes from the investment, it belongs to you. So, well - thought of investment decision based on knowledge and fundamentals of the securities may be real assistance to you. (cont.)\\nPost Date:\\n2022-08-25\\nTrading Code:\\nEXCH\\nNews Title:\\nDSENEWS: Greetings Message\\nNews:\\nHonorable Investors, Good morning! Please make your investment decision based on Company fundamentals, technical analysis, price level and disclosed information. Avoid rumor-based speculations.\\nPost Date:\\n2022-08-25\\nTrading Code:\\nEXCH\\nNews Title:\\nDSENEWS: Daily Turnover\\nNews:\\nToday\\'s (24.08.2022) Total Trades: 198,484; Volume: 266,033,402 and Turnover: Tk. 11,337.162 million.\\nPost Date:\\n2022-08-24\\nTrading Code:\\nCBLPBOND\\nNews Title:\\nCBLPBOND: Trustee Meeting to declare Coupon Rate\\nNews:\\nThe Trustee of City Bank Perpetual Bond has informed that a meeting of the Trustee will be held on August 25, 2022 at 3:00 PM to declare Coupon Rate applicable for the period from September 01, 2022 to February 28, 2023.\\nPost Date:\\n2022-08-24\\nTrading Code:\\nJSL\\nNews Title:\\nDSENEWS: Withdrawal of Authorized Representative\\nNews:\\nWithdrawal of Authorized Representative: Joytun Securities International Ltd. (DSE TREC No. 148) has withdrawn one of its Authorized Representatives, Mr. Ashraf Uddin Ahmed with immediate effect.\\nPost Date:\\n2022-08-24\\nTrading Code:\\nUCS\\nNews Title:\\nDSENEWS: Withdrawal of Authorized Representative\\nNews:\\nWithdrawal of Authorized Representative: UniCap Securities Limited. (DSE TREC No. 163) has withdrawn one of its Authorized Representatives, Mr. Bimal Chandra Devnath with immediate effect.\\nPost Date:\\n2022-08-24\\nTrading Code:\\nUNIONCAP\\nNews Title:\\nUNIONCAP: Elected of the Chairman\\nNews:\\nThe Company has informed that the Board of Directors has elected Mr. G.M. Khurshid Alam, Ph.D. as the Chairman of the Company.\\nPost Date:\\n2022-08-24\\nTrading Code:\\nASIAINS\\nNews Title:\\nASIAINS: Dividend Disbursement\\nNews:\\nThe Company has informed that it has disbursed the cash dividend for the year ended December 31, 2021 to the respective shareholders.\\nPost Date:\\n2022-08-24\\nTrading Code:\\nEXCH\\nNews Title:\\nDSENEWS: Commencement of ES of Navana Pharmaceuticals Limited by GP through ESS\\nNews:\\n(Continuation of DSENEWS): from their consolidated customers\\' account based on total submitted application. Exchanges shall send the list of BO accounts who have applied in the IPO to the CDBL and CDBL shall verify the list of BO accounts provided by the Exchanges regarding investment of general applicants in listed securities. Please visit the following website for subscription related updates: https://www.essbangladesh.com. (end)\\nPost Date:\\n2022-08-24\\nTrading Code:\\nEXCH\\nNews Title:\\nDSENEWS: Commencement of ES of Navana Pharmaceuticals Limited by GP through ESS\\nNews:\\n(Continuation of DSENEWS): The registered TREC Holders/ merchant bankers have to upload the IPO application file of General Public in the Electronic Subscription System (ESS) from 10:00 AM of September 20, 2022 to 5:30 PM of September 22, 2022 and make the full payment to DSE through Mercantile Bank Limited (A/C Name: Dhaka Stock Exchange Limited, A/C No.: 135413134079404) from September 20, 2022 to 2:00 PM of September 22, 2022 (during banking hour) (cont.3)\\nPost Date:\\n2022-08-24\\nTrading Code:\\nEXCH\\nNews Title:\\nDSENEWS: Commencement of ES of Navana Pharmaceuticals Limited by GP through ESS\\nNews:\\n(Continuation of DSENEWS): (day-end) in matured listed securities at market price (between the close price of both Exchanges whichever is higher) which is in accordance with the BSEC consent letter to Navana Pharmaceuticals Limited (Ref: BSEC/CI/IPO-323/2022/853, dated June 19, 2022). Minimum and maximum amount allowed for subscription for General Public would be BDT 10,000 (ten thousand only). (cont.2)\\nPost Date:\\n2022-08-24\\nTrading Code:\\nEXCH\\nNews Title:\\nDSENEWS: Commencement of ES of Navana Pharmaceuticals Limited by GP through ESS\\nNews:\\nCommencement of electronic subscription of Navana Pharmaceuticals Limited by General Public through Electronic Subscription System: The subscription for shares of Navana Pharmaceuticals Limited will be started from September 13, 2022 and continued till September 19, 2022. Minimum required investment for Resident Bangladeshi (RB) will be BDT 50,000 (fifty thousand only) and for Non-Resident Bangladeshi (NRB) will be BDT 100,000 (one lakh only) as on September 5, 2022 (cont.1)\\nPost Date:\\n2022-08-24\\nTrading Code:\\nMIRAKHTER\\nNews Title:\\nMIRAKHTER: Address Change of Corporate Office\\nNews:\\nThe Company has informed that it has shifted the corporate office of the Company to its new address at 430/1, Tejgaon I/A, Dhaka-1208.\\nPost Date:\\n2022-08-24\\nTrading Code:\\nMETROSPIN\\nNews Title:\\nMETROSPIN: Query Response\\nNews:\\nIn response to a DSE query, the Company has informed that there is no undisclosed price sensitive information of the Company for recent unusual price hike and increase in volume of shares.\\nPost Date:\\n2022-08-24\\nTrading Code:\\nFIRSTFIN\\nNews Title:\\nFIRSTFIN: Resumption after record date\\nNews:\\nTrading of the shares of the company will resume on 25.08.2022 after record date.\\nPost Date:\\n2022-08-24\\nTrading Code:\\nPOPULARLIF\\nNews Title:\\nPOPULARLIF: Suspension for Record date\\nNews:\\nTrading of the shares of the company will remain suspended on record date i.e., 25.08.2022.\\nPost Date:\\n2022-08-24\\nTrading Code:\\nSONARBAINS\\nNews Title:\\nSONARBAINS: Suspension for Record date\\nNews:\\nTrading of the shares of the company will remain suspended on record date i.e., 25.08.2022.\\nPost Date:\\n2022-08-24\\nTrading Code:\\nCBLPBOND\\nNews Title:\\nCBLPBOND: Spot News\\nNews:\\nTrading of City Bank Perpetual Bond will be allowed only in the Spot Market and Block transaction will also be settled as per spot settlement cycle with cum benefit from 25.08.2022 to 28.08.2022 and trading of City Bank Perpetual Bond will remain suspended on record date i.e., 29.08.2022.\\nPost Date:\\n2022-08-24\\nTrading Code:\\nMIDASFIN\\nNews Title:\\nMIDASFIN: Dividend Disbursement\\nNews:\\nThe Company has informed that it has disbursed the cash dividend for the year ended December 31, 2021 to the respective shareholders.\\nPost Date:\\n2022-08-24\\nTrading Code:\\nCENTRALINS\\nNews Title:\\nCENTRALINS: Dividend Disbursement\\nNews:\\nThe Company has informed that it has disbursed the cash dividend for the year ended December 31, 2021 to the respective shareholders.\\nPost Date:\\n2022-08-24\\nTrading Code:\\nEXCH\\nNews Title:\\nDSENEWS: Commencement of ICB AMCL CMSF Golden Jubilee Mutual Fund by GP\\nNews:\\n(Continuation of DSENEWS): Please visit the following website for subscription related updates: https://www.essbangladesh.com. (end)\\nPost Date:\\n2022-08-24\\nTrading Code:\\nEXCH\\nNews Title:\\nDSENEWS: Commencement of ICB AMCL CMSF Golden Jubilee Mutual Fund by GP\\nNews:\\n(Continuation of DSENEWS): and make the full payment to DSE through The City Bank Limited (A/C Name: Dhaka Stock Exchange Limited, A/C No.: 1121063938001) from August 25, 2022 to August 29, 2022 (during banking hour) from their consolidated customers\\' account based on total submitted application. Exchanges shall send the list of BO accounts who have applied in the IPO to the CDBL and CDBL shall verify the list of BO accounts provided by the Exchanges. (cont.2)\\nPost Date:\\n2022-08-24\\nTrading Code:\\nEXCH\\nNews Title:\\nDSENEWS: Commencement of ICB AMCL CMSF Golden Jubilee Mutual Fund by GP\\nNews:\\nThe subscription for units of ICB AMCL CMSF Golden Jubilee Mutual Fund will be started from August 17, 2022 and continued till August 24, 2022. Minimum and maximum amount allowed for subscription for General Public would be BDT 10,000 (ten thousand only) or any of its multiple. The registered TREC Holders/ merchant bankers have to upload the IPO application file of General Public in the Electronic Subscription System (ESS) from 10:00 AM of August 25, 2022 to 5:00 PM of August 29, 2022 (cont.1)\\nPost Date:\\n2022-08-24\\nTrading Code:\\nEXCH\\nNews Title:\\nDSENEWS: DSE Training News\\nNews:\\n(Continuation of DSENEWS): Queries in this regard may be directed to the Academy at +8809666702070, Ext. nos. 1342, 1344, Cell no - 01700707562 or email at training@dse.com.bd. (end)\\nPost Date:\\n2022-08-24\\nTrading Code:\\nEXCH\\nNews Title:\\nDSENEWS: DSE Training News\\nNews:\\nTraining Program on \"Asset Management: Mutual Funds/Collective Investment Scheme\": Due to unavoidable circumstances, the program has been rescheduled to be held on September 12 to 14, 2022 at 2:30 pm to 5:00 pm instead of August 23 to 25, 2022. For registration and information, contact to DSE Training Academy, DSE Tower (level -13), Plot No - 46, Road No - 21, Nikunja - 02, Dhaka - 1229 with a fee of BDT. 3,000/- (three thousand taka) only (excluding-all Taxes). (cont.)\\nPost Date:\\n2022-08-24\\nTrading Code:\\nEXCH\\nNews Title:\\nDSENEWS: Commencement of ICB AMCL CMSF Golden Jubilee Mutual Fund\\nNews:\\n(Continuation of DSENEWS): Participating EIs will be required to pay full subscription amount (100%) and subscription fee of Tk. 3,000.00 (three thousand only) through The City Bank Limited (A/C Name: Dhaka Stock Exchange Limited, A/C No. :1121063938001) in between 10:00 a.m. of August 17, 2022 to 2:00 p.m. of August 24, 2022 (during banking hour). Please visit the following website for subscription related updates: https://www.essbangladesh.com. (end)\\nPost Date:\\n2022-08-24\\nTrading Code:\\nEXCH\\nNews Title:\\nDSENEWS: Commencement of ICB AMCL CMSF Golden Jubilee Mutual Fund\\nNews:\\n(Continuation of DSENEWS): as per Rule 2(1)(e) of the Bangladesh Securities and Exchange Commission (Public Issue) Rules, 2015; which is in accordance with the BSEC consent letter to ICB Ref: BSEC/MF&SPV/MF-266/2021/1491 dated July 07, 2022. The Central Depository Bangladesh Limited (CDBL) shall send a report to the exchange regarding the holding of EIs in the matured listed securities and the exchange shall ensure the compliance in this regard. (cont. 3)\\nPost Date:\\n2022-08-24\\nTrading Code:\\nEXCH\\nNews Title:\\nDSENEWS: Commencement of ICB AMCL CMSF Golden Jubilee Mutual Fund\\nNews:\\n(Continuation of DSENEWS): Each Eligible Investor (EI) who intends to submit application through the Electronic Subscription System (ESS) of the exchange(s) shall maintain a minimum investment of BDT 50,00,000 (fifty lakh only) for approved pension funds, recognized provident funds and approved gratuity funds and other Els of BDT 1,00,00,000.00 (one crore only) at market price in listed securities as on August 07, 2022 (day-end) (cont. 2)\\nPost Date:\\n2022-08-24\\nTrading Code:\\nEXCH\\nNews Title:\\nDSENEWS: Commencement of ICB AMCL CMSF Golden Jubilee Mutual Fund\\nNews:\\nCommencement of electronic subscription by ICB AMCL CMSF Golden Jubilee Mutual Fund through electronic subscription system under fixed price method: The subscription for units of ICB AMCL CMSF Golden Jubilee Mutual Fund by the eligible investors through electronic subscription system of the stock exchanges under fixed price method will be started from 10:00 AM of August 17, 2022 and continued till 5:00 PM of August 24, 2022. (cont.1)\\nPost Date:\\n2022-08-24\\nTrading Code:\\nEXCH\\nNews Title:\\nEXCH: Change of trading hours\\nNews:\\nDSE NEWS: This is to inform all concerned that the trading hours of DSE will be as follows from August 24, 2022: Continuous trading session from 9:30 AM to 1:50 PM and Post-closing session from 1:50 PM to 2:00 PM. Office hours of DSE from August 24, 2022: 8:30 AM to 3:30 PM.\\nPost Date:\\n2022-08-24\\nTrading Code:\\nEXCH\\nNews Title:\\nDSENEWS: Compliances and Awareness for Alert to Covid - 19\\nNews:\\n(continuation news of DSENEWS): (6) Arrangement of hand sanitizer every time to enter office premise (employees, clients and visitors), (7) Arrangement of mask to provide to employees and clients in the brokerage house, (8) Discourage visitors to enter into the office, (9) Arrangement of virtual office for part of employees on rotation basis and (10) Avoid face to face meetings in the office and encourage telephone/video conference among the employees and clients. (end)\\nPost Date:\\n2022-08-24\\nTrading Code:\\nEXCH\\nNews Title:\\nDSENEWS: Compliances and Awareness for Alert to Covid - 19\\nNews:\\nDSENEWS: All concerned are hereby informed that (1) Discourage clients for rushing in the brokerage house and encourage more for trading through mobile apps and other internet based devices, (2) No hand shake, (3) No hugging; (4) Maintain reasonable social distance (at least one meter), (4) Identifying employees and clients who is coughing or sneezing or with any suspicious symptoms, (5) Avoid touching eyes, nose, ears and mouth, (cont.)\\nPost Date:\\n2022-08-24\\nTrading Code:\\nEXCH\\nNews Title:\\nDSENEWS: Awareness message\\nNews:\\nDSENEWS: All Stock Dealers, Stock Brokers and Authorized Representatives are asked to strictly follow the code of conduct as enumerated in the Second Schedule to the Securities and Exchange Commission (Stock Dealer, Stock Broker and Authorized Representative) Rules, 2000.\\nPost Date:\\n2022-08-24\\nTrading Code:\\nEXCH\\nNews Title:\\nDSENEWS: Awareness Message for Investors\\nNews:\\n(Continuation of DSE News): If anyone spreads information based on rumor, using patent of DSE, he/she will be held liable under Copyright Act, 2000 and it shall be treated as punishable offence under Section-17 of the Securities and Exchange Ordinance, 1969. (end)\\nPost Date:\\n2022-08-24\\nTrading Code:\\nEXCH\\nNews Title:\\nDSENEWS: Awareness Message for Investors\\nNews:\\nDSE does not publish market data through any social media pages. INVESTORS should not rely on any information from an unauthorized source such as Facebook, WhatsApp, Viber, Linkedin etc. (cont.)\\nPost Date:\\n2022-08-24\\nTrading Code:\\nREGL\\nNews Title:\\nBSEC NEWS: Awareness Message for Investors\\nNews:\\n(Continuation of BSEC News - Awareness Message for Investors) 3. Do not pay any heed to rumors at the time of trading shares; it may cause loss to you. Even spreading rumor is legally prohibited. (Ref.: SEC letter no. SEC/SRMIC/2010/726 dated November 23, 2010). (end)\\nPost Date:\\n2022-08-24\\nTrading Code:\\nREGL\\nNews Title:\\nBSEC NEWS: Awareness Message for Investors\\nNews:\\nInvestors are requested to consider the following facts at the time of making investment decision in the Capital Market: 1. Without acquiring proper knowledge, information and experience regarding different aspects and matters of Capital Market, one should not invest in the Capital Market. 2. The gain or loss, whichever comes from the investment, it belongs to you. So, well - thought of investment decision based on knowledge and fundamentals of the securities may be real assistance to you. (cont.)\\nPost Date:\\n2022-08-24\\nTrading Code:\\nEXCH\\nNews Title:\\nDSENEWS: Greetings Message\\nNews:\\nHonorable Investors, Good morning! Please make your investment decision based on Company fundamentals, technical analysis, price level and disclosed information. Avoid rumor-based speculations.\\nPost Date:\\n2022-08-24\\nTrading Code:\\nSOUTHEASTB\\nNews Title:\\nSOUTHEASTB: Dividend Disbursement\\nNews:\\nThe Company has informed that it has credited the Bonus shares for the year ended December 31, 2021 to the respective shareholders\\' BO Accounts on August 23, 2022.\\nPost Date:\\n2022-08-23\\nTrading Code:\\nPAPERPROC\\nNews Title:\\nPAPERPROC: Query Response\\nNews:\\nIn response to a DSE query, the Company has informed that there is no undisclosed price sensitive information of the Company for recent unusual price hike and increase in volume of shares.\\nPost Date:\\n2022-08-23\\nTrading Code:\\nEXCH\\nNews Title:\\nDSENEWS: Daily Turnover\\nNews:\\nToday\\'s (23.08.2022) Total Trades: 258,201; Volume: 340,645,299 and Turnover: Tk. 14,874.418 million.\\nPost Date:\\n2022-08-23\\nTrading Code:\\nSHS\\nNews Title:\\nDSENEWS: Withdrawal of Authorized Representative\\nNews:\\nWithdrawal of Authorized Representative: Treasure Securities Ltd. (DSE TREC No. 221) has withdrawn one of its Authorized Representatives, Mr. A.K.M Nazrul Islam with immediate effect.\\nPost Date:\\n2022-08-23\\nTrading Code:\\nEXCH\\nNews Title:\\nEXCH: Change of trading hours\\nNews:\\nDSE NEWS: This is to inform all concerned that the trading hours of DSE will be as follows from August 24, 2022: Continuous trading session from 9:30 AM to 1:50 PM and Post-closing session from 1:50 PM to 2:00 PM. Office hours of DSE from August 24, 2022: 8:30 AM to 3:30 PM.\\nPost Date:\\n2022-08-23\\nTrading Code:\\nFIRSTFIN\\nNews Title:\\nFIRSTFIN: Suspension for Record date\\nNews:\\nTrading of the shares of the company will remain suspended on record date i.e., 24.08.2022.\\nPost Date:\\n2022-08-23\\nTrading Code:\\nPLFSL\\nNews Title:\\nPLFSL: Extension of suspension period of Trading of Shares\\nNews:\\n(DSENEWS): Referring to the earlier news disseminated on 08.08.2022 regarding Trading suspension of Shares of the Company, upon authorization of the Board, the Management of DSE has decided to extend the suspension period of trading of shares of the Company for further period of 15 days effective from August 23, 2022 in accordance with Sub-Section (7) & (8) of the Section 9 of the Securities and Exchange Ordinance, 1969 and Regulation 50 of the Dhaka Stock Exchange (Listing) Regulations, 2015.\\nPost Date:\\n2022-08-23\\nTrading Code:\\nBSCCL\\nNews Title:\\nBSCCL: Appointment of Managing Director\\nNews:\\nThe Company has informed that Mr. Md. Shahab Uddin has been appointed as the Managing Director of the Company.\\nPost Date:\\n2022-08-23\\nTrading Code:\\nSHEPHERD\\nNews Title:\\nSHEPHERD: Approval of amalgamation with Shepherd Textile (BD) Limited\\nNews:\\n(continuation news of SHEPHERD): The approval is subject to requisite approval of the scheme of amalgamation by the banks, other creditors and shareholders of the company and other stakeholders and sanction of the scheme of amalgamation by the Hon\\'ble High Court Division of the Supreme Court of Bangladesh. (end)\\nPost Date:\\n2022-08-23\\nTrading Code:\\nSHEPHERD\\nNews Title:\\nSHEPHERD: Approval of amalgamation with Shepherd Textile (BD) Limited\\nNews:\\nThe Company has informed that the Board of Directors approved the decision of amalgamation of the company with one of its sister concerns namely, Shepherd Textile (BD) Limited (STBL) whereby STBL will get amalgamated with the company and upon completion of the amalgamation of the company shall be the surviving entity. (cont.)\\nPost Date:\\n2022-08-23\\nTrading Code:\\nSKICL\\nNews Title:\\nSKICL: Credit Rating Result\\nNews:\\nAlpha Credit Rating Limited (AlphaRating) has rated the Company as \"AA\" in the long term and \"ST-1\" in the short term along with a Stable outlook based on audited financial statements of the company as on December 31, 2021 and relevant qualitative information till August 21, 2022.\\nPost Date:\\n2022-08-23\\nTrading Code:\\nEXCH\\nNews Title:\\nDSENEWS: Commencement of ICB AMCL CMSF Golden Jubilee Mutual Fund by GP\\nNews:\\n(Continuation of DSENEWS): Please visit the following website for subscription related updates: https://www.essbangladesh.com. (end)\\nPost Date:\\n2022-08-23\\nTrading Code:\\nEXCH\\nNews Title:\\nDSENEWS: Commencement of ICB AMCL CMSF Golden Jubilee Mutual Fund by GP\\nNews:\\n(Continuation of DSENEWS): and make the full payment to DSE through The City Bank Limited (A/C Name: Dhaka Stock Exchange Limited, A/C No.: 1121063938001) from August 25, 2022 to August 29, 2022 (during banking hour) from their consolidated customers\\' account based on total submitted application. Exchanges shall send the list of BO accounts who have applied in the IPO to the CDBL and CDBL shall verify the list of BO accounts provided by the Exchanges. (cont.2)\\nPost Date:\\n2022-08-23\\nTrading Code:\\nEXCH\\nNews Title:\\nDSENEWS: Commencement of ICB AMCL CMSF Golden Jubilee Mutual Fund by GP\\nNews:\\nThe subscription for units of ICB AMCL CMSF Golden Jubilee Mutual Fund will be started from August 17, 2022 and continued till August 24, 2022. Minimum and maximum amount allowed for subscription for General Public would be BDT 10,000 (ten thousand only) or any of its multiple. The registered TREC Holders/ merchant bankers have to upload the IPO application file of General Public in the Electronic Subscription System (ESS) from 10:00 AM of August 25, 2022 to 5:00 PM of August 29, 2022 (cont.1)\\nPost Date:\\n2022-08-23\\nTrading Code:\\nMTB\\nNews Title:\\nMTB: Sale and Buy Declarations\\nNews:\\nAssociated Builders Corporation Ltd., one of the Corporate Sponsor Directors of the Company, has expressed its intention to sell 24,37,500 shares out of its holding 1,88,19,919 shares (in the Block Market) whereas Mr. Rashed Ahmed Chowdhury, one of the Nominated Directors of the company has expressed his intention to buy 24,37,500 shares at prevailing market price (in the Block Market) through Dhaka Stock Exchange within next 30 working days.\\nPost Date:\\n2022-08-23\\nTrading Code:\\nKAY&QUE\\nNews Title:\\nKAY&QUE: Query Response\\nNews:\\nIn response to a DSE query, the Company has informed that there is no undisclosed price sensitive information of the Company for recent unusual price hike and increase in volume of shares.\\nPost Date:\\n2022-08-23\\nTrading Code:\\nEXCH\\nNews Title:\\nDSENEWS: DSE Training News\\nNews:\\nTraining Program on \"Asset Management: Mutual Funds/Collective Investment Scheme\": Due to unavoidable circumstances, the program has been rescheduled to be held on September 12 to 14, 2022 at 2:30 pm to 5:00 pm instead of August 23 to 25, 2022. For registration and information, contact to DSE Training Academy, DSE Tower (level -13), Plot No - 46, Road No - 21, Nikunja - 02, Dhaka - 1229 with a fee of BDT. 3,000/- (three thousand taka) only (excluding-all Taxes). (cont.)\\nPost Date:\\n2022-08-23\\nTrading Code:\\nEXCH\\nNews Title:\\nDSENEWS: DSE Training News\\nNews:\\n(Continuation of DSENEWS): Queries in this regard may be directed to the Academy at +8809666702070, Ext. nos. 1342, 1344, Cell no - 01700707562 or email at training@dse.com.bd. (end)\\nPost Date:\\n2022-08-23\\nTrading Code:\\nEXCH\\nNews Title:\\nDSENEWS: Commencement of ICB AMCL CMSF Golden Jubilee Mutual Fund\\nNews:\\n(Continuation of DSENEWS): Participating EIs will be required to pay full subscription amount (100%) and subscription fee of Tk. 3,000.00 (three thousand only) through The City Bank Limited (A/C Name: Dhaka Stock Exchange Limited, A/C No. :1121063938001) in between 10:00 a.m. of August 17, 2022 to 2:00 p.m. of August 24, 2022 (during banking hour). Please visit the following website for subscription related updates: https://www.essbangladesh.com. (end)\\nPost Date:\\n2022-08-23\\nTrading Code:\\nEXCH\\nNews Title:\\nDSENEWS: Commencement of ICB AMCL CMSF Golden Jubilee Mutual Fund\\nNews:\\n(Continuation of DSENEWS): as per Rule 2(1)(e) of the Bangladesh Securities and Exchange Commission (Public Issue) Rules, 2015; which is in accordance with the BSEC consent letter to ICB Ref: BSEC/MF&SPV/MF-266/2021/1491 dated July 07, 2022. The Central Depository Bangladesh Limited (CDBL) shall send a report to the exchange regarding the holding of EIs in the matured listed securities and the exchange shall ensure the compliance in this regard. (cont. 3)\\nPost Date:\\n2022-08-23\\nTrading Code:\\nEXCH\\nNews Title:\\nDSENEWS: Commencement of ICB AMCL CMSF Golden Jubilee Mutual Fund\\nNews:\\n(Continuation of DSENEWS): Each Eligible Investor (EI) who intends to submit application through the Electronic Subscription System (ESS) of the exchange(s) shall maintain a minimum investment of BDT 50,00,000 (fifty lakh only) for approved pension funds, recognized provident funds and approved gratuity funds and other Els of BDT 1,00,00,000.00 (one crore only) at market price in listed securities as on August 07, 2022 (day-end) (cont. 2)\\nPost Date:\\n2022-08-23\\nTrading Code:\\nEXCH\\nNews Title:\\nDSENEWS: Commencement of ICB AMCL CMSF Golden Jubilee Mutual Fund\\nNews:\\nCommencement of electronic subscription by ICB AMCL CMSF Golden Jubilee Mutual Fund through electronic subscription system under fixed price method: The subscription for units of ICB AMCL CMSF Golden Jubilee Mutual Fund by the eligible investors through electronic subscription system of the stock exchanges under fixed price method will be started from 10:00 AM of August 17, 2022 and continued till 5:00 PM of August 24, 2022. (cont.1)\\nPost Date:\\n2022-08-23\\nTrading Code:\\nEXCH\\nNews Title:\\nDSENEWS: Compliances and Awareness for Alert to Covid - 19\\nNews:\\n(continuation news of DSENEWS): (6) Arrangement of hand sanitizer every time to enter office premise (employees, clients and visitors), (7) Arrangement of mask to provide to employees and clients in the brokerage house, (8) Discourage visitors to enter into the office, (9) Arrangement of virtual office for part of employees on rotation basis and (10) Avoid face to face meetings in the office and encourage telephone/video conference among the employees and clients. (end)\\nPost Date:\\n2022-08-23\\nTrading Code:\\nEXCH\\nNews Title:\\nDSENEWS: Compliances and Awareness for Alert to Covid - 19\\nNews:\\nDSENEWS: All concerned are hereby informed that (1) Discourage clients for rushing in the brokerage house and encourage more for trading through mobile apps and other internet based devices, (2) No hand shake, (3) No hugging; (4) Maintain reasonable social distance (at least one meter), (4) Identifying employees and clients who is coughing or sneezing or with any suspicious symptoms, (5) Avoid touching eyes, nose, ears and mouth, (cont.)\\nPost Date:\\n2022-08-23\\nTrading Code:\\nEXCH\\nNews Title:\\nDSENEWS: Awareness message\\nNews:\\nDSENEWS: All Stock Dealers, Stock Brokers and Authorized Representatives are asked to strictly follow the code of conduct as enumerated in the Second Schedule to the Securities and Exchange Commission (Stock Dealer, Stock Broker and Authorized Representative) Rules, 2000.\\nPost Date:\\n2022-08-23\\nTrading Code:\\nEXCH\\nNews Title:\\nDSENEWS: Awareness Message for Investors\\nNews:\\n(Continuation of DSE News): If anyone spreads information based on rumor, using patent of DSE, he/she will be held liable under Copyright Act, 2000 and it shall be treated as punishable offence under Section-17 of the Securities and Exchange Ordinance, 1969. (end)\\nPost Date:\\n2022-08-23\\nTrading Code:\\nEXCH\\nNews Title:\\nDSENEWS: Awareness Message for Investors\\nNews:\\nDSE does not publish market data through any social media pages. INVESTORS should not rely on any information from an unauthorized source such as Facebook, WhatsApp, Viber, Linkedin etc. (cont.)\\nPost Date:\\n2022-08-23\\nTrading Code:\\nREGL\\nNews Title:\\nBSEC NEWS: Awareness Message for Investors\\nNews:\\n(Continuation of BSEC News - Awareness Message for Investors) 3. Do not pay any heed to rumors at the time of trading shares; it may cause loss to you. Even spreading rumor is legally prohibited. (Ref.: SEC letter no. SEC/SRMIC/2010/726 dated November 23, 2010). (end)\\nPost Date:\\n2022-08-23\\nTrading Code:\\nREGL\\nNews Title:\\nBSEC NEWS: Awareness Message for Investors\\nNews:\\nInvestors are requested to consider the following facts at the time of making investment decision in the Capital Market: 1. Without acquiring proper knowledge, information and experience regarding different aspects and matters of Capital Market, one should not invest in the Capital Market. 2. The gain or loss, whichever comes from the investment, it belongs to you. So, well - thought of investment decision based on knowledge and fundamentals of the securities may be real assistance to you. (cont.)\\nPost Date:\\n2022-08-23\\nTrading Code:\\nEXCH\\nNews Title:\\nDSENEWS: Greetings Message\\nNews:\\nHonorable Investors, Good morning! Please make your investment decision based on Company fundamentals, technical analysis, price level and disclosed information. Avoid rumor-based speculations.\\nPost Date:\\n2022-08-23\\nTrading Code:\\nEXCH\\nNews Title:\\nDSENEWS: Commencement of ICB AMCL CMSF Golden Jubilee Mutual Fund by GP\\nNews:\\n(Continuation of DSENEWS): Please visit the following website for subscription related updates: https://www.essbangladesh.com. (end)\\nPost Date:\\n2022-08-22\\nTrading Code:\\nEXCH\\nNews Title:\\nDSENEWS: Commencement of ICB AMCL CMSF Golden Jubilee Mutual Fund by GP\\nNews:\\n(Continuation of DSENEWS): and make the full payment to DSE through The City Bank Limited (A/C Name: Dhaka Stock Exchange Limited, A/C No.: 1121063938001) from August 25, 2022 to August 29, 2022 (during banking hour) from their consolidated customers\\' account based on total submitted application. Exchanges shall send the list of BO accounts who have applied in the IPO to the CDBL and CDBL shall verify the list of BO accounts provided by the Exchanges. (cont.2)\\nPost Date:\\n2022-08-22\\nTrading Code:\\nEXCH\\nNews Title:\\nDSENEWS: Commencement of ICB AMCL CMSF Golden Jubilee Mutual Fund by GP\\nNews:\\nThe subscription for units of ICB AMCL CMSF Golden Jubilee Mutual Fund will be started from August 17, 2022 and continued till August 24, 2022. Minimum and maximum amount allowed for subscription for General Public would be BDT 10,000 (ten thousand only) or any of its multiple. The registered TREC Holders/ merchant bankers have to upload the IPO application file of General Public in the Electronic Subscription System (ESS) from 10:00 AM of August 25, 2022 to 5:00 PM of August 29, 2022 (cont.1)\\nPost Date:\\n2022-08-22\\nTrading Code:\\nMONOSPOOL\\nNews Title:\\nMONOSPOOL: Sale Confirmation of a Corporate Director\\nNews:\\nMagura Group Ltd., one of the Corporate Directors of the Company, has further informed that it has completed its selling of 2,09,410 shares of the company at prevailing market price through Dhaka Stock Exchange as per declaration disseminated on 19.07.2022.\\nPost Date:\\n2022-08-22\\nTrading Code:\\nEASTLAND\\nNews Title:\\nEASTLAND: Dividend Disbursement\\nNews:\\nThe Company has informed that it has disbursed the cash dividend for the year ended December 31, 2021 to the respective shareholders.\\nPost Date:\\n2022-08-22\\nTrading Code:\\nEXCH\\nNews Title:\\nDSENEWS: Daily Turnover\\nNews:\\nToday\\'s (22.08.2022) Total Trades: 242,920; Volume: 346,560,158 and Turnover: Tk. 14,775.633 million.\\nPost Date:\\n2022-08-22\\nTrading Code:\\nACM\\nNews Title:\\nDSENEWS: Withdrawal of Authorized Representative\\nNews:\\nWithdrawal of Authorized Representative: Akij Capital Management Limited (DSE TREC No. 231) has withdrawn one of its Authorized Representatives, Mr. Md. Mostafizur Rahman with immediate effect.\\nPost Date:\\n2022-08-22\\nTrading Code:\\nCBL\\nNews Title:\\nDSENEWS: Withdrawal of Authorized Representatives\\nNews:\\nWithdrawal of Authorized Representatives: City Brokerage Limited. (DSE TREC No. 145) has withdrawn two of its Authorized Representatives, i) Mr. Md. Saiful Islam and ii) Mr. Topail Ahamed with immediate effect.\\nPost Date:\\n2022-08-22\\nTrading Code:\\nEXCH\\nNews Title:\\nDSENEWS: DSE Training News\\nNews:\\n(Continuation of DSENEWS): Queries in this regard may be directed to the Academy at +8809666702070, Ext. nos. 1342, 1344, Cell no - 01700707562 or email at training@dse.com.bd. (end)\\nPost Date:\\n2022-08-22\\nTrading Code:\\nEXCH\\nNews Title:\\nDSENEWS: DSE Training News\\nNews:\\nTraining Program on \"Asset Management: Mutual Funds/Collective Investment Scheme\": Due to unavoidable circumstances, the program has been rescheduled to be held on September 12 to 14, 2022 at 2:30 pm to 5:00 pm instead of August 23 to 25, 2022. For registration and information, contact to DSE Training Academy, DSE Tower (level -13), Plot No - 46, Road No - 21, Nikunja - 02, Dhaka - 1229 with a fee of BDT. 3,000/- (three thousand taka) only (excluding-all Taxes). (cont.)\\nPost Date:\\n2022-08-22\\nTrading Code:\\nEXCH\\nNews Title:\\nDSENEWS: Monthly Review\\nNews:\\nThe Monthly Review - July 2022 has been published. Investors and any other interested persons may collect copies of the same from DSE Reception or DSE Sales Center at 9/F, Motijheel C/A, Dhaka-1000. Mob: 01755538482, Ph: 41040189 - 200 Ext - 1167.\\nPost Date:\\n2022-08-22\\nTrading Code:\\nSTANDBANKL\\nNews Title:\\nSTANDBANKL: Sale Declaration of a Sponsor\\nNews:\\nMr. Mohammad Nurul Islam, one of the Sponsors of the Company, has expressed his intention to sell 20,00,000 shares out of his holding of 2,07,62,278 shares of the Company at prevailing market price (in the Public Market) through Dhaka Stock Exchange within next 30 working days.\\nPost Date:\\n2022-08-22\\nTrading Code:\\nPOPULARLIF\\nNews Title:\\nPOPULARLIF: Spot News\\nNews:\\nTrading of the shares of the company will be allowed only in the Spot Market and Block transaction will also be settled as per spot settlement cycle with cum benefit from 23.08.2022 to 24.08.2022 and trading of the shares will remain suspended on record date i.e., 25.08.2022\\nPost Date:\\n2022-08-22\\nTrading Code:\\nSONARBAINS\\nNews Title:\\nSONARBAINS: Spot News\\nNews:\\nTrading of the shares of the company will be allowed only in the Spot Market and Block transaction will also be settled as per spot settlement cycle with cum benefit from 23.08.2022 to 24.08.2022 and trading of the shares will remain suspended on record date i.e., 25.08.2022.\\nPost Date:\\n2022-08-22\\nTrading Code:\\nUNIONCAP\\nNews Title:\\nUNIONCAP: Query Response\\nNews:\\nIn response to a DSE query, the Company has informed that there is no undisclosed price sensitive information of the Company for recent unusual price hike and increase in volume of shares.\\nPost Date:\\n2022-08-22\\nTrading Code:\\nILFSL\\nNews Title:\\nILFSL: Board Meeting schedule under LR 19(1)\\nNews:\\nAs per Regulation 19(1) of the Dhaka Stock Exchange (Listing) Regulations, 2015, the company has informed that a meeting of the Board of Directors will be held on August 25, 2022 at 4:00 PM to consider, among others, audited financial statements of the company for the year ended December 31, 2021.\\nPost Date:\\n2022-08-22\\nTrading Code:\\nFAREASTFIN\\nNews Title:\\nFAREASTFIN: Price Limit Open\\nNews:\\nThere will be no price limit on the trading of the shares of the Company today (22.08.2022) following its corporate declaration.\\nPost Date:\\n2022-08-22\\nTrading Code:\\nFAREASTFIN\\nNews Title:\\nFAREASTFIN: Dividend Declaration\\nNews:\\nThe Board of Directors has recommended No dividend for the year ended December 31, 2020. Date of AGM: 29.09.2022, Time: 11:00 AM, Venue: digital platform. Record Date: 11.09.2022. The Company has also reported EPS of Tk. (1.74), NAV per share of Tk. 1.11 and NOCFPS of Tk. 1.84 for the year ended December 31, 2020 as against Tk. (4.38), Tk. 2.85 and Tk. (1.19) respectively for the same period of the previous year.\\nPost Date:\\n2022-08-22\\nTrading Code:\\nFORTUNE\\nNews Title:\\nFORTUNE: Regarding Fire incident at part of warehouses of the factory\\nNews:\\n(continuation news of FORTUNE): The well-trained firefighting team of the factory and the Barishal Fire Service team were able to bring the fire under control. Due to availability of modern system of fire extinguishing in the factory and regular training of all the officers and employees of the factory resulted no causalities. It seems the losses have not happened on large scale but the assessment of total damage is yet to determine. (end)\\nPost Date:\\n2022-08-22\\nTrading Code:\\nFORTUNE\\nNews Title:\\nFORTUNE: Regarding Fire incident at part of warehouses of the factory\\nNews:\\nThe Company has informed that a fire broke on a part of the raw materials warehouses of the factory, Barishal on August 20, 2022 at 3.00 PM. Factory?s firefighting facility and three units of Bangladesh Fire Service were able to control the fire at around 4.00 PM. Immediately after the incident, three units of the fire service reached the spot. (cont.)\\nPost Date:\\n2022-08-22\\nTrading Code:\\nPRIMEBANK\\nNews Title:\\nPRIMEBANK: Transmission of Deceased Sponsor Director\\'s shares to her nominee\\nNews:\\nThe Company has informed that Mrs. Marina Yasmin Chowdhury, one of the Sponsor Directors of the Company passed away on 19.06.2021. Her present holding 2,80,38,000 shares will be transmitted to the account of her nominee Mr. Azam J Chowdhury (Spouse and Nominated Director of the Company), by way of nomination.\\nPost Date:\\n2022-08-22\\nTrading Code:\\nEXCH\\nNews Title:\\nDSENEWS: Commencement of ICB AMCL CMSF Golden Jubilee Mutual Fund by GP\\nNews:\\n(Continuation of DSENEWS): from August 25, 2022 to August 29, 2022(during banking hour) from their consolidated customers\\' account based on total submitted application. Exchanges shall the list of BO accounts who have applied in the IPO to the CDBL and CDBL shall verify the list of BO accounts provided by the Exchange regarding investment of general applicants in listed securities. Please visit the following website for subscription related updates: https://www.essbangladesh.com. (end)\\nPost Date:\\n2022-08-22\\nTrading Code:\\nEXCH\\nNews Title:\\nDSENEWS: Commencement of ICB AMCL CMSF Golden Jubilee Mutual Fund by GP\\nNews:\\n(Continuation of DSENEWS): The registered TREC Holders/merchant bankers have to upload the IPO application file of General Public in the Electronic Subscription System (ESS) from 10:00 AM of August 25, 2022 to 5:00 PM of August 29, 2022 and make the full payment to DSE through The City Bank Limited (A/C Name: Dhaka Stock Exchange Limited, A/C No.:1121063938001) (cont. 3)\\nPost Date:\\n2022-08-22\\nTrading Code:\\nEXCH\\nNews Title:\\nDSENEWS: Commencement of ICB AMCL CMSF Golden Jubilee Mutual Fund by GP\\nNews:\\n(Continuation of DSENEWS): will be BDT 20,000 (twenty thousand only) as on August 07, 2022 (day-end) in matured listed securities at market price (between the close price of both Exchanges whichever is higher) which is in accordance with the BSEC consent letter to ICB AMCL CMSF GOLDEN JUBILEE MUTUAL FUND Ref: BSEC/MF & SPV/MF-266/2021/1491 dated July 07, 2022. Minimum and maximum amount allowed for subscription for General Public would be BDT 10,000 (ten thousand only). (cont. 2)\\nPost Date:\\n2022-08-22\\nTrading Code:\\nEXCH\\nNews Title:\\nDSENEWS: Commencement of ICB AMCL CMSF Golden Jubilee Mutual Fund by GP\\nNews:\\nCommencement and closure of subscription of ICB AMCL CMSF Golden Jubilee Mutual Fund by General Public and upload the IPO application file and deposit the full subscription amount of General Public in the ESS by TREC Holders of DSE and CSE and Merchant Bankers: The subscription for units of ICB AMCL CMSF Golden Jubilee Mutual Fund will be started from August 17, 2022 and continued till August 24, 2022. Minimum required investment for General Public (RB, NRB) (cont.1)\\nPost Date:\\n2022-08-22\\nTrading Code:\\nEXCH\\nNews Title:\\nDSENEWS: Commencement of ICB AMCL CMSF Golden Jubilee Mutual Fund\\nNews:\\n(Continuation of DSENEWS): Participating EIs will be required to pay full subscription amount (100%) and subscription fee of Tk. 3,000.00 (three thousand only) through The City Bank Limited (A/C Name: Dhaka Stock Exchange Limited, A/C No. :1121063938001) in between 10:00 a.m. of August 17, 2022 to 2:00 p.m. of August 24, 2022 (during banking hour). Please visit the following website for subscription related updates: https://www.essbangladesh.com. (end)\\nPost Date:\\n2022-08-22\\nTrading Code:\\nEXCH\\nNews Title:\\nDSENEWS: Commencement of ICB AMCL CMSF Golden Jubilee Mutual Fund\\nNews:\\n(Continuation of DSENEWS): as per Rule 2(1)(e) of the Bangladesh Securities and Exchange Commission (Public Issue) Rules, 2015; which is in accordance with the BSEC consent letter to ICB Ref: BSEC/MF&SPV/MF-266/2021/1491 dated July 07, 2022. The Central Depository Bangladesh Limited (CDBL) shall send a report to the exchange regarding the holding of EIs in the matured listed securities and the exchange shall ensure the compliance in this regard. (cont. 3)\\nPost Date:\\n2022-08-22\\nTrading Code:\\nEXCH\\nNews Title:\\nDSENEWS: Commencement of ICB AMCL CMSF Golden Jubilee Mutual Fund\\nNews:\\n(Continuation of DSENEWS): Each Eligible Investor (EI) who intends to submit application through the Electronic Subscription System (ESS) of the exchange(s) shall maintain a minimum investment of BDT 50,00,000 (fifty lakh only) for approved pension funds, recognized provident funds and approved gratuity funds and other Els of BDT 1,00,00,000.00 (one crore only) at market price in listed securities as on August 07, 2022 (day-end) (cont. 2)\\nPost Date:\\n2022-08-22\\nTrading Code:\\nEXCH\\nNews Title:\\nDSENEWS: Commencement of ICB AMCL CMSF Golden Jubilee Mutual Fund\\nNews:\\nCommencement of electronic subscription by ICB AMCL CMSF Golden Jubilee Mutual Fund through electronic subscription system under fixed price method: The subscription for units of ICB AMCL CMSF Golden Jubilee Mutual Fund by the eligible investors through electronic subscription system of the stock exchanges under fixed price method will be started from 10:00 AM of August 17, 2022 and continued till 5:00 PM of August 24, 2022. (cont.1)\\nPost Date:\\n2022-08-22\\nTrading Code:\\nABBANK\\nNews Title:\\nABBANK: Extension of public offer subscription portion of Perpetual Bond\\nNews:\\nExtension of public offer subscription portion of perpetual bond of AB Bank Limited up to August 22, 2022: BSEC has extended the consent validity and subscription period of public offer portion of BDT 60.00 crore of transferrable, unsecured, non-cumulative, contingent-convertible perpetual bond of AB Bank Limited up to August 22, 2022.\\nPost Date:\\n2022-08-22\\nTrading Code:\\nEXCH\\nNews Title:\\nDSENEWS: Compliances and Awareness for Alert to Covid - 19\\nNews:\\n(continuation news of DSENEWS): (6) Arrangement of hand sanitizer every time to enter office premise (employees, clients and visitors), (7) Arrangement of mask to provide to employees and clients in the brokerage house, (8) Discourage visitors to enter into the office, (9) Arrangement of virtual office for part of employees on rotation basis and (10) Avoid face to face meetings in the office and encourage telephone/video conference among the employees and clients. (end)\\nPost Date:\\n2022-08-22\\nTrading Code:\\nEXCH\\nNews Title:\\nDSENEWS: Compliances and Awareness for Alert to Covid - 19\\nNews:\\nDSENEWS: All concerned are hereby informed that (1) Discourage clients for rushing in the brokerage house and encourage more for trading through mobile apps and other internet based devices, (2) No hand shake, (3) No hugging; (4) Maintain reasonable social distance (at least one meter), (4) Identifying employees and clients who is coughing or sneezing or with any suspicious symptoms, (5) Avoid touching eyes, nose, ears and mouth, (cont.)\\nPost Date:\\n2022-08-22\\nTrading Code:\\nEXCH\\nNews Title:\\nDSENEWS: Awareness message\\nNews:\\nDSENEWS: All Stock Dealers, Stock Brokers and Authorized Representatives are asked to strictly follow the code of conduct as enumerated in the Second Schedule to the Securities and Exchange Commission (Stock Dealer, Stock Broker and Authorized Representative) Rules, 2000.\\nPost Date:\\n2022-08-22\\nTrading Code:\\nEXCH\\nNews Title:\\nDSENEWS: Awareness Message for Investors\\nNews:\\n(Continuation of DSE News): If anyone spreads information based on rumor, using patent of DSE, he/she will be held liable under Copyright Act, 2000 and it shall be treated as punishable offence under Section-17 of the Securities and Exchange Ordinance, 1969. (end)\\nPost Date:\\n2022-08-22\\nTrading Code:\\nEXCH\\nNews Title:\\nDSENEWS: Awareness Message for Investors\\nNews:\\nDSE does not publish market data through any social media pages. INVESTORS should not rely on any information from an unauthorized source such as Facebook, WhatsApp, Viber, Linkedin etc. (cont.)\\nPost Date:\\n2022-08-22\\nTrading Code:\\nREGL\\nNews Title:\\nBSEC NEWS: Awareness Message for Investors\\nNews:\\n(Continuation of BSEC News - Awareness Message for Investors) 3. Do not pay any heed to rumors at the time of trading shares; it may cause loss to you. Even spreading rumor is legally prohibited. (Ref.: SEC letter no. SEC/SRMIC/2010/726 dated November 23, 2010). (end)\\nPost Date:\\n2022-08-22\\nTrading Code:\\nREGL\\nNews Title:\\nBSEC NEWS: Awareness Message for Investors\\nNews:\\nInvestors are requested to consider the following facts at the time of making investment decision in the Capital Market: 1. Without acquiring proper knowledge, information and experience regarding different aspects and matters of Capital Market, one should not invest in the Capital Market. 2. The gain or loss, whichever comes from the investment, it belongs to you. So, well - thought of investment decision based on knowledge and fundamentals of the securities may be real assistance to you. (cont.)\\nPost Date:\\n2022-08-22\\nTrading Code:\\nEXCH\\nNews Title:\\nDSENEWS: Greetings Message\\nNews:\\nHonorable Investors, Good morning! Please make your investment decision based on Company fundamentals, technical analysis, price level and disclosed information. Avoid rumor-based speculations.\\nPost Date:\\n2022-08-22\\nTrading Code:\\nJUTESPINN\\nNews Title:\\nJUTESPINN: Query Response\\nNews:\\nIn response to a DSE query, the Company has informed that there is no undisclosed price sensitive information of the Company for recent unusual price hike and increase in volume of shares.\\nPost Date:\\n2022-08-21\\nTrading Code:\\nEXCH\\nNews Title:\\nDSENEWS: Daily Turnover\\nNews:\\nToday\\'s (21.08.2022) Total Trades: 198,972; Volume: 244,900,106 and Turnover: Tk. 10,577.602 million.\\nPost Date:\\n2022-08-21\\nTrading Code:\\nLIBRAINFU\\nNews Title:\\nLIBRAINFU: Category Change\\nNews:\\nThe Company will be placed in \\'B\\' category from existing \\'A\\' category with effect from August 22, 2022 as the Company has approved 5% cash dividend for the year ended June 30, 2020.\\nPost Date:\\n2022-08-21\\nTrading Code:\\nATCSLGF\\nNews Title:\\nATCSLGF: Weekly NAV\\nNews:\\nOn the close of operation on August 17, 2022, the Fund has reported Net Asset Value (NAV) of Tk. 10.74 per unit on the basis of current market price and Tk. 11.49 per unit on the basis of cost price against face value of Tk. 10.00 whereas total Net Assets of the Fund stood at Tk. 663,590,164.00 on the basis of current market price and Tk. 710,188,425.00 on the basis of cost price after considering all assets and liabilities of the Fund.\\nPost Date:\\n2022-08-21\\nTrading Code:\\nEBLNRBMF\\nNews Title:\\nEBLNRBMF: Weekly NAV\\nNews:\\nOn the close of operation on August 17, 2022, the Fund has reported Net Asset Value (NAV) of Tk. 11.47 per unit on the basis of current market price and Tk. 11.79 per unit on the basis of cost price against face value of Tk. 10.00 whereas total Net Assets of the Fund stood at Tk. 2,572,648,719.00 on the basis of market price and Tk. 2,643,524,252.00 on the basis of cost price after considering all assets and liabilities of the Fund.\\nPost Date:\\n2022-08-21\\nTrading Code:\\nPHPMF1\\nNews Title:\\nPHPMF1: Weekly NAV\\nNews:\\nOn the close of operation on August 17, 2022, the Fund has reported Net Asset Value (NAV) of Tk. 10.74 per unit on the basis of current market price and Tk. 11.40 per unit on the basis of cost price against face value of Tk. 10.00 whereas total Net Assets of the Fund stood at Tk. 3,026,477,596.00 on the basis of market price and Tk. 3,213,805,555.00 on the basis of cost price after considering all assets and liabilities of the Fund.\\nPost Date:\\n2022-08-21\\nTrading Code:\\nPOPULAR1MF\\nNews Title:\\nPOPULAR1MF: Weekly NAV\\nNews:\\nOn the close of operation on August 17, 2022, the Fund has reported Net Asset Value (NAV) of Tk. 10.72 per unit on the basis of current market price and Tk. 11.71 per unit on the basis of cost price against face value of Tk. 10.00 whereas total Net Assets of the Fund stood at Tk. 3,205,045,518.00 on the basis of market price and Tk. 3,500,950,792.00 on the basis of cost price after considering all assets and liabilities of the Fund.\\nPost Date:\\n2022-08-21\\nTrading Code:\\nABB1STMF\\nNews Title:\\nABB1STMF: Weekly NAV\\nNews:\\nOn the close of operation on August 17, 2022, the Fund has reported Net Asset Value (NAV) of Tk. 11.04 per unit on the basis of current market price and Tk. 11.89 per unit on the basis of cost price against face value of Tk. 10.00 whereas total Net Assets of the Fund stood at Tk. 2,639,956,393.00 on the basis of market price and Tk. 2,842,698,083.00 on the basis of cost price after considering all assets and liabilities of the Fund.\\nPost Date:\\n2022-08-21\\nTrading Code:\\nEXIM1STMF\\nNews Title:\\nEXIM1STMF: Weekly NAV\\nNews:\\nOn the close of operation on August 17, 2022, the Fund has reported Net Asset Value (NAV) of Tk. 11.05 per unit on the basis of current market price and Tk. 11.45 per unit on the basis of cost price against face value of Tk. 10.00 whereas total Net Assets of the Fund stood at Tk. 1,583,166,573.00 on the basis of market price and Tk. 1,639,719,759.00 on the basis of cost price after considering all assets and liabilities of the Fund.\\nPost Date:\\n2022-08-21\\nTrading Code:\\nFBFIF\\nNews Title:\\nFBFIF: Weekly NAV\\nNews:\\nOn the close of operation on August 17, 2022, the Fund has reported Net Asset Value (NAV) of Tk. 11.17 per unit on the basis of current market price and Tk. 11.36 per unit on the basis of cost price against face value of Tk. 10.00 whereas total Net Assets of the Fund stood at Tk. 8,672,635,454.00 on the basis of market price and Tk. 8,817,246,063.00 on the basis of cost price after considering all assets and liabilities of the Fund.\\nPost Date:\\n2022-08-21\\nTrading Code:\\n1JANATAMF\\nNews Title:\\n1JANATAMF: Weekly NAV\\nNews:\\nOn the close of operation on August 17, 2022, the Fund has reported Net Asset Value (NAV) of Tk. 10.56 per unit on the basis of current market price and Tk. 11.65 per unit on the basis of cost price against face value of Tk. 10.00 whereas total Net Assets of the Fund stood at Tk. 3,062,514,596.00 on the basis of market price and Tk. 3,378,134,168.00 on the basis of cost price after considering all assets and liabilities of the Fund.\\nPost Date:\\n2022-08-21\\nTrading Code:\\nIFIC1STMF\\nNews Title:\\nIFIC1STMF: Weekly NAV\\nNews:\\nOn the close of operation on August 17, 2022, the Fund has reported Net Asset Value (NAV) of Tk. 10.69 per unit on the basis of current market price and Tk. 11.60 per unit on the basis of cost price against face value of Tk. 10.00 whereas total Net Assets of the Fund stood at Tk. 1,947,375,454.00 on the basis of market price and Tk. 2,113,580,408.00 on the basis of cost price after considering all assets and liabilities of the Fund.\\nPost Date:\\n2022-08-21\\nTrading Code:\\nTRUSTB1MF\\nNews Title:\\nTRUSTB1MF: Weekly NAV\\nNews:\\nOn the close of operation on August 17, 2022, the Fund has reported Net Asset Value (NAV) of Tk. 11.21 per unit on the basis of current market price and Tk. 11.66 per unit on the basis of cost price against face value of Tk. 10.00 whereas total Net Assets of the Fund stood at Tk. 3,402,019,699.00 on the basis of market price and Tk. 3,538,496,611.00 on the basis of cost price after considering all assets and liabilities of the Fund.\\nPost Date:\\n2022-08-21\\nTrading Code:\\nEBL1STMF\\nNews Title:\\nEBL1STMF: Weekly NAV\\nNews:\\nOn the close of operation on August 17, 2022, the Fund has reported Net Asset Value (NAV) of Tk. 10.48 per unit on the basis of current market price and Tk. 11.72 per unit on the basis of cost price against face value of Tk. 10.00 whereas total Net Assets of the Fund stood at Tk. 1,516,626,082.00 on the basis of market price and Tk. 1,696,982,497.00 on the basis of cost price after considering all assets and liabilities of the Fund.\\nPost Date:\\n2022-08-21\\nTrading Code:\\nICBAGRANI1\\nNews Title:\\nICBAGRANI1: Weekly NAV\\nNews:\\nOn the close of operation on August 16, 2022, the Fund has reported Net Asset Value (NAV) of Tk. 11.42 per unit on the basis of current market price and Tk. 12.15 per unit on the basis of cost price against face value of Tk. 10.00 whereas total Net Assets of the Fund stood at Tk. 1,121,002,770.07 on the basis of current market price and Tk. 1,192,104,206.60 on the basis of cost price after considering all assets and liabilities of the Fund.\\nPost Date:\\n2022-08-21\\nTrading Code:\\nICBSONALI1\\nNews Title:\\nICBSONALI1: Weekly NAV\\nNews:\\nOn the close of operation on August 16, 2022, the Fund has reported Net Asset Value (NAV) of Tk. 10.38 per unit on the basis of current market price and Tk. 12.10 per unit on the basis of cost price against face value of Tk. 10.00 whereas total Net Assets of the Fund stood at Tk. 1,038,069,476.78 on the basis of current market price and Tk. 1,209,609,258.34 on the basis of cost price after considering all assets and liabilities of the Fund.\\nPost Date:\\n2022-08-21\\nTrading Code:\\nIFILISLMF1\\nNews Title:\\nIFILISLMF1: Weekly NAV\\nNews:\\nOn the close of operation on August 16, 2022, the Fund has reported Net Asset Value (NAV) of Tk. 9.66 per unit on the basis of current market price and Tk. 11.50 per unit on the basis of cost price against face value of Tk. 10.00 whereas total Net Assets of the Fund stood at Tk. 966,229,935.08 on the basis of current market price and Tk. 1,149,830,615.61 on the basis of cost price after considering all assets and liabilities of the Fund.\\nPost Date:\\n2022-08-21\\nTrading Code:\\nPF1STMF\\nNews Title:\\nPF1STMF: Weekly NAV\\nNews:\\nOn the close of operation on August 16, 2022, the Fund has reported Net Asset Value (NAV) of Tk. 9.77 per unit on the basis of current market price and Tk. 12.76 per unit on the basis of cost price against face value of Tk. 10.00 whereas total Net Assets of the Fund stood at Tk. 586,184,981.39 on the basis of current market price and Tk. 765,770,870.03 on the basis of cost price after considering all assets and liabilities of the Fund.\\nPost Date:\\n2022-08-21\\nTrading Code:\\nICB3RDNRB\\nNews Title:\\nICB3RDNRB: Weekly NAV\\nNews:\\nOn the close of operation on August 16, 2022, the Fund has reported Net Asset Value (NAV) of Tk. 9.53 per unit on the basis of current market price and Tk. 12.35 per unit on the basis of cost price against face value of Tk. 10.00 whereas total Net Assets of the Fund stood at Tk. 953,048,688.69 on the basis of current market price and Tk. 1,234,826,931.15 on the basis of cost price after considering all assets and liabilities of the Fund.\\nPost Date:\\n2022-08-21\\nTrading Code:\\nPRIME1ICBA\\nNews Title:\\nPRIME1ICBA: Weekly NAV\\nNews:\\nOn the close of operation on August 16, 2022, the Fund has reported Net Asset Value (NAV) of Tk. 10.20 per unit on the basis of current market price and Tk. 12.70 per unit on the basis of cost price against face value of Tk. 10.00 whereas total Net Assets of the Fund stood at Tk. 1,020,395,025.98 on the basis of current market price and Tk. 1,270,470,999.11 on the basis of cost price after considering all assets and liabilities of the Fund.\\nPost Date:\\n2022-08-21\\nTrading Code:\\nICBEPMF1S1\\nNews Title:\\nICBEPMF1S1: Weekly NAV\\nNews:\\nOn the close of operation on August 16, 2022, the Fund has reported Net Asset Value (NAV) of Tk. 9.88 per unit on the basis of current market price and Tk. 12.57 per unit on the basis of cost price against face value of Tk. 10.00 whereas total Net Assets of the Fund stood at Tk. 740,807,167.40 on the basis of current market price and Tk. 942,841,522.16 on the basis of cost price after considering all assets and liabilities of the Fund.\\nPost Date:\\n2022-08-21\\nTrading Code:\\nICBAMCL2ND\\nNews Title:\\nICBAMCL2ND: Weekly NAV\\nNews:\\nOn the close of operation on August 16, 2022, the Fund has reported Net Asset Value (NAV) of Tk. 10.82 per unit on the basis of current market price and Tk. 14.30 per unit on the basis of cost price against face value of Tk. 10.00 whereas total Net Assets of the Fund stood at Tk. 541,074,470.82 on the basis of current market price and Tk. 714,939,109.09 on the basis of cost price after considering all assets and liabilities of the Fund.\\nPost Date:\\n2022-08-21\\nTrading Code:\\n1STPRIMFMF\\nNews Title:\\n1STPRIMFMF: Weekly NAV\\nNews:\\nOn the close of operation on August 16, 2022, the Fund has reported Net Asset Value (NAV) of Tk. 14.30 per unit on the basis of current market price and Tk. 19.43 per unit on the basis of cost price against face value of Tk. 10.00 whereas total Net Assets of the Fund stood at Tk. 286,021,464.26 on the basis of current market price and Tk. 388,606,037.70 on the basis of cost price after considering all assets and liabilities of the Fund.\\nPost Date:\\n2022-08-21\\nTrading Code:\\nRELIANCE1\\nNews Title:\\nRELIANCE1: Weekly NAV\\nNews:\\nOn the close of operation on August 17, 2022, the Fund has reported Net Asset Value (NAV) of Tk. 14.53 per unit at current market price basis and Tk. 11.52 per unit at cost price basis against face value of Tk. 10.00 whereas total Net Assets of the Fund stood at Tk. 878,959,384.00 on the basis of current market price and Tk. 697,200,409.00 on the basis of cost price after considering all assets and liabilities of the Fund.\\nPost Date:\\n2022-08-21\\nTrading Code:\\nGRAMEENS2\\nNews Title:\\nGRAMEENS2: Weekly NAV\\nNews:\\nOn the close of operation on August 17, 2022, the Fund has reported Net Asset Value (NAV) of Tk. 20.33 per unit at current market price basis and Tk. 11.77 per unit at cost price basis against face value of Tk. 10.00 whereas total Net Assets of the Fund stood at Tk. 3,707,513,355.00 on the basis of current market price and Tk. 2,147,195,529.00 on the basis of cost price after considering all assets and liabilities of the Fund.\\nPost Date:\\n2022-08-21\\nTrading Code:\\nSEMLFBSLGF\\nNews Title:\\nSEMLFBSLGF: Weekly NAV\\nNews:\\nOn the close of operation on August 17, 2022, the Fund has reported Net Asset Value (NAV) of Tk. 11.40 per unit on the basis of current market price and Tk. 11.56 per unit on the basis of cost price against face value of Tk. 10.00 whereas total Net Assets of the Fund stood at Tk. 831,473,147.19 on the basis of current market price and Tk. 843,548,722.72 on the basis of cost price after considering all assets and liabilities of the Fund.\\nPost Date:\\n2022-08-21\\nTrading Code:\\nSEMLIBBLSF\\nNews Title:\\nSEMLIBBLSF: Weekly NAV\\nNews:\\nOn the close of operation on August 17, 2022, the Fund has reported Net Asset Value (NAV) of Tk. 10.78 per unit on the basis of current market price and Tk. 11.31 per unit on the basis of cost price against face value of Tk. 10.00 whereas total Net Assets of the Fund stood at Tk. 1,078,373,109.66 on the basis of current market price and Tk. 1,131,267,154.31 on the basis of cost price after considering all assets and liabilities of the Fund.\\nPost Date:\\n2022-08-21\\nTrading Code:\\nSEMLLECMF\\nNews Title:\\nSEMLLECMF: Weekly NAV\\nNews:\\nOn the close of operation on August 17, 2022, the Fund has reported Net Asset Value (NAV) of Tk. 10.69 per unit on the basis of current market price and Tk. 11.67 per unit on the basis of cost price against face value of Tk. 10.00 whereas total Net Assets of the Fund stood at Tk. 534,613,506.65 on the basis of current market price and Tk. 583,580,489.34 on the basis of cost price after considering all assets and liabilities of the Fund.\\nPost Date:\\n2022-08-21\\nTrading Code:\\nVAMLRBBF\\nNews Title:\\nVAMLRBBF: Weekly NAV\\nNews:\\nOn the close of operation on August 17, 2022, the Fund has reported Net Asset Value (NAV) of Tk. 10.38 per unit on the basis of current market price and Tk. 10.61 per unit on the basis of cost price against face value of Tk. 10.00 whereas total Net Assets of the Fund stood at Tk. 1,647,774,213.78 on the basis of current market price and Tk. 1,683,666,482.49 on the basis of cost price after considering all assets and liabilities of the Fund.\\nPost Date:\\n2022-08-21\\nTrading Code:\\nVAMLBDMF1\\nNews Title:\\nVAMLBDMF1: Weekly NAV\\nNews:\\nOn the close of operation on August 17, 2022, the Fund has reported Net Asset Value (NAV) of Tk. 11.27 per unit on the basis of current market price and Tk. 11.25 per unit on the basis of cost price against face value of Tk. 10.00 whereas total Net Assets of the Fund stood at Tk. 1,176,054,796.08 on the basis of current market price and Tk. 1,174,026,634.36 on the basis of cost price after considering all assets and liabilities of the Fund.\\nPost Date:\\n2022-08-21\\nTrading Code:\\nCAPMIBBLMF\\nNews Title:\\nCAPMIBBLMF: Weekly NAV\\nNews:\\nOn the close of operation on August 17, 2022, the Fund has reported Net Asset Value (NAV) of Tk. 11.99 per unit on the basis of current market price and Tk. 11.10 per unit on the basis of cost price against face value of Tk. 10.00 whereas total Net Assets of the Fund stood at Tk. 801,408,525.41 on the basis of current market price and Tk. 742,098,601.95 on the basis of cost price after considering all assets and liabilities of the Fund.\\nPost Date:\\n2022-08-21\\nTrading Code:\\nCAPMBDBLMF\\nNews Title:\\nCAPMBDBLMF: Weekly NAV\\nNews:\\nOn the close of operation on August 17, 2022, the Fund has reported Net Asset Value (NAV) of Tk. 12.29 per unit on the basis of current market price and Tk. 11.15 per unit on the basis of cost price against face value of Tk. 10.00 whereas total Net Assets of the Fund stood at Tk. 616,168,853.93 on the basis of current market price and Tk. 559,104,947.44 on the basis of cost price after considering all assets and liabilities of the Fund.\\nPost Date:\\n2022-08-21\\nTrading Code:\\nNCCBLMF1\\nNews Title:\\nNCCBLMF1: Weekly NAV\\nNews:\\nOn the close of operation on August 17, 2022, the Fund has reported Net Asset Value (NAV) of Tk. 11.23 per unit on the basis of current market price and Tk. 10.53 per unit on the basis of cost price against face value of Tk. 10.00 whereas total Net Assets of the Fund stood at Tk. 1,218,160,717.97 on the basis of current market price and Tk. 1,142,005,714.96 on the basis of cost price after considering all assets and liabilities of the Fund.\\nPost Date:\\n2022-08-21\\nTrading Code:\\nLRGLOBMF1\\nNews Title:\\nLRGLOBMF1: Weekly NAV\\nNews:\\nOn the close of operation on August 17, 2022, the Fund has reported Net Asset Value (NAV) of Tk. 10.98 per unit on the basis of current market price and Tk. 10.41 per unit on the basis of cost price against face value of Tk. 10.00 whereas total Net Assets of the Fund stood at Tk. 3,415,463,306.69 on the basis of market price and Tk. 3,239,558,845.15 on the basis of cost price after considering all assets and liabilities of the Fund.\\nPost Date:\\n2022-08-21\\nTrading Code:\\nMBL1STMF\\nNews Title:\\nMBL1STMF: Weekly NAV\\nNews:\\nOn the close of operation on August 17, 2022, the Fund has reported Net Asset Value (NAV) of Tk. 10.49 per unit on the basis of current market price and Tk. 10.11 per unit on the basis of cost price against face value of Tk. 10.00 whereas total Net Assets of the Fund stood at Tk. 1,048,928,586.49 on the basis of market price and Tk. 1,010,864,593.50 on the basis of cost price after considering all assets and liabilities of the Fund.\\nPost Date:\\n2022-08-21\\nTrading Code:\\nAIBL1STIMF\\nNews Title:\\nAIBL1STIMF: Weekly NAV\\nNews:\\nOn the close of operation on August 17, 2022, the Fund has reported Net Asset Value (NAV) of Tk. 10.08 per unit on the basis of current market price and Tk. 10.09 per unit on the basis of cost price against face value of Tk. 10.00 whereas total Net Assets of the Fund stood at Tk. 1,008,464,231.22 on the basis of market price and Tk. 1,009,039,425.14 on the basis of cost price after considering all assets and liabilities of the Fund.\\nPost Date:\\n2022-08-21\\nTrading Code:\\nGREENDELMF\\nNews Title:\\nGREENDELMF: Weekly NAV\\nNews:\\nOn the close of operation on August 17, 2022, the Fund has reported Net Asset Value (NAV) of Tk. 10.69 per unit on the basis of current market price and Tk. 10.77 per unit on the basis of cost price against face value of Tk. 10.00 whereas total Net Assets of the Fund stood at Tk. 1,603,755,197.14 on the basis of market price and Tk. 1,614,973,017.87 on the basis of cost price after considering all assets and liabilities of the Fund.\\nPost Date:\\n2022-08-21\\nTrading Code:\\nDBH1STMF\\nNews Title:\\nDBH1STMF: Weekly NAV\\nNews:\\nOn the close of operation on August 17, 2022, the Fund has reported Net Asset Value (NAV) of Tk. 10.92 per unit on the basis of current market price and Tk. 10.77 per unit on the basis of cost price against face value of Tk. 10.00 whereas total Net Assets of the Fund stood at Tk. 1,310,768,515.32 on the basis of market price and Tk. 1,292,168,305.27 on the basis of cost price after considering all assets and liabilities of the Fund.\\nPost Date:\\n2022-08-21\\nTrading Code:\\nMARICO\\nNews Title:\\nMARICO: Resumption after record date\\nNews:\\nTrading of the shares of the company will resume on 22.08.2022 after record date.\\nPost Date:\\n2022-08-21\\nTrading Code:\\nISLAMICFIN\\nNews Title:\\nISLAMICFIN: Appointment of Managing Director & CEO\\nNews:\\nThe Company has informed that Mr. Mohammed Mosharaf Hossain has been appointed as the Managing Director & CEO of the Company with effect from August 07, 2022.\\nPost Date:\\n2022-08-21\\nTrading Code:\\nSIMTEX\\nNews Title:\\nSIMTEX: Elected of the Chairman\\nNews:\\nThe Company has informed that the Board of Directors has elected Major General (retd.) Md Sarwar Hossain as the Chairman of the Company with effect from August 17, 2022.\\nPost Date:\\n2022-08-21\\nTrading Code:\\nEXCH\\nNews Title:\\nDSENEWS: Commencement of ICB AMCL CMSF Golden Jubilee Mutual Fund by GP\\nNews:\\n(Continuation of DSENEWS): from August 25, 2022 to August 29, 2022(during banking hour) from their consolidated customers\\' account based on total submitted application. Exchanges shall the list of BO accounts who have applied in the IPO to the CDBL and CDBL shall verify the list of BO accounts provided by the Exchange regarding investment of general applicants in listed securities. Please visit the following website for subscription related updates: https://www.essbangladesh.com. (end)\\nPost Date:\\n2022-08-21\\nTrading Code:\\nEXCH\\nNews Title:\\nDSENEWS: Commencement of ICB AMCL CMSF Golden Jubilee Mutual Fund by GP\\nNews:\\n(Continuation of DSENEWS): The registered TREC Holders/merchant bankers have to upload the IPO application file of General Public in the Electronic Subscription System (ESS) from 10:00 AM of August 25, 2022 to 5:00 PM of August 29, 2022 and make the full payment to DSE through The City Bank Limited (A/C Name: Dhaka Stock Exchange Limited, A/C No.:1121063938001) (cont. 3)\\nPost Date:\\n2022-08-21\\nTrading Code:\\nEXCH\\nNews Title:\\nDSENEWS: Commencement of ICB AMCL CMSF Golden Jubilee Mutual Fund by GP\\nNews:\\n(Continuation of DSENEWS): will be BDT 20,000 (twenty thousand only) as on August 07, 2022 (day-end) in matured listed securities at market price (between the close price of both Exchanges whichever is higher) which is in accordance with the BSEC consent letter to ICB AMCL CMSF GOLDEN JUBILEE MUTUAL FUND Ref: BSEC/MF & SPV/MF-266/2021/1491 dated July 07, 2022. Minimum and maximum amount allowed for subscription for General Public would be BDT 10,000 (ten thousand only). (cont. 2)\\nPost Date:\\n2022-08-21\\nTrading Code:\\nEXCH\\nNews Title:\\nDSENEWS: Commencement of ICB AMCL CMSF Golden Jubilee Mutual Fund by GP\\nNews:\\nCommencement and closure of subscription of ICB AMCL CMSF Golden Jubilee Mutual Fund by General Public and upload the IPO application file and deposit the full subscription amount of General Public in the ESS by TREC Holders of DSE and CSE and Merchant Bankers: The subscription for units of ICB AMCL CMSF Golden Jubilee Mutual Fund will be started from August 17, 2022 and continued till August 24, 2022. Minimum required investment for General Public (RB, NRB) (cont.1)\\nPost Date:\\n2022-08-21\\nTrading Code:\\nEXCH\\nNews Title:\\nDSENEWS: Commencement of ICB AMCL CMSF Golden Jubilee Mutual Fund\\nNews:\\n(Continuation of DSENEWS): Participating EIs will be required to pay full subscription amount (100%) and subscription fee of Tk. 3,000.00 (three thousand only) through The City Bank Limited (A/C Name: Dhaka Stock Exchange Limited, A/C No. :1121063938001) in between 10:00 a.m. of August 17, 2022 to 2:00 p.m. of August 24, 2022 (during banking hour). Please visit the following website for subscription related updates: https://www.essbangladesh.com. (end)\\nPost Date:\\n2022-08-21\\nTrading Code:\\nEXCH\\nNews Title:\\nDSENEWS: Commencement of ICB AMCL CMSF Golden Jubilee Mutual Fund\\nNews:\\n(Continuation of DSENEWS): as per Rule 2(1)(e) of the Bangladesh Securities and Exchange Commission (Public Issue) Rules, 2015; which is in accordance with the BSEC consent letter to ICB Ref: BSEC/MF&SPV/MF-266/2021/1491 dated July 07, 2022. The Central Depository Bangladesh Limited (CDBL) shall send a report to the exchange regarding the holding of EIs in the matured listed securities and the exchange shall ensure the compliance in this regard. (cont. 3)\\nPost Date:\\n2022-08-21\\nTrading Code:\\nEXCH\\nNews Title:\\nDSENEWS: Commencement of ICB AMCL CMSF Golden Jubilee Mutual Fund\\nNews:\\n(Continuation of DSENEWS): Each Eligible Investor (EI) who intends to submit application through the Electronic Subscription System (ESS) of the exchange(s) shall maintain a minimum investment of BDT 50,00,000 (fifty lakh only) for approved pension funds, recognized provident funds and approved gratuity funds and other Els of BDT 1,00,00,000.00 (one crore only) at market price in listed securities as on August 07, 2022 (day-end) (cont. 2)\\nPost Date:\\n2022-08-21\\nTrading Code:\\nEXCH\\nNews Title:\\nDSENEWS: Commencement of ICB AMCL CMSF Golden Jubilee Mutual Fund\\nNews:\\nCommencement of electronic subscription by ICB AMCL CMSF Golden Jubilee Mutual Fund through electronic subscription system under fixed price method: The subscription for units of ICB AMCL CMSF Golden Jubilee Mutual Fund by the eligible investors through electronic subscription system of the stock exchanges under fixed price method will be started from 10:00 AM of August 17, 2022 and continued till 5:00 PM of August 24, 2022. (cont.1)\\nPost Date:\\n2022-08-21\\nTrading Code:\\nABBANK\\nNews Title:\\nABBANK: Extension of public offer subscription portion of Perpetual Bond\\nNews:\\nExtension of public offer subscription portion of perpetual bond of AB Bank Limited up to August 22, 2022: BSEC has extended the consent validity and subscription period of public offer portion of BDT 60.00 crore of transferrable, unsecured, non-cumulative, contingent-convertible perpetual bond of AB Bank Limited up to August 22, 2022.\\nPost Date:\\n2022-08-21\\nTrading Code:\\nEXCH\\nNews Title:\\nDSENEWS: Compliances and Awareness for Alert to Covid - 19\\nNews:\\n(continuation news of DSENEWS): (6) Arrangement of hand sanitizer every time to enter office premise (employees, clients and visitors), (7) Arrangement of mask to provide to employees and clients in the brokerage house, (8) Discourage visitors to enter into the office, (9) Arrangement of virtual office for part of employees on rotation basis and (10) Avoid face to face meetings in the office and encourage telephone/video conference among the employees and clients. (end)\\nPost Date:\\n2022-08-21\\nTrading Code:\\nEXCH\\nNews Title:\\nDSENEWS: Compliances and Awareness for Alert to Covid - 19\\nNews:\\nDSENEWS: All concerned are hereby informed that (1) Discourage clients for rushing in the brokerage house and encourage more for trading through mobile apps and other internet based devices, (2) No hand shake, (3) No hugging; (4) Maintain reasonable social distance (at least one meter), (4) Identifying employees and clients who is coughing or sneezing or with any suspicious symptoms, (5) Avoid touching eyes, nose, ears and mouth, (cont.)\\nPost Date:\\n2022-08-21\\nTrading Code:\\nEXCH\\nNews Title:\\nDSENEWS: Awareness message\\nNews:\\nDSENEWS: All Stock Dealers, Stock Brokers and Authorized Representatives are asked to strictly follow the code of conduct as enumerated in the Second Schedule to the Securities and Exchange Commission (Stock Dealer, Stock Broker and Authorized Representative) Rules, 2000.\\nPost Date:\\n2022-08-21\\nTrading Code:\\nEXCH\\nNews Title:\\nDSENEWS: Awareness Message for Investors\\nNews:\\n(Continuation of DSE News): If anyone spreads information based on rumor, using patent of DSE, he/she will be held liable under Copyright Act, 2000 and it shall be treated as punishable offence under Section-17 of the Securities and Exchange Ordinance, 1969. (end)\\nPost Date:\\n2022-08-21\\nTrading Code:\\nEXCH\\nNews Title:\\nDSENEWS: Awareness Message for Investors\\nNews:\\nDSE does not publish market data through any social media pages. INVESTORS should not rely on any information from an unauthorized source such as Facebook, WhatsApp, Viber, Linkedin etc. (cont.)\\nPost Date:\\n2022-08-21\\nTrading Code:\\nREGL\\nNews Title:\\nBSEC NEWS: Awareness Message for Investors\\nNews:\\n(Continuation of BSEC News - Awareness Message for Investors) 3. Do not pay any heed to rumors at the time of trading shares; it may cause loss to you. Even spreading rumor is legally prohibited. (Ref.: SEC letter no. SEC/SRMIC/2010/726 dated November 23, 2010). (end)\\nPost Date:\\n2022-08-21\\nTrading Code:\\nREGL\\nNews Title:\\nBSEC NEWS: Awareness Message for Investors\\nNews:\\nInvestors are requested to consider the following facts at the time of making investment decision in the Capital Market: 1. Without acquiring proper knowledge, information and experience regarding different aspects and matters of Capital Market, one should not invest in the Capital Market. 2. The gain or loss, whichever comes from the investment, it belongs to you. So, well - thought of investment decision based on knowledge and fundamentals of the securities may be real assistance to you. (cont.)\\nPost Date:\\n2022-08-21\\nTrading Code:\\nEXCH\\nNews Title:\\nDSENEWS: Greetings Message\\nNews:\\nHonorable Investors, Good morning! Please make your investment decision based on Company fundamentals, technical analysis, price level and disclosed information. Avoid rumor-based speculations.\\nPost Date:\\n2022-08-21\\nNews Archive\\n\\nSTOCK EXCHANGE BUILDING, 9/F MOTIJHEEL C/A, DHAKA BANGLADESH\\nPhone: 88-02-9564601, 9576210-18, FAX: +88-02-9564727\\nEmail: info@dse.com.bd, Web: http://www.dsebd.org/\\n\\nDisclaimer\\nHome\\nDownload\\nData Archives\\nCareer at DSE\\nFAQ\\nWUF\\nSite Map\\nLink\\n©\\nDhaka Stock Exchange 2020\\nTerms & Condition\\nDisclaimer\\nTerms & Condition\\nHome\\nDownload\\nData Archives\\nCareer at DSE\\nFAQ\\nWUF\\nSite Map\\nLink\\n©\\nDhaka Stock Exchange 2020\\n&#13; // $(\\'.carousel\\').carousel({&#13; // interval: 3000&#13; // });&#13; &#13; $(\\'.collapse-sub\\').on(\\'shown.bs.collapse-sub\\', function (e) {&#13; $(\\'.collapse-sub\\').not(this).removeClass(\\'in\\');&#13; });&#13; &#13; $(\\'[data-toggle=collapse-sub]\\').click(function (e) {&#13; $(\\'[data-toggle=collapse-sub]\\').parent(\\'li\\').removeClass(\\'active\\');&#13; $(this).parent(\\'li\\').toggleClass(\\'active\\');&#13; });&#13; &#13; $(function() {&#13; $(\\'#description\\').perfectScrollbar();&#13; &#13; $(\".profiles\").find(\".tab\").hide();&#13; $(\".profiles\").find(\".tab\").first().show();&#13; $(\".profiles\").find(\".tabs li\").first().find(\"a\").addClass(\"active\");&#13; &#13; $(\".profiles\").find(\".tabs\").find(\"a\").click(function(){&#13; tab = $(this).attr(\"href\");&#13; $(\".profiles\").find(\".tab\").hide();&#13; $(\".profiles\").find(\".tabs\").find(\"a\").removeClass(\"active\");&#13; $(tab).show();&#13; $(this).addClass(\"active\");&#13; return false;&#13; });&#13; &#13; var TradingCode = [];&#13; $.get(\"ajax/suggestList.php\", { \"suggestType\" : \"tc\" }, function(ret){ &#13; TradingCode = JSON.parse(ret);&#13; $( \".textCompany\" ).autocomplete({&#13; source: TradingCode/*function( request, response ) {&#13; var matcher = new RegExp( \"^\" + $.ui.autocomplete.escapeRegex( request.term ), \"i\" );&#13; response( $.grep( TradingCode, function( item ){&#13; return matcher.test( item.label );&#13; }) )*/&#13; });&#13; });&#13; &#13; var TrecHolder = [];&#13; $.get(\"ajax/suggestList.php\", { \"suggestType\" : \"th\" }, function(ret){ &#13; TrecHolder = JSON.parse(ret);&#13; $( \".textTRECHolder\" ).autocomplete({&#13; source: TrecHolder&#13; });&#13; });&#13; });&#13; &#13; function openNav() {&#13; document.getElementById(\"mySidenav\").style.width = \"250px\";&#13; document.getElementById(\"RightBody\").style.marginLeft = \"250px\";&#13; }&#13; &#13; function closeNav() {&#13; document.getElementById(\"mySidenav\").style.width = \"0\";&#13; document.getElementById(\"RightBody\").style.marginLeft= \"0\";&#13; }&#13; &#13; function chkform() {&#13; if(document.form.name.value == \"\") {&#13; alert(\"Please Enter Specific company symbol or company name\");&#13; document.form.name.focus();&#13; return false;&#13; }&#13; &#13; &#13; }&#13; &#13; (function($){&#13; $(document).ready(function(){&#13; &#13; $(\".dropdown-submenu\").on(\"click\", function(e){&#13; //e.preventDefault();&#13; e.stopPropagation();&#13; &#13; $(this).toggleClass(\\'open\\');&#13; var dropdown = $(this).find(\\'.dropdown-toggle\\');&#13; if (dropdown.attr(\\'aria-expanded\\')) {&#13; dropdown.removeAttr(\\'aria-expanded\\');&#13; } else {&#13; dropdown.attr(\\'aria-expanded\\', true);&#13; };&#13; });&#13; });&#13; })(jQuery);&#13; calculateRightBody();'"
      ]
     },
     "execution_count": 12,
     "metadata": {},
     "output_type": "execute_result"
    }
   ],
   "source": [
    "dse_news"
   ]
  },
  {
   "cell_type": "code",
   "execution_count": null,
   "metadata": {
    "id": "xjxRoXAyw94Y"
   },
   "outputs": [],
   "source": [
    "Trading Code, News Title, News, Post Date"
   ]
  },
  {
   "cell_type": "code",
   "execution_count": null,
   "metadata": {
    "colab": {
     "base_uri": "https://localhost:8080/"
    },
    "id": "VMNve1wxw97P",
    "outputId": "0e4c9d28-a76a-4612-e715-8847390771f0"
   },
   "outputs": [
    {
     "data": {
      "text/plain": [
       "['MEGHNALIFE',\n",
       " 'EXCH',\n",
       " 'TCS',\n",
       " 'SSS',\n",
       " 'GSL',\n",
       " 'PRIMEBANK',\n",
       " 'IBNSINA',\n",
       " 'WALTONHIL',\n",
       " 'POPULARLIF',\n",
       " 'SONARBAINS',\n",
       " 'FIRSTSBANK',\n",
       " 'FIRSTSBANK',\n",
       " 'UPGDCL',\n",
       " 'UPGDCL',\n",
       " 'LHBL',\n",
       " 'EXCH',\n",
       " 'EXCH',\n",
       " 'EXCH',\n",
       " 'EXCH',\n",
       " 'EXCH',\n",
       " 'SANDHANINS',\n",
       " 'SANDHANINS',\n",
       " 'EXCH',\n",
       " 'EXCH',\n",
       " 'EXCH',\n",
       " 'EXCH',\n",
       " 'EXCH',\n",
       " 'EXCH',\n",
       " 'EXCH',\n",
       " 'EXCH',\n",
       " 'EXCH',\n",
       " 'REGL',\n",
       " 'REGL',\n",
       " 'EXCH',\n",
       " 'EXCH',\n",
       " 'CBLPBOND',\n",
       " 'JSL',\n",
       " 'UCS',\n",
       " 'UNIONCAP',\n",
       " 'ASIAINS',\n",
       " 'EXCH',\n",
       " 'EXCH',\n",
       " 'EXCH',\n",
       " 'EXCH',\n",
       " 'MIRAKHTER',\n",
       " 'METROSPIN',\n",
       " 'FIRSTFIN',\n",
       " 'POPULARLIF',\n",
       " 'SONARBAINS',\n",
       " 'CBLPBOND',\n",
       " 'MIDASFIN',\n",
       " 'CENTRALINS',\n",
       " 'EXCH',\n",
       " 'EXCH',\n",
       " 'EXCH',\n",
       " 'EXCH',\n",
       " 'EXCH',\n",
       " 'EXCH',\n",
       " 'EXCH',\n",
       " 'EXCH',\n",
       " 'EXCH',\n",
       " 'EXCH',\n",
       " 'EXCH',\n",
       " 'EXCH',\n",
       " 'EXCH',\n",
       " 'EXCH',\n",
       " 'EXCH',\n",
       " 'REGL',\n",
       " 'REGL',\n",
       " 'EXCH',\n",
       " 'SOUTHEASTB',\n",
       " 'PAPERPROC',\n",
       " 'EXCH',\n",
       " 'SHS',\n",
       " 'EXCH',\n",
       " 'FIRSTFIN',\n",
       " 'PLFSL',\n",
       " 'BSCCL',\n",
       " 'SHEPHERD',\n",
       " 'SHEPHERD',\n",
       " 'SKICL',\n",
       " 'EXCH',\n",
       " 'EXCH',\n",
       " 'EXCH',\n",
       " 'MTB',\n",
       " 'KAY&QUE',\n",
       " 'EXCH',\n",
       " 'EXCH',\n",
       " 'EXCH',\n",
       " 'EXCH',\n",
       " 'EXCH',\n",
       " 'EXCH',\n",
       " 'EXCH',\n",
       " 'EXCH',\n",
       " 'EXCH',\n",
       " 'EXCH',\n",
       " 'EXCH',\n",
       " 'REGL',\n",
       " 'REGL',\n",
       " 'EXCH',\n",
       " 'EXCH',\n",
       " 'EXCH',\n",
       " 'EXCH',\n",
       " 'MONOSPOOL',\n",
       " 'EASTLAND',\n",
       " 'EXCH',\n",
       " 'ACM',\n",
       " 'CBL',\n",
       " 'EXCH',\n",
       " 'EXCH',\n",
       " 'EXCH',\n",
       " 'STANDBANKL',\n",
       " 'POPULARLIF',\n",
       " 'SONARBAINS',\n",
       " 'UNIONCAP',\n",
       " 'ILFSL',\n",
       " 'FAREASTFIN',\n",
       " 'FAREASTFIN',\n",
       " 'FORTUNE',\n",
       " 'FORTUNE',\n",
       " 'PRIMEBANK',\n",
       " 'EXCH',\n",
       " 'EXCH',\n",
       " 'EXCH',\n",
       " 'EXCH',\n",
       " 'EXCH',\n",
       " 'EXCH',\n",
       " 'EXCH',\n",
       " 'EXCH',\n",
       " 'ABBANK',\n",
       " 'EXCH',\n",
       " 'EXCH',\n",
       " 'EXCH',\n",
       " 'EXCH',\n",
       " 'EXCH',\n",
       " 'REGL',\n",
       " 'REGL',\n",
       " 'EXCH',\n",
       " 'JUTESPINN',\n",
       " 'EXCH',\n",
       " 'LIBRAINFU',\n",
       " 'ATCSLGF',\n",
       " 'EBLNRBMF',\n",
       " 'PHPMF1',\n",
       " 'POPULAR1MF',\n",
       " 'ABB1STMF',\n",
       " 'EXIM1STMF',\n",
       " 'FBFIF',\n",
       " '1JANATAMF',\n",
       " 'IFIC1STMF',\n",
       " 'TRUSTB1MF',\n",
       " 'EBL1STMF',\n",
       " 'ICBAGRANI1',\n",
       " 'ICBSONALI1',\n",
       " 'IFILISLMF1',\n",
       " 'PF1STMF',\n",
       " 'ICB3RDNRB',\n",
       " 'PRIME1ICBA',\n",
       " 'ICBEPMF1S1',\n",
       " 'ICBAMCL2ND',\n",
       " '1STPRIMFMF',\n",
       " 'RELIANCE1',\n",
       " 'GRAMEENS2',\n",
       " 'SEMLFBSLGF',\n",
       " 'SEMLIBBLSF',\n",
       " 'SEMLLECMF',\n",
       " 'VAMLRBBF',\n",
       " 'VAMLBDMF1',\n",
       " 'CAPMIBBLMF',\n",
       " 'CAPMBDBLMF',\n",
       " 'NCCBLMF1',\n",
       " 'LRGLOBMF1',\n",
       " 'MBL1STMF',\n",
       " 'AIBL1STIMF',\n",
       " 'GREENDELMF',\n",
       " 'DBH1STMF',\n",
       " 'MARICO',\n",
       " 'ISLAMICFIN',\n",
       " 'SIMTEX',\n",
       " 'EXCH',\n",
       " 'EXCH',\n",
       " 'EXCH',\n",
       " 'EXCH',\n",
       " 'EXCH',\n",
       " 'EXCH',\n",
       " 'EXCH',\n",
       " 'EXCH',\n",
       " 'ABBANK',\n",
       " 'EXCH',\n",
       " 'EXCH',\n",
       " 'EXCH',\n",
       " 'EXCH',\n",
       " 'EXCH',\n",
       " 'REGL',\n",
       " 'REGL',\n",
       " 'EXCH']"
      ]
     },
     "execution_count": 62,
     "metadata": {},
     "output_type": "execute_result"
    }
   ],
   "source": [
    "dse_news_lst = dse_news.split('\\n')\n",
    "trading_code = dse_news_lst[1::8]\n"
   ]
  },
  {
   "cell_type": "code",
   "execution_count": null,
   "metadata": {
    "id": "iZ3jG9S3w996"
   },
   "outputs": [],
   "source": []
  },
  {
   "cell_type": "code",
   "execution_count": null,
   "metadata": {
    "id": "DiT4-hUow-A8"
   },
   "outputs": [],
   "source": []
  },
  {
   "cell_type": "code",
   "execution_count": null,
   "metadata": {
    "id": "V0y8ZjOiw-WQ"
   },
   "outputs": [],
   "source": []
  },
  {
   "cell_type": "code",
   "execution_count": null,
   "metadata": {
    "id": "9pzNGXnYw-sE"
   },
   "outputs": [],
   "source": []
  },
  {
   "cell_type": "markdown",
   "metadata": {
    "id": "Bh4PYnZyDtqo"
   },
   "source": [
    "## Hadith Scraping"
   ]
  },
  {
   "cell_type": "code",
   "execution_count": null,
   "metadata": {
    "id": "B6gZsm3TD63p"
   },
   "outputs": [],
   "source": [
    "url = \"http://ihadis.com/books/bukhari/chapter/1\""
   ]
  },
  {
   "cell_type": "code",
   "execution_count": null,
   "metadata": {
    "colab": {
     "base_uri": "https://localhost:8080/"
    },
    "id": "hDYJLLosD69S",
    "outputId": "15b5a9c4-327e-4bc3-d0f4-2d2598b2ed43"
   },
   "outputs": [
    {
     "data": {
      "text/plain": [
       "<Response [200]>"
      ]
     },
     "execution_count": 11,
     "metadata": {},
     "output_type": "execute_result"
    }
   ],
   "source": [
    "session = HTMLSession()\n",
    "r = session.get(url)\n",
    "r"
   ]
  },
  {
   "cell_type": "code",
   "execution_count": null,
   "metadata": {
    "colab": {
     "base_uri": "https://localhost:8080/",
     "height": 36
    },
    "id": "49f1BHgwD7Ru",
    "outputId": "d0d266fa-f0b6-46fb-8afc-13e29f3526ce"
   },
   "outputs": [
    {
     "data": {
      "application/vnd.google.colaboratory.intrinsic+json": {
       "type": "string"
      },
      "text/plain": [
       "'১'"
      ]
     },
     "execution_count": 14,
     "metadata": {},
     "output_type": "execute_result"
    }
   ],
   "source": [
    "no_pattern = \"div.had > h3.hidden-print\"\n",
    "r.html.find(no_pattern)[0].text"
   ]
  },
  {
   "cell_type": "code",
   "execution_count": null,
   "metadata": {
    "id": "nRltP1FLD6_3"
   },
   "outputs": [],
   "source": [
    "r.html.text.split('\\n')"
   ]
  },
  {
   "cell_type": "code",
   "execution_count": null,
   "metadata": {
    "id": "yUeTzSVUEJGo"
   },
   "outputs": [],
   "source": []
  },
  {
   "cell_type": "markdown",
   "metadata": {
    "id": "eg1cXW9rWTgT"
   },
   "source": [
    "## Bangla Poem Scraping"
   ]
  },
  {
   "cell_type": "code",
   "execution_count": null,
   "metadata": {
    "id": "1lyCXiso_pM6"
   },
   "outputs": [],
   "source": [
    "poem_url = \"https://www.bangla-kobita.com/nazrulislam/rubaiyat-e-omar-khayyam-26-to-30/\""
   ]
  },
  {
   "cell_type": "code",
   "execution_count": null,
   "metadata": {
    "colab": {
     "base_uri": "https://localhost:8080/"
    },
    "id": "E12Qeb55_qG7",
    "outputId": "e6587da4-8ad8-40e6-b1ed-a61d147e9359"
   },
   "outputs": [
    {
     "data": {
      "text/plain": [
       "<Response [200]>"
      ]
     },
     "execution_count": 5,
     "metadata": {},
     "output_type": "execute_result"
    }
   ],
   "source": [
    "r = session.get(poem_url)\n",
    "r"
   ]
  },
  {
   "cell_type": "code",
   "execution_count": null,
   "metadata": {
    "colab": {
     "base_uri": "https://localhost:8080/",
     "height": 36
    },
    "id": "kry1HKpL_sZb",
    "outputId": "78eef778-f2ab-4bc2-d091-2cbe43cb11cf"
   },
   "outputs": [
    {
     "data": {
      "application/vnd.google.colaboratory.intrinsic+json": {
       "type": "string"
      },
      "text/plain": [
       "'- কাজী নজরুল ইসলাম'"
      ]
     },
     "execution_count": 6,
     "metadata": {},
     "output_type": "execute_result"
    }
   ],
   "source": [
    "r.html.find(\"div.author-name\")[0].text"
   ]
  },
  {
   "cell_type": "code",
   "execution_count": null,
   "metadata": {
    "id": "vw1o-s5W_vhi"
   },
   "outputs": [],
   "source": []
  },
  {
   "cell_type": "code",
   "execution_count": null,
   "metadata": {
    "id": "iyNjSEsgXXkq"
   },
   "outputs": [],
   "source": []
  },
  {
   "cell_type": "markdown",
   "metadata": {
    "id": "FaCE314LYdPi"
   },
   "source": [
    "# Assignment\n",
    "\n",
    "## Male Participants: Scrap Following url https://www.rokomari.com/book/category/380/death-and-resurrection?sort=&ratings=\n",
    "\n",
    "## Female Participants: Scrap following url https://www.prothomalo.com/business"
   ]
  },
  {
   "cell_type": "code",
   "execution_count": null,
   "metadata": {
    "colab": {
     "base_uri": "https://localhost:8080/"
    },
    "id": "l4NcQKIDXXpl",
    "outputId": "5dc7966f-7d2a-48fe-d9c8-61358deabda3"
   },
   "outputs": [
    {
     "data": {
      "text/plain": [
       "<Response [200]>"
      ]
     },
     "execution_count": 11,
     "metadata": {},
     "output_type": "execute_result"
    }
   ],
   "source": [
    "r = session.get(\"https://www.rokomari.com/book/187105/quran-majider-nirbachito-torjomasomogro-para-2\")\n",
    "r"
   ]
  },
  {
   "cell_type": "code",
   "execution_count": null,
   "metadata": {
    "colab": {
     "base_uri": "https://localhost:8080/"
    },
    "id": "c_e7C3MJXakF",
    "outputId": "2baf0805-4e99-4a1e-cdb2-c2068d0141ca"
   },
   "outputs": [
    {
     "name": "stdout",
     "output_type": "stream",
     "text": [
      "Recently sold islamic products\n",
      "কোরআন, তরজমা ও তাফসির\n",
      "নামায ও দোয়া-দরুদ\n",
      "হাদিস ও সুন্নাত\n",
      "ইসলামি পণ্য\n",
      "ঈমান, আক্বিদা ও তাওবাহ\n",
      "শিশু-কিশোর\n",
      "পরকাল ও জান্নাত-জাহান্নাম\n",
      "নবি-রাসুল, সাহাবা ও অলি-আওলিয়া\n",
      "ইসলামি পণ্য\n",
      "আদর্শ ও মতবাদ\n",
      "পারিবারিক জীবনবিধান\n",
      "আধ্যাত্মিকতা ও সুফিবাদ\n",
      "ইতিহাস ও ঐতিহ্য\n",
      "ইসলামি পণ্য\n",
      "বিবিধ\n",
      "রোযা-সিয়াম\n",
      "হজ্জ-উমরাহ ও কোরবানি\n"
     ]
    }
   ],
   "source": [
    "for i in r.html.find(\"h1.category-list-title\"):\n",
    "  print(i.text)"
   ]
  },
  {
   "cell_type": "code",
   "execution_count": null,
   "metadata": {
    "colab": {
     "base_uri": "https://localhost:8080/"
    },
    "id": "1_vD1PdIXu8l",
    "outputId": "5b1d901f-a208-49d3-8eb2-b8d23417be60"
   },
   "outputs": [
    {
     "data": {
      "text/plain": [
       "<Response [200]>"
      ]
     },
     "execution_count": 12,
     "metadata": {},
     "output_type": "execute_result"
    }
   ],
   "source": [
    "r = session.get(\"https://www.prothomalo.com/\")\n",
    "r"
   ]
  },
  {
   "cell_type": "code",
   "execution_count": null,
   "metadata": {
    "colab": {
     "base_uri": "https://localhost:8080/",
     "height": 36
    },
    "id": "4N0HMApEYIMM",
    "outputId": "2382297b-2f82-4cad-e2f6-118bc1077852"
   },
   "outputs": [
    {
     "data": {
      "application/vnd.google.colaboratory.intrinsic+json": {
       "type": "string"
      },
      "text/plain": [
       "'জেলেপল্লির সংসারগুলো চলছে কোনোমতে'"
      ]
     },
     "execution_count": 14,
     "metadata": {},
     "output_type": "execute_result"
    }
   ],
   "source": [
    "r.html.find(\"h1.headline-title>span\")[0].text"
   ]
  },
  {
   "cell_type": "code",
   "execution_count": null,
   "metadata": {
    "id": "qHbF9-j5YOC1"
   },
   "outputs": [],
   "source": []
  }
 ],
 "metadata": {
  "colab": {
   "collapsed_sections": [],
   "provenance": []
  },
  "kernelspec": {
   "display_name": "Python 3 (ipykernel)",
   "language": "python",
   "name": "python3"
  },
  "language_info": {
   "codemirror_mode": {
    "name": "ipython",
    "version": 3
   },
   "file_extension": ".py",
   "mimetype": "text/x-python",
   "name": "python",
   "nbconvert_exporter": "python",
   "pygments_lexer": "ipython3",
   "version": "3.9.12"
  }
 },
 "nbformat": 4,
 "nbformat_minor": 1
}
