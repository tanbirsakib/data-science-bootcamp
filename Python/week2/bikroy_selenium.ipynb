{
 "cells": [
  {
   "cell_type": "code",
   "execution_count": 2,
   "metadata": {},
   "outputs": [],
   "source": [
    "import pandas as pd\n",
    "from datetime import datetime\n",
    "import requests\n",
    "import time \n",
    "from requests_html import HTMLSession\n",
    "from PIL import Image\n",
    "from io import BytesIO\n",
    "\n",
    "from selenium import webdriver\n",
    "from selenium.webdriver.common.keys import Keys\n",
    "from selenium.webdriver.chrome.service import Service\n",
    "from selenium.webdriver.common.by import By\n",
    "from selenium.webdriver.support.ui import WebDriverWait\n",
    "from selenium.webdriver.support import expected_conditions as EC\n",
    "from IPython.display import display, clear_output"
   ]
  },
  {
   "cell_type": "code",
   "execution_count": 2,
   "metadata": {
    "collapsed": true
   },
   "outputs": [
    {
     "name": "stdout",
     "output_type": "stream",
     "text": [
      "Collecting selenium\n",
      "  Downloading selenium-4.4.3-py3-none-any.whl (985 kB)\n",
      "Collecting trio~=0.17\n",
      "  Downloading trio-0.21.0-py3-none-any.whl (358 kB)\n",
      "Collecting trio-websocket~=0.9\n",
      "  Downloading trio_websocket-0.9.2-py3-none-any.whl (16 kB)\n",
      "Requirement already satisfied: certifi>=2021.10.8 in c:\\users\\user\\anaconda3\\lib\\site-packages (from selenium) (2021.10.8)\n",
      "Requirement already satisfied: urllib3[socks]~=1.26 in c:\\users\\user\\anaconda3\\lib\\site-packages (from selenium) (1.26.9)\n",
      "Requirement already satisfied: sniffio in c:\\users\\user\\anaconda3\\lib\\site-packages (from trio~=0.17->selenium) (1.2.0)\n",
      "Requirement already satisfied: attrs>=19.2.0 in c:\\users\\user\\anaconda3\\lib\\site-packages (from trio~=0.17->selenium) (21.4.0)\n",
      "Requirement already satisfied: sortedcontainers in c:\\users\\user\\anaconda3\\lib\\site-packages (from trio~=0.17->selenium) (2.4.0)\n",
      "Collecting outcome\n",
      "  Downloading outcome-1.2.0-py2.py3-none-any.whl (9.7 kB)\n",
      "Collecting async-generator>=1.9\n",
      "  Downloading async_generator-1.10-py3-none-any.whl (18 kB)\n",
      "Requirement already satisfied: cffi>=1.14 in c:\\users\\user\\anaconda3\\lib\\site-packages (from trio~=0.17->selenium) (1.15.0)\n",
      "Requirement already satisfied: idna in c:\\users\\user\\anaconda3\\lib\\site-packages (from trio~=0.17->selenium) (3.3)\n",
      "Requirement already satisfied: pycparser in c:\\users\\user\\anaconda3\\lib\\site-packages (from cffi>=1.14->trio~=0.17->selenium) (2.21)\n",
      "Collecting wsproto>=0.14\n",
      "  Downloading wsproto-1.2.0-py3-none-any.whl (24 kB)\n",
      "Requirement already satisfied: PySocks!=1.5.7,<2.0,>=1.5.6 in c:\\users\\user\\anaconda3\\lib\\site-packages (from urllib3[socks]~=1.26->selenium) (1.7.1)\n",
      "Collecting h11<1,>=0.9.0\n",
      "  Downloading h11-0.13.0-py3-none-any.whl (58 kB)\n",
      "Installing collected packages: outcome, h11, async-generator, wsproto, trio, trio-websocket, selenium\n",
      "Successfully installed async-generator-1.10 h11-0.13.0 outcome-1.2.0 selenium-4.4.3 trio-0.21.0 trio-websocket-0.9.2 wsproto-1.2.0\n"
     ]
    },
    {
     "name": "stderr",
     "output_type": "stream",
     "text": [
      "WARNING: Retrying (Retry(total=4, connect=None, read=None, redirect=None, status=None)) after connection broken by 'NewConnectionError('<pip._vendor.urllib3.connection.HTTPSConnection object at 0x00000281F0F01640>: Failed to establish a new connection: [Errno 11001] getaddrinfo failed')': /simple/selenium/\n"
     ]
    }
   ],
   "source": [
    "!pip install selenium"
   ]
  },
  {
   "cell_type": "code",
   "execution_count": 3,
   "metadata": {
    "collapsed": true
   },
   "outputs": [
    {
     "name": "stdout",
     "output_type": "stream",
     "text": [
      "Requirement already satisfied: selenium in c:\\users\\kalim\\anaconda3\\lib\\site-packages (4.1.2)\n",
      "Requirement already satisfied: urllib3[secure,socks]~=1.26 in c:\\users\\kalim\\anaconda3\\lib\\site-packages (from selenium) (1.26.7)\n",
      "Requirement already satisfied: trio-websocket~=0.9 in c:\\users\\kalim\\anaconda3\\lib\\site-packages (from selenium) (0.9.2)\n",
      "Requirement already satisfied: trio~=0.17 in c:\\users\\kalim\\anaconda3\\lib\\site-packages (from selenium) (0.20.0)\n",
      "Requirement already satisfied: outcome in c:\\users\\kalim\\anaconda3\\lib\\site-packages (from trio~=0.17->selenium) (1.1.0)\n",
      "Requirement already satisfied: sniffio in c:\\users\\kalim\\anaconda3\\lib\\site-packages (from trio~=0.17->selenium) (1.2.0)\n",
      "Requirement already satisfied: async-generator>=1.9 in c:\\users\\kalim\\anaconda3\\lib\\site-packages (from trio~=0.17->selenium) (1.10)\n",
      "Requirement already satisfied: idna in c:\\users\\kalim\\anaconda3\\lib\\site-packages (from trio~=0.17->selenium) (3.2)\n",
      "Requirement already satisfied: cffi>=1.14 in c:\\users\\kalim\\anaconda3\\lib\\site-packages (from trio~=0.17->selenium) (1.14.6)\n",
      "Requirement already satisfied: attrs>=19.2.0 in c:\\users\\kalim\\anaconda3\\lib\\site-packages (from trio~=0.17->selenium) (21.2.0)\n",
      "Requirement already satisfied: sortedcontainers in c:\\users\\kalim\\anaconda3\\lib\\site-packages (from trio~=0.17->selenium) (2.4.0)\n",
      "Requirement already satisfied: pycparser in c:\\users\\kalim\\anaconda3\\lib\\site-packages (from cffi>=1.14->trio~=0.17->selenium) (2.20)\n",
      "Requirement already satisfied: wsproto>=0.14 in c:\\users\\kalim\\anaconda3\\lib\\site-packages (from trio-websocket~=0.9->selenium) (1.1.0)\n",
      "Requirement already satisfied: PySocks!=1.5.7,<2.0,>=1.5.6 in c:\\users\\kalim\\anaconda3\\lib\\site-packages (from urllib3[secure,socks]~=1.26->selenium) (1.7.1)\n",
      "Requirement already satisfied: pyOpenSSL>=0.14 in c:\\users\\kalim\\anaconda3\\lib\\site-packages (from urllib3[secure,socks]~=1.26->selenium) (21.0.0)\n",
      "Requirement already satisfied: cryptography>=1.3.4 in c:\\users\\kalim\\anaconda3\\lib\\site-packages (from urllib3[secure,socks]~=1.26->selenium) (3.4.8)\n",
      "Requirement already satisfied: certifi in c:\\users\\kalim\\anaconda3\\lib\\site-packages (from urllib3[secure,socks]~=1.26->selenium) (2021.10.8)\n",
      "Requirement already satisfied: six>=1.5.2 in c:\\users\\kalim\\anaconda3\\lib\\site-packages (from pyOpenSSL>=0.14->urllib3[secure,socks]~=1.26->selenium) (1.16.0)\n",
      "Requirement already satisfied: h11<1,>=0.9.0 in c:\\users\\kalim\\anaconda3\\lib\\site-packages (from wsproto>=0.14->trio-websocket~=0.9->selenium) (0.13.0)\n"
     ]
    }
   ],
   "source": [
    "! pip install --upgrade selenium"
   ]
  },
  {
   "cell_type": "code",
   "execution_count": 67,
   "metadata": {},
   "outputs": [],
   "source": [
    "s = Service('chromedriver')\n",
    "driver = webdriver.Chrome(service=s)"
   ]
  },
  {
   "cell_type": "code",
   "execution_count": 68,
   "metadata": {},
   "outputs": [],
   "source": [
    "driver.get(\"https://bikroy.com/bn/ads/bangladesh/mobiles\")"
   ]
  },
  {
   "cell_type": "code",
   "execution_count": 69,
   "metadata": {},
   "outputs": [],
   "source": [
    "driver.close()"
   ]
  },
  {
   "cell_type": "code",
   "execution_count": 5,
   "metadata": {},
   "outputs": [
    {
     "data": {
      "text/plain": [
       "'বাংলাদেশ-এ বিক্রির জন্য মোবাইল এবং এক্সেসরিজ | Bikroy.com'"
      ]
     },
     "execution_count": 5,
     "metadata": {},
     "output_type": "execute_result"
    }
   ],
   "source": [
    "driver.title"
   ]
  },
  {
   "cell_type": "code",
   "execution_count": 8,
   "metadata": {},
   "outputs": [],
   "source": [
    "driver.back()"
   ]
  },
  {
   "cell_type": "code",
   "execution_count": 7,
   "metadata": {},
   "outputs": [],
   "source": [
    "driver.forward()"
   ]
  },
  {
   "cell_type": "code",
   "execution_count": 31,
   "metadata": {
    "collapsed": true
   },
   "outputs": [
    {
     "data": {
      "text/plain": [
       "[<selenium.webdriver.remote.webelement.WebElement (session=\"cc6a9394f6bac1c25d8dbca9974e9827\", element=\"ba50fbbc-e06a-4d35-b668-6cdc18612cfa\")>,\n",
       " <selenium.webdriver.remote.webelement.WebElement (session=\"cc6a9394f6bac1c25d8dbca9974e9827\", element=\"280137af-4d86-4424-94cf-d2df6408d254\")>,\n",
       " <selenium.webdriver.remote.webelement.WebElement (session=\"cc6a9394f6bac1c25d8dbca9974e9827\", element=\"fefa6d3d-aefd-4d18-b68f-f5acb504cfd4\")>,\n",
       " <selenium.webdriver.remote.webelement.WebElement (session=\"cc6a9394f6bac1c25d8dbca9974e9827\", element=\"1debe61b-1a2e-48b3-a91e-b4ad7e2e4112\")>,\n",
       " <selenium.webdriver.remote.webelement.WebElement (session=\"cc6a9394f6bac1c25d8dbca9974e9827\", element=\"dfc95c56-615c-4b3b-b3f2-82351ea0cd48\")>,\n",
       " <selenium.webdriver.remote.webelement.WebElement (session=\"cc6a9394f6bac1c25d8dbca9974e9827\", element=\"294477fe-ee48-421b-a256-cf8fa8a7365e\")>,\n",
       " <selenium.webdriver.remote.webelement.WebElement (session=\"cc6a9394f6bac1c25d8dbca9974e9827\", element=\"ed8585f3-15ee-4391-b6b6-d19f85b2d0f2\")>,\n",
       " <selenium.webdriver.remote.webelement.WebElement (session=\"cc6a9394f6bac1c25d8dbca9974e9827\", element=\"dcc282b3-1025-4cb2-91e3-8787b38c6db5\")>,\n",
       " <selenium.webdriver.remote.webelement.WebElement (session=\"cc6a9394f6bac1c25d8dbca9974e9827\", element=\"b32f6537-48d0-4391-af2f-68bdc92aa744\")>,\n",
       " <selenium.webdriver.remote.webelement.WebElement (session=\"cc6a9394f6bac1c25d8dbca9974e9827\", element=\"1d5c634d-f66f-42a5-a45f-4ee36fc0b913\")>,\n",
       " <selenium.webdriver.remote.webelement.WebElement (session=\"cc6a9394f6bac1c25d8dbca9974e9827\", element=\"cffa774c-70cf-4d4b-90b7-a1382e69c647\")>,\n",
       " <selenium.webdriver.remote.webelement.WebElement (session=\"cc6a9394f6bac1c25d8dbca9974e9827\", element=\"857ee1b1-bd1f-4234-8d33-cf76227b475c\")>,\n",
       " <selenium.webdriver.remote.webelement.WebElement (session=\"cc6a9394f6bac1c25d8dbca9974e9827\", element=\"3502484f-e4c4-4d2b-9955-4749e1ebd113\")>,\n",
       " <selenium.webdriver.remote.webelement.WebElement (session=\"cc6a9394f6bac1c25d8dbca9974e9827\", element=\"4ad08c41-be68-4164-85b9-4ef77fbfad39\")>,\n",
       " <selenium.webdriver.remote.webelement.WebElement (session=\"cc6a9394f6bac1c25d8dbca9974e9827\", element=\"d644f937-3336-499d-8e5e-2ccbe088930f\")>,\n",
       " <selenium.webdriver.remote.webelement.WebElement (session=\"cc6a9394f6bac1c25d8dbca9974e9827\", element=\"babf0ce1-2605-4a29-beb5-afd27ea6a810\")>,\n",
       " <selenium.webdriver.remote.webelement.WebElement (session=\"cc6a9394f6bac1c25d8dbca9974e9827\", element=\"2bdef122-5760-4890-8420-ee4877f7c314\")>,\n",
       " <selenium.webdriver.remote.webelement.WebElement (session=\"cc6a9394f6bac1c25d8dbca9974e9827\", element=\"1c3c6ff0-47f5-488e-b476-8c8ee97e0cc2\")>,\n",
       " <selenium.webdriver.remote.webelement.WebElement (session=\"cc6a9394f6bac1c25d8dbca9974e9827\", element=\"c7e5e222-2691-4fe4-8420-cc19a5eb3565\")>,\n",
       " <selenium.webdriver.remote.webelement.WebElement (session=\"cc6a9394f6bac1c25d8dbca9974e9827\", element=\"2e63fc57-ee73-4d1c-b5d8-0b5aa6acab31\")>,\n",
       " <selenium.webdriver.remote.webelement.WebElement (session=\"cc6a9394f6bac1c25d8dbca9974e9827\", element=\"47ba6f6c-4737-4ffe-ae68-4f20b5781ec0\")>,\n",
       " <selenium.webdriver.remote.webelement.WebElement (session=\"cc6a9394f6bac1c25d8dbca9974e9827\", element=\"a7c329c4-a94f-4df9-b8f2-d95918f03b1c\")>,\n",
       " <selenium.webdriver.remote.webelement.WebElement (session=\"cc6a9394f6bac1c25d8dbca9974e9827\", element=\"f2ba1355-9923-44fa-89ae-b58ddf7a6410\")>,\n",
       " <selenium.webdriver.remote.webelement.WebElement (session=\"cc6a9394f6bac1c25d8dbca9974e9827\", element=\"4ad5bc81-e8c0-436c-a513-c83613eab8e1\")>,\n",
       " <selenium.webdriver.remote.webelement.WebElement (session=\"cc6a9394f6bac1c25d8dbca9974e9827\", element=\"152ace6d-1fcc-45d2-ba24-d8ea6df410e3\")>,\n",
       " <selenium.webdriver.remote.webelement.WebElement (session=\"cc6a9394f6bac1c25d8dbca9974e9827\", element=\"6a511777-fd00-429b-960e-452d0d090ea0\")>,\n",
       " <selenium.webdriver.remote.webelement.WebElement (session=\"cc6a9394f6bac1c25d8dbca9974e9827\", element=\"f87a356a-ceae-40a3-976a-e7ba0c1f918e\")>,\n",
       " <selenium.webdriver.remote.webelement.WebElement (session=\"cc6a9394f6bac1c25d8dbca9974e9827\", element=\"c7bce8e1-4e2e-4049-9f5b-6902d70d8e17\")>,\n",
       " <selenium.webdriver.remote.webelement.WebElement (session=\"cc6a9394f6bac1c25d8dbca9974e9827\", element=\"03aa2022-a51c-46d6-bdb8-422108b3ecd9\")>]"
      ]
     },
     "execution_count": 31,
     "metadata": {},
     "output_type": "execute_result"
    }
   ],
   "source": [
    "product_link = driver.find_elements(by=By.CLASS_NAME, value=\"card-link--3ssYv\")\n",
    "product_link"
   ]
  },
  {
   "cell_type": "code",
   "execution_count": 32,
   "metadata": {
    "collapsed": true
   },
   "outputs": [
    {
     "data": {
      "text/plain": [
       "['https://bikroy.com/bn/ad/vivo-y23e-8128-used-for-sale-dhaka',\n",
       " 'https://bikroy.com/bn/promotions',\n",
       " 'https://bikroy.com/bn/ad/apple-iphone-7-z-black-used-for-sale-dhaka-7',\n",
       " 'https://bikroy.com/bn/promotions',\n",
       " 'https://bikroy.com/bn/ad/realme-x7-5g-6128-used-for-sale-barishal',\n",
       " 'https://bikroy.com/bn/ad/samsung-galaxy-a02-3-32-used-for-sale-dhaka-division-7',\n",
       " 'https://bikroy.com/bn/ad/xiaomi-redmi-note-8-pro-mi-used-for-sale-khulna-division',\n",
       " 'https://bikroy.com/bn/ad/vivo-v11-pro-v-11-used-for-sale-chattogram',\n",
       " 'https://bikroy.com/bn/ad/vivo-y85-4-128-new-for-sale-dhaka-division-1',\n",
       " 'https://bikroy.com/bn/ad/lava-full-fresh-1-8-gb-used-for-sale-dhaka-1',\n",
       " 'https://bikroy.com/bn/ad/apple-iphone-xs-max-used-for-sale-khulna-division-93',\n",
       " 'https://bikroy.com/bn/ad/xiaomi-redmi-note-11-pro-ok-used-for-sale-chattogram-division',\n",
       " 'https://bikroy.com/bn/ad/xiaomi-redmi-8-used-for-sale-dhaka-3257',\n",
       " 'https://bikroy.com/bn/ad/xiaomi-redmi-4-prime-3-32-with-full-boxx-new-for-sale-dhaka-division',\n",
       " 'https://bikroy.com/bn/ad/nokia-105-single-sim-used-for-sale-dhaka-division-1',\n",
       " 'https://bikroy.com/bn/ad/xiaomi-poco-x3-pro-europe-used-for-sale-dhaka',\n",
       " 'https://bikroy.com/bn/ad/realme-c25s-used-for-sale-chattogram-127',\n",
       " 'https://bikroy.com/bn/ad/oppo-a37-gold-used-for-sale-dhaka-3',\n",
       " 'https://bikroy.com/bn/ad/symphony-p9-ram-3gb-rom-32gb-used-for-sale-khulna',\n",
       " 'https://bikroy.com/bn/ad/vivo-y12s-used-for-sale-dhaka-1116',\n",
       " 'https://bikroy.com/bn/ad/xiaomi-redmi-note-7s-ram-4-64-used-for-sale-khulna-division',\n",
       " 'https://bikroy.com/bn/ad/vivo-y11-used-for-sale-dhaka-2757',\n",
       " 'https://bikroy.com/bn/ad/realme-c12-2021-used-for-sale-rajshahi-division-6',\n",
       " 'https://bikroy.com/bn/ad/xiaomi-redmi-note-7-pro-4-64-gb-used-for-sale-khulna-division-16',\n",
       " 'https://bikroy.com/bn/ad/samsung-galaxy-a20s-ram332-used-for-sale-barishal-division',\n",
       " 'https://bikroy.com/bn/ad/lava-benco-e11-used-for-sale-mymensingh',\n",
       " 'https://bikroy.com/bn/ad/realme-8-used-for-sale-sylhet-41',\n",
       " 'https://bikroy.com/bn/ad/xiaomi-redmi-note-9-pro-4-64gb-100-percent-fresh-ph-used-for-sale-dhaka',\n",
       " 'https://bikroy.com/bn/ad/apple-iphone-xs-4-64-used-for-sale-dhaka-73']"
      ]
     },
     "execution_count": 32,
     "metadata": {},
     "output_type": "execute_result"
    }
   ],
   "source": [
    "product_urls = [p.get_attribute('href') for p in product_link]\n",
    "product_urls"
   ]
  },
  {
   "cell_type": "code",
   "execution_count": 56,
   "metadata": {
    "scrolled": true
   },
   "outputs": [
    {
     "name": "stdout",
     "output_type": "stream",
     "text": [
      "https://bikroy.com/bn/ad/vivo-y23e-8128-used-for-sale-dhaka\n",
      "https://bikroy.com/bn/promotions\n",
      "https://bikroy.com/bn/ad/apple-iphone-7-z-black-used-for-sale-dhaka-7\n",
      "https://bikroy.com/bn/promotions\n",
      "https://bikroy.com/bn/ad/realme-x7-5g-6128-used-for-sale-barishal\n"
     ]
    }
   ],
   "source": [
    "for p in product_urls[:5]:\n",
    "    print(p)"
   ]
  },
  {
   "cell_type": "code",
   "execution_count": 33,
   "metadata": {},
   "outputs": [],
   "source": [
    "driver.get('https://bikroy.com/bn/ad/realme-x7-5g-6128-used-for-sale-barishal')"
   ]
  },
  {
   "cell_type": "code",
   "execution_count": 36,
   "metadata": {},
   "outputs": [
    {
     "data": {
      "text/plain": [
       "'Realme X7 5G (6+128) (Used)'"
      ]
     },
     "execution_count": 36,
     "metadata": {},
     "output_type": "execute_result"
    }
   ],
   "source": [
    "title_ele = driver.find_element(by=By.TAG_NAME, value='h1')\n",
    "title_ele.text"
   ]
  },
  {
   "cell_type": "code",
   "execution_count": 37,
   "metadata": {},
   "outputs": [
    {
     "data": {
      "text/plain": [
       "<selenium.webdriver.remote.webelement.WebElement (session=\"cc6a9394f6bac1c25d8dbca9974e9827\", element=\"60c9bbbc-a885-498a-af43-fbe8127d20bf\")>"
      ]
     },
     "execution_count": 37,
     "metadata": {},
     "output_type": "execute_result"
    }
   ],
   "source": [
    "descript_ele = driver.find_element(by=By.XPATH, value='//*[@id=\"collapsible-content-0\"]/ul/div')\n",
    "descript_ele"
   ]
  },
  {
   "cell_type": "code",
   "execution_count": 42,
   "metadata": {},
   "outputs": [
    {
     "data": {
      "text/plain": [
       "['বক্স নাই, ব্যাক কাভার আছে। চার্জার আছে।',\n",
       " 'পলি লাগানো আছে।',\n",
       " 'Amoled Display ',\n",
       " 'Indisplay Fingerprint',\n",
       " 'Dimensity 800U octa core processor ']"
      ]
     },
     "execution_count": 42,
     "metadata": {},
     "output_type": "execute_result"
    }
   ],
   "source": [
    "descript_ele.text.split('\\n')"
   ]
  },
  {
   "cell_type": "code",
   "execution_count": null,
   "metadata": {},
   "outputs": [],
   "source": [
    "'বক্স নাই, ব্যাক কাভার আছে। চার্জার আছে। পলি লাগানো আছে। Amoled Display Indisplay Fingerprint Dimensity 800U octa core processor '"
   ]
  },
  {
   "cell_type": "code",
   "execution_count": 43,
   "metadata": {},
   "outputs": [
    {
     "data": {
      "text/plain": [
       "'বক্স নাই, ব্যাক কাভার আছে। চার্জার আছে। পলি লাগানো আছে। Amoled Display  Indisplay Fingerprint Dimensity 800U octa core processor '"
      ]
     },
     "execution_count": 43,
     "metadata": {},
     "output_type": "execute_result"
    }
   ],
   "source": [
    "' '.join(descript_ele.text.split('\\n'))"
   ]
  },
  {
   "cell_type": "code",
   "execution_count": null,
   "metadata": {},
   "outputs": [],
   "source": []
  },
  {
   "cell_type": "code",
   "execution_count": null,
   "metadata": {},
   "outputs": [],
   "source": []
  },
  {
   "cell_type": "code",
   "execution_count": 18,
   "metadata": {},
   "outputs": [],
   "source": [
    "import time"
   ]
  },
  {
   "cell_type": "code",
   "execution_count": 26,
   "metadata": {
    "collapsed": true
   },
   "outputs": [
    {
     "name": "stdout",
     "output_type": "stream",
     "text": [
      "https://bikroy.com/en/ads/bangladesh/home-living?sort=date&order=desc&buy_now=0&urgent=0&page=1\n"
     ]
    },
    {
     "ename": "WebDriverException",
     "evalue": "Message: unknown error: cannot determine loading status\nfrom disconnected: received Inspector.detached event\n  (Session info: chrome=104.0.5112.102)\nStacktrace:\nBacktrace:\n\tOrdinal0 [0x00EA78B3+2193587]\n\tOrdinal0 [0x00E40681+1771137]\n\tOrdinal0 [0x00D541A8+803240]\n\tOrdinal0 [0x00D47E1E+753182]\n\tOrdinal0 [0x00D47A0F+752143]\n\tOrdinal0 [0x00D46FAF+749487]\n\tOrdinal0 [0x00D45E94+745108]\n\tOrdinal0 [0x00D46498+746648]\n\tOrdinal0 [0x00D50610+787984]\n\tOrdinal0 [0x00D4781D+751645]\n\tOrdinal0 [0x00D48450+754768]\n\tOrdinal0 [0x00D47A2A+752170]\n\tOrdinal0 [0x00D46FAF+749487]\n\tOrdinal0 [0x00D45E94+745108]\n\tOrdinal0 [0x00D4636D+746349]\n\tOrdinal0 [0x00D55974+809332]\n\tOrdinal0 [0x00DAE18D+1171853]\n\tOrdinal0 [0x00D9D7AC+1103788]\n\tOrdinal0 [0x00DADAE2+1170146]\n\tOrdinal0 [0x00D9D5C6+1103302]\n\tOrdinal0 [0x00D777E0+948192]\n\tOrdinal0 [0x00D786E6+952038]\n\tGetHandleVerifier [0x01150CB2+2738370]\n\tGetHandleVerifier [0x011421B8+2678216]\n\tGetHandleVerifier [0x00F317AA+512954]\n\tGetHandleVerifier [0x00F30856+509030]\n\tOrdinal0 [0x00E4743B+1799227]\n\tOrdinal0 [0x00E4BB68+1817448]\n\tOrdinal0 [0x00E4BC55+1817685]\n\tOrdinal0 [0x00E55230+1856048]\n\tBaseThreadInitThunk [0x753CFA29+25]\n\tRtlGetAppContainerNamedObjectPath [0x76F07A9E+286]\n\tRtlGetAppContainerNamedObjectPath [0x76F07A6E+238]\n",
     "output_type": "error",
     "traceback": [
      "\u001b[1;31m---------------------------------------------------------------------------\u001b[0m",
      "\u001b[1;31mWebDriverException\u001b[0m                        Traceback (most recent call last)",
      "Input \u001b[1;32mIn [26]\u001b[0m, in \u001b[0;36m<cell line: 8>\u001b[1;34m()\u001b[0m\n\u001b[0;32m     10\u001b[0m     \u001b[38;5;28mprint\u001b[39m(bikroy_url)\n\u001b[0;32m     13\u001b[0m \u001b[38;5;66;03m#     r = session.get('http://localhost:8050/render.html', params={'url': bikroy_url, 'wait': 1})\u001b[39;00m\n\u001b[0;32m     14\u001b[0m \u001b[38;5;66;03m#     print(r.status_code)\u001b[39;00m\n\u001b[1;32m---> 16\u001b[0m     \u001b[43mdriver\u001b[49m\u001b[38;5;241;43m.\u001b[39;49m\u001b[43mget\u001b[49m\u001b[43m(\u001b[49m\u001b[43mbikroy_url\u001b[49m\u001b[43m)\u001b[49m\n\u001b[0;32m     17\u001b[0m     time\u001b[38;5;241m.\u001b[39msleep(\u001b[38;5;241m3\u001b[39m)\n\u001b[0;32m     18\u001b[0m     page_cnt \u001b[38;5;241m+\u001b[39m\u001b[38;5;241m=\u001b[39m \u001b[38;5;241m1\u001b[39m\n",
      "File \u001b[1;32m~\\anaconda3\\lib\\site-packages\\selenium\\webdriver\\remote\\webdriver.py:440\u001b[0m, in \u001b[0;36mWebDriver.get\u001b[1;34m(self, url)\u001b[0m\n\u001b[0;32m    436\u001b[0m \u001b[38;5;28;01mdef\u001b[39;00m \u001b[38;5;21mget\u001b[39m(\u001b[38;5;28mself\u001b[39m, url: \u001b[38;5;28mstr\u001b[39m) \u001b[38;5;241m-\u001b[39m\u001b[38;5;241m>\u001b[39m \u001b[38;5;28;01mNone\u001b[39;00m:\n\u001b[0;32m    437\u001b[0m     \u001b[38;5;124;03m\"\"\"\u001b[39;00m\n\u001b[0;32m    438\u001b[0m \u001b[38;5;124;03m    Loads a web page in the current browser session.\u001b[39;00m\n\u001b[0;32m    439\u001b[0m \u001b[38;5;124;03m    \"\"\"\u001b[39;00m\n\u001b[1;32m--> 440\u001b[0m     \u001b[38;5;28;43mself\u001b[39;49m\u001b[38;5;241;43m.\u001b[39;49m\u001b[43mexecute\u001b[49m\u001b[43m(\u001b[49m\u001b[43mCommand\u001b[49m\u001b[38;5;241;43m.\u001b[39;49m\u001b[43mGET\u001b[49m\u001b[43m,\u001b[49m\u001b[43m \u001b[49m\u001b[43m{\u001b[49m\u001b[38;5;124;43m'\u001b[39;49m\u001b[38;5;124;43murl\u001b[39;49m\u001b[38;5;124;43m'\u001b[39;49m\u001b[43m:\u001b[49m\u001b[43m \u001b[49m\u001b[43murl\u001b[49m\u001b[43m}\u001b[49m\u001b[43m)\u001b[49m\n",
      "File \u001b[1;32m~\\anaconda3\\lib\\site-packages\\selenium\\webdriver\\remote\\webdriver.py:428\u001b[0m, in \u001b[0;36mWebDriver.execute\u001b[1;34m(self, driver_command, params)\u001b[0m\n\u001b[0;32m    426\u001b[0m response \u001b[38;5;241m=\u001b[39m \u001b[38;5;28mself\u001b[39m\u001b[38;5;241m.\u001b[39mcommand_executor\u001b[38;5;241m.\u001b[39mexecute(driver_command, params)\n\u001b[0;32m    427\u001b[0m \u001b[38;5;28;01mif\u001b[39;00m response:\n\u001b[1;32m--> 428\u001b[0m     \u001b[38;5;28;43mself\u001b[39;49m\u001b[38;5;241;43m.\u001b[39;49m\u001b[43merror_handler\u001b[49m\u001b[38;5;241;43m.\u001b[39;49m\u001b[43mcheck_response\u001b[49m\u001b[43m(\u001b[49m\u001b[43mresponse\u001b[49m\u001b[43m)\u001b[49m\n\u001b[0;32m    429\u001b[0m     response[\u001b[38;5;124m'\u001b[39m\u001b[38;5;124mvalue\u001b[39m\u001b[38;5;124m'\u001b[39m] \u001b[38;5;241m=\u001b[39m \u001b[38;5;28mself\u001b[39m\u001b[38;5;241m.\u001b[39m_unwrap_value(\n\u001b[0;32m    430\u001b[0m         response\u001b[38;5;241m.\u001b[39mget(\u001b[38;5;124m'\u001b[39m\u001b[38;5;124mvalue\u001b[39m\u001b[38;5;124m'\u001b[39m, \u001b[38;5;28;01mNone\u001b[39;00m))\n\u001b[0;32m    431\u001b[0m     \u001b[38;5;28;01mreturn\u001b[39;00m response\n",
      "File \u001b[1;32m~\\anaconda3\\lib\\site-packages\\selenium\\webdriver\\remote\\errorhandler.py:243\u001b[0m, in \u001b[0;36mErrorHandler.check_response\u001b[1;34m(self, response)\u001b[0m\n\u001b[0;32m    241\u001b[0m         alert_text \u001b[38;5;241m=\u001b[39m value[\u001b[38;5;124m'\u001b[39m\u001b[38;5;124malert\u001b[39m\u001b[38;5;124m'\u001b[39m]\u001b[38;5;241m.\u001b[39mget(\u001b[38;5;124m'\u001b[39m\u001b[38;5;124mtext\u001b[39m\u001b[38;5;124m'\u001b[39m)\n\u001b[0;32m    242\u001b[0m     \u001b[38;5;28;01mraise\u001b[39;00m exception_class(message, screen, stacktrace, alert_text)  \u001b[38;5;66;03m# type: ignore[call-arg]  # mypy is not smart enough here\u001b[39;00m\n\u001b[1;32m--> 243\u001b[0m \u001b[38;5;28;01mraise\u001b[39;00m exception_class(message, screen, stacktrace)\n",
      "\u001b[1;31mWebDriverException\u001b[0m: Message: unknown error: cannot determine loading status\nfrom disconnected: received Inspector.detached event\n  (Session info: chrome=104.0.5112.102)\nStacktrace:\nBacktrace:\n\tOrdinal0 [0x00EA78B3+2193587]\n\tOrdinal0 [0x00E40681+1771137]\n\tOrdinal0 [0x00D541A8+803240]\n\tOrdinal0 [0x00D47E1E+753182]\n\tOrdinal0 [0x00D47A0F+752143]\n\tOrdinal0 [0x00D46FAF+749487]\n\tOrdinal0 [0x00D45E94+745108]\n\tOrdinal0 [0x00D46498+746648]\n\tOrdinal0 [0x00D50610+787984]\n\tOrdinal0 [0x00D4781D+751645]\n\tOrdinal0 [0x00D48450+754768]\n\tOrdinal0 [0x00D47A2A+752170]\n\tOrdinal0 [0x00D46FAF+749487]\n\tOrdinal0 [0x00D45E94+745108]\n\tOrdinal0 [0x00D4636D+746349]\n\tOrdinal0 [0x00D55974+809332]\n\tOrdinal0 [0x00DAE18D+1171853]\n\tOrdinal0 [0x00D9D7AC+1103788]\n\tOrdinal0 [0x00DADAE2+1170146]\n\tOrdinal0 [0x00D9D5C6+1103302]\n\tOrdinal0 [0x00D777E0+948192]\n\tOrdinal0 [0x00D786E6+952038]\n\tGetHandleVerifier [0x01150CB2+2738370]\n\tGetHandleVerifier [0x011421B8+2678216]\n\tGetHandleVerifier [0x00F317AA+512954]\n\tGetHandleVerifier [0x00F30856+509030]\n\tOrdinal0 [0x00E4743B+1799227]\n\tOrdinal0 [0x00E4BB68+1817448]\n\tOrdinal0 [0x00E4BC55+1817685]\n\tOrdinal0 [0x00E55230+1856048]\n\tBaseThreadInitThunk [0x753CFA29+25]\n\tRtlGetAppContainerNamedObjectPath [0x76F07A9E+286]\n\tRtlGetAppContainerNamedObjectPath [0x76F07A6E+238]\n"
     ]
    }
   ],
   "source": [
    "s = Service('chromedriver')\n",
    "driver = webdriver.Chrome(service=s)\n",
    "# session = HTMLSession()\n",
    "start = time.time()\n",
    "pages = 5\n",
    "single_page_urls = []\n",
    "page_cnt, url_cnt = 0, 0\n",
    "for p in range(1, pages+1):\n",
    "    bikroy_url = f'https://bikroy.com/en/ads/bangladesh/home-living?sort=date&order=desc&buy_now=0&urgent=0&page={p}'\n",
    "    print(bikroy_url)\n",
    "\n",
    "\n",
    "#     r = session.get('http://localhost:8050/render.html', params={'url': bikroy_url, 'wait': 1})\n",
    "#     print(r.status_code)\n",
    "\n",
    "    driver.get(bikroy_url)\n",
    "    time.sleep(3)\n",
    "    page_cnt += 1\n",
    "    for i in range (1, 28):\n",
    "        try:\n",
    "            single_url = driver.find_element(by=By.XPATH, value=f'//*[@id=\"app-wrapper\"]/div[1]/div[3]/div/div[2]/div[4]/div[2]/div/div[1]/div[1]/ul/li[{i}]/a').get_attribute('href')\n",
    "#             single_url = r.html.find(f'#app-wrapper > div.container--297Nx.all > div:nth-child(3) > div > div.row--3Vhjr.main-container--28aG5.justify-content-flex-start--1Xozy.align-items-normal--vaTgD.flex-wrap-wrap--2PCx8.flex-direction-row--27fh1.flex--3fKk1 > div.sm-col-12--30zDS.lg-col-9--20qCf.block--3v-Ow > div.ad-list-container--1UnyA > div > div.ad-list--2Y3ql > div.list-wrapper--t_A02 > ul > li:nth-child({i}) > a')\n",
    "#             single_url = single_url[0].attrs['href']\n",
    "            single_page_urls.append(single_url)\n",
    "            url_cnt += 1\n",
    "            print(\"Page: \" + str(page_cnt) + \" URL: \" + str(url_cnt))\n",
    "        except Exception as e:\n",
    "            print(e)\n",
    "            print('Not details link')\n",
    "    \n",
    "#     clear_output(wait=True)\n",
    "print(time.time()-start)\n",
    "# driver.maximize_window()"
   ]
  },
  {
   "cell_type": "code",
   "execution_count": null,
   "metadata": {},
   "outputs": [],
   "source": []
  },
  {
   "cell_type": "code",
   "execution_count": null,
   "metadata": {},
   "outputs": [],
   "source": []
  },
  {
   "cell_type": "code",
   "execution_count": 25,
   "metadata": {
    "collapsed": true
   },
   "outputs": [
    {
     "data": {
      "text/plain": [
       "(135,\n",
       " ['https://bikroy.com/en/ad/sulbh-muuly-oyyaashin-meshin-bikryy-hbe-for-sale-dhaka',\n",
       "  'https://bikroy.com/en/ad/sulbh-muuly-oyyaashin-meshin-bikryy-hbe-for-sale-dhaka',\n",
       "  'https://bikroy.com/en/ad/sulbh-muuly-oyyaashin-meshin-bikryy-hbe-for-sale-dhaka',\n",
       "  'https://bikroy.com/en/ad/sulbh-muuly-oyyaashin-meshin-bikryy-hbe-for-sale-dhaka',\n",
       "  'https://bikroy.com/en/ad/sulbh-muuly-oyyaashin-meshin-bikryy-hbe-for-sale-dhaka',\n",
       "  'https://bikroy.com/en/ad/sulbh-muuly-oyyaashin-meshin-bikryy-hbe-for-sale-dhaka',\n",
       "  'https://bikroy.com/en/ad/sulbh-muuly-oyyaashin-meshin-bikryy-hbe-for-sale-dhaka',\n",
       "  'https://bikroy.com/en/ad/sulbh-muuly-oyyaashin-meshin-bikryy-hbe-for-sale-dhaka',\n",
       "  'https://bikroy.com/en/ad/sulbh-muuly-oyyaashin-meshin-bikryy-hbe-for-sale-dhaka',\n",
       "  'https://bikroy.com/en/ad/sulbh-muuly-oyyaashin-meshin-bikryy-hbe-for-sale-dhaka',\n",
       "  'https://bikroy.com/en/ad/sulbh-muuly-oyyaashin-meshin-bikryy-hbe-for-sale-dhaka',\n",
       "  'https://bikroy.com/en/ad/sulbh-muuly-oyyaashin-meshin-bikryy-hbe-for-sale-dhaka',\n",
       "  'https://bikroy.com/en/ad/sulbh-muuly-oyyaashin-meshin-bikryy-hbe-for-sale-dhaka',\n",
       "  'https://bikroy.com/en/ad/sulbh-muuly-oyyaashin-meshin-bikryy-hbe-for-sale-dhaka',\n",
       "  'https://bikroy.com/en/ad/sulbh-muuly-oyyaashin-meshin-bikryy-hbe-for-sale-dhaka',\n",
       "  'https://bikroy.com/en/ad/sulbh-muuly-oyyaashin-meshin-bikryy-hbe-for-sale-dhaka',\n",
       "  'https://bikroy.com/en/ad/sulbh-muuly-oyyaashin-meshin-bikryy-hbe-for-sale-dhaka',\n",
       "  'https://bikroy.com/en/ad/sulbh-muuly-oyyaashin-meshin-bikryy-hbe-for-sale-dhaka',\n",
       "  'https://bikroy.com/en/ad/sulbh-muuly-oyyaashin-meshin-bikryy-hbe-for-sale-dhaka',\n",
       "  'https://bikroy.com/en/ad/sulbh-muuly-oyyaashin-meshin-bikryy-hbe-for-sale-dhaka',\n",
       "  'https://bikroy.com/en/ad/sulbh-muuly-oyyaashin-meshin-bikryy-hbe-for-sale-dhaka',\n",
       "  'https://bikroy.com/en/ad/sulbh-muuly-oyyaashin-meshin-bikryy-hbe-for-sale-dhaka',\n",
       "  'https://bikroy.com/en/ad/sulbh-muuly-oyyaashin-meshin-bikryy-hbe-for-sale-dhaka',\n",
       "  'https://bikroy.com/en/ad/sulbh-muuly-oyyaashin-meshin-bikryy-hbe-for-sale-dhaka',\n",
       "  'https://bikroy.com/en/ad/sulbh-muuly-oyyaashin-meshin-bikryy-hbe-for-sale-dhaka',\n",
       "  'https://bikroy.com/en/ad/sulbh-muuly-oyyaashin-meshin-bikryy-hbe-for-sale-dhaka',\n",
       "  'https://bikroy.com/en/ad/sulbh-muuly-oyyaashin-meshin-bikryy-hbe-for-sale-dhaka',\n",
       "  'https://bikroy.com/en/ad/delongi-coffee-maker-italian-for-sale-dhaka-1',\n",
       "  'https://bikroy.com/en/ad/delongi-coffee-maker-italian-for-sale-dhaka-1',\n",
       "  'https://bikroy.com/en/ad/delongi-coffee-maker-italian-for-sale-dhaka-1',\n",
       "  'https://bikroy.com/en/ad/delongi-coffee-maker-italian-for-sale-dhaka-1',\n",
       "  'https://bikroy.com/en/ad/delongi-coffee-maker-italian-for-sale-dhaka-1',\n",
       "  'https://bikroy.com/en/ad/delongi-coffee-maker-italian-for-sale-dhaka-1',\n",
       "  'https://bikroy.com/en/ad/delongi-coffee-maker-italian-for-sale-dhaka-1',\n",
       "  'https://bikroy.com/en/ad/delongi-coffee-maker-italian-for-sale-dhaka-1',\n",
       "  'https://bikroy.com/en/ad/delongi-coffee-maker-italian-for-sale-dhaka-1',\n",
       "  'https://bikroy.com/en/ad/delongi-coffee-maker-italian-for-sale-dhaka-1',\n",
       "  'https://bikroy.com/en/ad/delongi-coffee-maker-italian-for-sale-dhaka-1',\n",
       "  'https://bikroy.com/en/ad/delongi-coffee-maker-italian-for-sale-dhaka-1',\n",
       "  'https://bikroy.com/en/ad/delongi-coffee-maker-italian-for-sale-dhaka-1',\n",
       "  'https://bikroy.com/en/ad/delongi-coffee-maker-italian-for-sale-dhaka-1',\n",
       "  'https://bikroy.com/en/ad/delongi-coffee-maker-italian-for-sale-dhaka-1',\n",
       "  'https://bikroy.com/en/ad/delongi-coffee-maker-italian-for-sale-dhaka-1',\n",
       "  'https://bikroy.com/en/ad/delongi-coffee-maker-italian-for-sale-dhaka-1',\n",
       "  'https://bikroy.com/en/ad/delongi-coffee-maker-italian-for-sale-dhaka-1',\n",
       "  'https://bikroy.com/en/ad/delongi-coffee-maker-italian-for-sale-dhaka-1',\n",
       "  'https://bikroy.com/en/ad/delongi-coffee-maker-italian-for-sale-dhaka-1',\n",
       "  'https://bikroy.com/en/ad/delongi-coffee-maker-italian-for-sale-dhaka-1',\n",
       "  'https://bikroy.com/en/ad/delongi-coffee-maker-italian-for-sale-dhaka-1',\n",
       "  'https://bikroy.com/en/ad/delongi-coffee-maker-italian-for-sale-dhaka-1',\n",
       "  'https://bikroy.com/en/ad/delongi-coffee-maker-italian-for-sale-dhaka-1',\n",
       "  'https://bikroy.com/en/ad/delongi-coffee-maker-italian-for-sale-dhaka-1',\n",
       "  'https://bikroy.com/en/ad/delongi-coffee-maker-italian-for-sale-dhaka-1',\n",
       "  'https://bikroy.com/en/ad/delongi-coffee-maker-italian-for-sale-dhaka-1',\n",
       "  'https://bikroy.com/en/ad/bed-with-mattress-for-sale-dhaka-248',\n",
       "  'https://bikroy.com/en/ad/bed-with-mattress-for-sale-dhaka-248',\n",
       "  'https://bikroy.com/en/ad/bed-with-mattress-for-sale-dhaka-248',\n",
       "  'https://bikroy.com/en/ad/bed-with-mattress-for-sale-dhaka-248',\n",
       "  'https://bikroy.com/en/ad/bed-with-mattress-for-sale-dhaka-248',\n",
       "  'https://bikroy.com/en/ad/bed-with-mattress-for-sale-dhaka-248',\n",
       "  'https://bikroy.com/en/ad/bed-with-mattress-for-sale-dhaka-248',\n",
       "  'https://bikroy.com/en/ad/bed-with-mattress-for-sale-dhaka-248',\n",
       "  'https://bikroy.com/en/ad/bed-with-mattress-for-sale-dhaka-248',\n",
       "  'https://bikroy.com/en/ad/bed-with-mattress-for-sale-dhaka-248',\n",
       "  'https://bikroy.com/en/ad/bed-with-mattress-for-sale-dhaka-248',\n",
       "  'https://bikroy.com/en/ad/bed-with-mattress-for-sale-dhaka-248',\n",
       "  'https://bikroy.com/en/ad/bed-with-mattress-for-sale-dhaka-248',\n",
       "  'https://bikroy.com/en/ad/bed-with-mattress-for-sale-dhaka-248',\n",
       "  'https://bikroy.com/en/ad/bed-with-mattress-for-sale-dhaka-248',\n",
       "  'https://bikroy.com/en/ad/bed-with-mattress-for-sale-dhaka-248',\n",
       "  'https://bikroy.com/en/ad/bed-with-mattress-for-sale-dhaka-248',\n",
       "  'https://bikroy.com/en/ad/bed-with-mattress-for-sale-dhaka-248',\n",
       "  'https://bikroy.com/en/ad/bed-with-mattress-for-sale-dhaka-248',\n",
       "  'https://bikroy.com/en/ad/bed-with-mattress-for-sale-dhaka-248',\n",
       "  'https://bikroy.com/en/ad/bed-with-mattress-for-sale-dhaka-248',\n",
       "  'https://bikroy.com/en/ad/bed-with-mattress-for-sale-dhaka-248',\n",
       "  'https://bikroy.com/en/ad/bed-with-mattress-for-sale-dhaka-248',\n",
       "  'https://bikroy.com/en/ad/bed-with-mattress-for-sale-dhaka-248',\n",
       "  'https://bikroy.com/en/ad/bed-with-mattress-for-sale-dhaka-248',\n",
       "  'https://bikroy.com/en/ad/bed-with-mattress-for-sale-dhaka-248',\n",
       "  'https://bikroy.com/en/ad/bed-with-mattress-for-sale-dhaka-248',\n",
       "  'https://bikroy.com/en/ad/s-self-for-sale-sylhet-1',\n",
       "  'https://bikroy.com/en/ad/s-self-for-sale-sylhet-1',\n",
       "  'https://bikroy.com/en/ad/s-self-for-sale-sylhet-1',\n",
       "  'https://bikroy.com/en/ad/s-self-for-sale-sylhet-1',\n",
       "  'https://bikroy.com/en/ad/s-self-for-sale-sylhet-1',\n",
       "  'https://bikroy.com/en/ad/s-self-for-sale-sylhet-1',\n",
       "  'https://bikroy.com/en/ad/s-self-for-sale-sylhet-1',\n",
       "  'https://bikroy.com/en/ad/s-self-for-sale-sylhet-1',\n",
       "  'https://bikroy.com/en/ad/s-self-for-sale-sylhet-1',\n",
       "  'https://bikroy.com/en/ad/s-self-for-sale-sylhet-1',\n",
       "  'https://bikroy.com/en/ad/s-self-for-sale-sylhet-1',\n",
       "  'https://bikroy.com/en/ad/s-self-for-sale-sylhet-1',\n",
       "  'https://bikroy.com/en/ad/s-self-for-sale-sylhet-1',\n",
       "  'https://bikroy.com/en/ad/s-self-for-sale-sylhet-1',\n",
       "  'https://bikroy.com/en/ad/s-self-for-sale-sylhet-1',\n",
       "  'https://bikroy.com/en/ad/s-self-for-sale-sylhet-1',\n",
       "  'https://bikroy.com/en/ad/s-self-for-sale-sylhet-1',\n",
       "  'https://bikroy.com/en/ad/s-self-for-sale-sylhet-1',\n",
       "  'https://bikroy.com/en/ad/s-self-for-sale-sylhet-1',\n",
       "  'https://bikroy.com/en/ad/s-self-for-sale-sylhet-1',\n",
       "  'https://bikroy.com/en/ad/s-self-for-sale-sylhet-1',\n",
       "  'https://bikroy.com/en/ad/s-self-for-sale-sylhet-1',\n",
       "  'https://bikroy.com/en/ad/s-self-for-sale-sylhet-1',\n",
       "  'https://bikroy.com/en/ad/s-self-for-sale-sylhet-1',\n",
       "  'https://bikroy.com/en/ad/s-self-for-sale-sylhet-1',\n",
       "  'https://bikroy.com/en/ad/s-self-for-sale-sylhet-1',\n",
       "  'https://bikroy.com/en/ad/s-self-for-sale-sylhet-1',\n",
       "  'https://bikroy.com/en/ad/box-bed-foreign-furniture-for-sale-dhaka-1',\n",
       "  'https://bikroy.com/en/ad/box-bed-foreign-furniture-for-sale-dhaka-1',\n",
       "  'https://bikroy.com/en/ad/box-bed-foreign-furniture-for-sale-dhaka-1',\n",
       "  'https://bikroy.com/en/ad/box-bed-foreign-furniture-for-sale-dhaka-1',\n",
       "  'https://bikroy.com/en/ad/box-bed-foreign-furniture-for-sale-dhaka-1',\n",
       "  'https://bikroy.com/en/ad/box-bed-foreign-furniture-for-sale-dhaka-1',\n",
       "  'https://bikroy.com/en/ad/box-bed-foreign-furniture-for-sale-dhaka-1',\n",
       "  'https://bikroy.com/en/ad/box-bed-foreign-furniture-for-sale-dhaka-1',\n",
       "  'https://bikroy.com/en/ad/box-bed-foreign-furniture-for-sale-dhaka-1',\n",
       "  'https://bikroy.com/en/ad/box-bed-foreign-furniture-for-sale-dhaka-1',\n",
       "  'https://bikroy.com/en/ad/box-bed-foreign-furniture-for-sale-dhaka-1',\n",
       "  'https://bikroy.com/en/ad/box-bed-foreign-furniture-for-sale-dhaka-1',\n",
       "  'https://bikroy.com/en/ad/box-bed-foreign-furniture-for-sale-dhaka-1',\n",
       "  'https://bikroy.com/en/ad/box-bed-foreign-furniture-for-sale-dhaka-1',\n",
       "  'https://bikroy.com/en/ad/box-bed-foreign-furniture-for-sale-dhaka-1',\n",
       "  'https://bikroy.com/en/ad/box-bed-foreign-furniture-for-sale-dhaka-1',\n",
       "  'https://bikroy.com/en/ad/box-bed-foreign-furniture-for-sale-dhaka-1',\n",
       "  'https://bikroy.com/en/ad/box-bed-foreign-furniture-for-sale-dhaka-1',\n",
       "  'https://bikroy.com/en/ad/box-bed-foreign-furniture-for-sale-dhaka-1',\n",
       "  'https://bikroy.com/en/ad/box-bed-foreign-furniture-for-sale-dhaka-1',\n",
       "  'https://bikroy.com/en/ad/box-bed-foreign-furniture-for-sale-dhaka-1',\n",
       "  'https://bikroy.com/en/ad/box-bed-foreign-furniture-for-sale-dhaka-1',\n",
       "  'https://bikroy.com/en/ad/box-bed-foreign-furniture-for-sale-dhaka-1',\n",
       "  'https://bikroy.com/en/ad/box-bed-foreign-furniture-for-sale-dhaka-1',\n",
       "  'https://bikroy.com/en/ad/box-bed-foreign-furniture-for-sale-dhaka-1',\n",
       "  'https://bikroy.com/en/ad/box-bed-foreign-furniture-for-sale-dhaka-1',\n",
       "  'https://bikroy.com/en/ad/box-bed-foreign-furniture-for-sale-dhaka-1'])"
      ]
     },
     "execution_count": 25,
     "metadata": {},
     "output_type": "execute_result"
    }
   ],
   "source": [
    "len(single_page_urls), single_page_urls"
   ]
  },
  {
   "cell_type": "code",
   "execution_count": 21,
   "metadata": {},
   "outputs": [
    {
     "data": {
      "text/plain": [
       "'/en/ad/dell-latitude-7370-touchintel-core-m7-6y57-8gb-ddr3-ram-256gb-ssd-for-sale-dhaka'"
      ]
     },
     "execution_count": 21,
     "metadata": {},
     "output_type": "execute_result"
    }
   ],
   "source": [
    "temp = single_url[0].attrs['href']\n",
    "temp"
   ]
  },
  {
   "cell_type": "code",
   "execution_count": null,
   "metadata": {},
   "outputs": [],
   "source": []
  },
  {
   "cell_type": "code",
   "execution_count": 4,
   "metadata": {},
   "outputs": [],
   "source": [
    "with open('category_url/home-living_product_urls.txt', 'w') as f:\n",
    "    for s in single_page_urls:\n",
    "        f.write(s)\n",
    "        f.write('\\n')"
   ]
  },
  {
   "cell_type": "code",
   "execution_count": 44,
   "metadata": {},
   "outputs": [],
   "source": [
    "def title_scrap(driver):\n",
    "    try:\n",
    "        title = driver.find_element(by=By.TAG_NAME, value='h1').text\n",
    "        print(\"Title: \", title)\n",
    "        return title        \n",
    "    except:\n",
    "        print(\"Product Not found. May be sold out!\")\n",
    "        return None"
   ]
  },
  {
   "cell_type": "code",
   "execution_count": 45,
   "metadata": {},
   "outputs": [],
   "source": [
    "def time_location_scrap(driver):\n",
    "    time_location = driver.find_element(by=By.CLASS_NAME, value='sub-title--37mkY').text\n",
    "    print(\"Time & Location: \", time_location)\n",
    "\n",
    "    return time_location"
   ]
  },
  {
   "cell_type": "code",
   "execution_count": 46,
   "metadata": {},
   "outputs": [],
   "source": [
    "def price_scrap(driver):\n",
    "    price = driver.find_element(by=By.CLASS_NAME, value='amount--3NTpl').text\n",
    "    print(\"Price: \", price)\n",
    "\n",
    "    return price"
   ]
  },
  {
   "cell_type": "code",
   "execution_count": 47,
   "metadata": {},
   "outputs": [],
   "source": [
    "def image_scrap(driver, category):\n",
    "    try:\n",
    "        images = driver.find_element(by=By.XPATH, value='//*[@id=\"app-wrapper\"]/div[1]/div[2]/div[2]/div[3]/div[2]/div/div[1]/div/div[1]/div/div/ul')\n",
    "        img_path = []\n",
    "        for img in images.find_elements(by=By.TAG_NAME,value='img'):\n",
    "            img_urls = img.get_attribute('src')\n",
    "\n",
    "            img_urls_firstname = '/'.join(img_urls.split('/')[:-3])\n",
    "            img_urls_rename = img_urls_firstname + '/620/466/fitted.jpg'\n",
    "    #         print(img_urls_rename)\n",
    "            img_name = '@'.join(img_urls_firstname.split('/')[-2:])\n",
    "\n",
    "            r = requests.get(img_urls_rename)\n",
    "            i = Image.open(BytesIO(r.content))\n",
    "            i.save(f\"img/{category}/{img_name}.jpg\")\n",
    "            img_path.append(img_name)\n",
    "        return img_path\n",
    "    except:\n",
    "        print('No images')        \n",
    "        return 'N/A'"
   ]
  },
  {
   "cell_type": "code",
   "execution_count": 48,
   "metadata": {},
   "outputs": [],
   "source": [
    "def meta_data_scrap(driver):\n",
    "    try:\n",
    "        meta_data = driver.find_element(by=By.XPATH, value='//*[@id=\"app-wrapper\"]/div[1]/div[2]/div[2]/div[3]/div[2]/div/div[1]/div/div[2]/div[2]')\n",
    "\n",
    "        md = meta_data.find_elements(by=By.TAG_NAME,value='div')\n",
    "        meta_dic = {}\n",
    "        for m in md:\n",
    "            m = m.text\n",
    "            if '\\n' in m:\n",
    "                key, val = m.split('\\n')[0].replace(':', ''), m.split('\\n')[1]\n",
    "                meta_dic[key] = val\n",
    "        print(\"Meta Data: \", meta_dic)\n",
    "        return meta_dic\n",
    "    except:\n",
    "        print('No meta data found')        \n",
    "        return 'N/A'"
   ]
  },
  {
   "cell_type": "code",
   "execution_count": 49,
   "metadata": {},
   "outputs": [],
   "source": [
    "def show_more_click(driver):    \n",
    "    try:\n",
    "        s_driver.find_element(by=By.CLASS_NAME, value='show-text--13FcL').click()\n",
    "#         s_driver.find_element(by=By.XPATH, value='//*[@id=\"app-wrapper\"]/div[1]/div[2]/div[2]/div[3]/div[2]/div/div[1]/div/div[2]/div[3]/div/div[2]/div/div[2]/button').click()\n",
    "        time.sleep(2)\n",
    "    except:\n",
    "        print(\"No 'Show more' button\")"
   ]
  },
  {
   "cell_type": "code",
   "execution_count": 50,
   "metadata": {},
   "outputs": [],
   "source": [
    "def feature_scrap(driver):\n",
    "    try:\n",
    "        feature = driver.find_element(by=By.CLASS_NAME, value='text--Xap4O').text\n",
    "#         feature = s_driver.find_element(by=By.XPATH, value='//*[@id=\"app-wrapper\"]/div[1]/div[2]/div[2]/div[1]/div[1]/div/div[1]/div/div[2]/div[4]/p').text\n",
    "#         feature = feature.find_elements(by=By.TAG_NAME,value='p').text\n",
    "        print('Features: ', feature)\n",
    "        return feature\n",
    "    except:\n",
    "        print(\"No feature\")        \n",
    "        return 'N/A'"
   ]
  },
  {
   "cell_type": "code",
   "execution_count": 65,
   "metadata": {},
   "outputs": [],
   "source": [
    "def description_scrap(driver):\n",
    "    # desc = s_driver.find_element_by_xpath('/html/body/div[1]/div/div[1]/div[2]/div[2]/div[3]/div[2]/div/div[1]/div/div[2]/div[3]/div/div[2]/div/div[1]/div/ul/div')\n",
    "    # description[0].text\n",
    "    # description = [d.text.replace(\"'\\uf076\", \"\").replace(\"''\\uf0d8\", \"\") for d in desc.find_elements_by_tag_name('p')]\n",
    "    # print(description)\n",
    "\n",
    "    try:\n",
    "        desc = driver.find_element(by=By.CLASS_NAME, value='description--1nRbz').text\n",
    "        print(\"Description: \", desc)\n",
    "        return desc\n",
    "    except:\n",
    "        print(\"No description\")        \n",
    "        return 'N/A'"
   ]
  },
  {
   "cell_type": "code",
   "execution_count": 70,
   "metadata": {},
   "outputs": [],
   "source": [
    "def open_driver():\n",
    "    op = webdriver.ChromeOptions()\n",
    "    op.add_argument('headless')\n",
    "    s = Service('chromedriver')\n",
    "    driver = webdriver.Chrome(service=s, options=op)\n",
    "    return driver"
   ]
  },
  {
   "cell_type": "code",
   "execution_count": 61,
   "metadata": {},
   "outputs": [],
   "source": [
    "def product_scrap(driver, url, category):\n",
    "    driver.get(url)\n",
    "    time.sleep(5)\n",
    "\n",
    "    # single page data scrapping\n",
    "    title = title_scrap(driver)\n",
    "    # if title not found (product sold) don't proceed further for other data\n",
    "    if not title:\n",
    "        return [None]*7\n",
    "    # scrapping time and location\n",
    "    time_location = time_location_scrap(driver)\n",
    "    \n",
    "    # scrapping price\n",
    "    price = price_scrap(driver)\n",
    "    \n",
    "    # scrapping all images\n",
    "    images = image_scrap(driver, category)\n",
    "    \n",
    "\n",
    "    # extractig meta data\n",
    "    meta_data = meta_data_scrap(driver)\n",
    "        \n",
    "    # click on show_more button\n",
    "    show_more_click(driver)\n",
    "\n",
    "    # extracting feature data\n",
    "    feature = feature_scrap(driver)\n",
    "    \n",
    "    # extracting description\n",
    "    description = description_scrap(driver)\n",
    "    \n",
    "    return title, time_location, price, images, meta_data, feature, description"
   ]
  },
  {
   "cell_type": "code",
   "execution_count": 66,
   "metadata": {
    "scrolled": true
   },
   "outputs": [
    {
     "name": "stdout",
     "output_type": "stream",
     "text": [
      "3 https://bikroy.com/bn/ad/realme-x7-5g-6128-used-for-sale-barishal\n",
      "Title:  Realme X7 5G (6+128) (Used)\n",
      "Time & Location:  পোস্ট করা হয়েছে ০৩ সেপ্ট ৯:১৫ পিএম, সদর রোড, বরিশাল\n",
      "Price:  ৳ ২০,৫০০\n",
      "Meta Data:  {'কন্ডিশন': 'ব্যবহৃত', 'ব্র্যান্ড': 'Realme', 'মডেল': 'X7', 'সংস্করণ': '5G (6+128)', 'জেনুইন': 'আসল'}\n",
      "No 'Show more' button\n",
      "No feature\n",
      "Description:  বক্স নাই, ব্যাক কাভার আছে। চার্জার আছে।\n",
      "পলি লাগানো আছে।\n",
      "Amoled Display \n",
      "Indisplay Fingerprint\n",
      "Dimensity 800U octa core processor \n",
      "=============================================\n"
     ]
    }
   ],
   "source": [
    "category = 'mobile'\n",
    "with open('mobile_product_urls.txt', 'r') as f:\n",
    "    single_url = f.readlines()\n",
    "    titles, locations, prices, img_lst, meta_lst,  feature_lst, desc_lst = [], [], [], [], [], [], []\n",
    "    cnt = 1\n",
    "#     print(single_url)\n",
    "    for s in single_url:\n",
    "        print(cnt, s)\n",
    "        driver = open_driver()\n",
    "        \n",
    "        title, time_location, price, images, meta_data, feature, description = product_scrap(driver, s, category)\n",
    "        if title:\n",
    "            titles.append(title)\n",
    "            locations.append(time_location)\n",
    "            prices.append(price)\n",
    "            img_lst.append(images)\n",
    "            meta_lst.append(meta_data)\n",
    "            feature_lst.append(feature)\n",
    "            desc_lst.append(description) \n",
    "\n",
    "            cnt += 1\n",
    "            print(\"=============================================\")\n",
    "            clear_output(wait=True)"
   ]
  },
  {
   "cell_type": "code",
   "execution_count": 63,
   "metadata": {},
   "outputs": [
    {
     "data": {
      "text/plain": [
       "'বক্স নাই, ব্যাক কাভার আছে। চার্জার আছে।\\nপলি লাগানো আছে।\\nAmoled Display \\nIndisplay Fingerprint\\nDimensity 800U octa core processor '"
      ]
     },
     "execution_count": 63,
     "metadata": {},
     "output_type": "execute_result"
    }
   ],
   "source": [
    "driver.get('https://bikroy.com/bn/ad/realme-x7-5g-6128-used-for-sale-barishal')\n",
    "desc = driver.find_element(by=By.CLASS_NAME, value='description--1nRbz').text\n",
    "desc\n"
   ]
  },
  {
   "cell_type": "code",
   "execution_count": 19,
   "metadata": {},
   "outputs": [
    {
     "data": {
      "text/html": [
       "<div>\n",
       "<style scoped>\n",
       "    .dataframe tbody tr th:only-of-type {\n",
       "        vertical-align: middle;\n",
       "    }\n",
       "\n",
       "    .dataframe tbody tr th {\n",
       "        vertical-align: top;\n",
       "    }\n",
       "\n",
       "    .dataframe thead th {\n",
       "        text-align: right;\n",
       "    }\n",
       "</style>\n",
       "<table border=\"1\" class=\"dataframe\">\n",
       "  <thead>\n",
       "    <tr style=\"text-align: right;\">\n",
       "      <th></th>\n",
       "      <th>Title</th>\n",
       "      <th>Location</th>\n",
       "      <th>Price</th>\n",
       "      <th>Images</th>\n",
       "      <th>Meta Data</th>\n",
       "      <th>Feature</th>\n",
       "      <th>Description</th>\n",
       "      <th>URL</th>\n",
       "    </tr>\n",
       "  </thead>\n",
       "  <tbody>\n",
       "    <tr>\n",
       "      <th>0</th>\n",
       "      <td>Realme C11 (Used)</td>\n",
       "      <td>Posted on 07 Mar 11:15 pm, Maulvi Bazar, Sylhe...</td>\n",
       "      <td>Tk 6,000</td>\n",
       "      <td>[realme-c11-used-for-sale-sylhet-division-12@1...</td>\n",
       "      <td>{'Condition': 'Used', 'Brand': 'Realme', 'Mode...</td>\n",
       "      <td>N/A</td>\n",
       "      <td>N/A</td>\n",
       "      <td>https://bikroy.com/en/ad/oneplus-9-pro-12gb-25...</td>\n",
       "    </tr>\n",
       "    <tr>\n",
       "      <th>1</th>\n",
       "      <td>Samsung Galaxy A7 . (Used)</td>\n",
       "      <td>Posted on 07 Mar 11:15 pm, Dhanmondi, Dhaka</td>\n",
       "      <td>Tk 9,000</td>\n",
       "      <td>[samsung-galaxy-a7-2018-used-for-sale-dhaka-11...</td>\n",
       "      <td>{'Condition': 'Used', 'Brand': 'Samsung', 'Mod...</td>\n",
       "      <td>Bluetooth, Camera, Dual SIM, Expandable Memory...</td>\n",
       "      <td>N/A</td>\n",
       "      <td>https://bikroy.com/en/ad/oppo-a57-3-32-new-for...</td>\n",
       "    </tr>\n",
       "  </tbody>\n",
       "</table>\n",
       "</div>"
      ],
      "text/plain": [
       "                        Title  \\\n",
       "0           Realme C11 (Used)   \n",
       "1  Samsung Galaxy A7 . (Used)   \n",
       "\n",
       "                                            Location     Price  \\\n",
       "0  Posted on 07 Mar 11:15 pm, Maulvi Bazar, Sylhe...  Tk 6,000   \n",
       "1        Posted on 07 Mar 11:15 pm, Dhanmondi, Dhaka  Tk 9,000   \n",
       "\n",
       "                                              Images  \\\n",
       "0  [realme-c11-used-for-sale-sylhet-division-12@1...   \n",
       "1  [samsung-galaxy-a7-2018-used-for-sale-dhaka-11...   \n",
       "\n",
       "                                           Meta Data  \\\n",
       "0  {'Condition': 'Used', 'Brand': 'Realme', 'Mode...   \n",
       "1  {'Condition': 'Used', 'Brand': 'Samsung', 'Mod...   \n",
       "\n",
       "                                             Feature Description  \\\n",
       "0                                                N/A         N/A   \n",
       "1  Bluetooth, Camera, Dual SIM, Expandable Memory...         N/A   \n",
       "\n",
       "                                                 URL  \n",
       "0  https://bikroy.com/en/ad/oneplus-9-pro-12gb-25...  \n",
       "1  https://bikroy.com/en/ad/oppo-a57-3-32-new-for...  "
      ]
     },
     "execution_count": 19,
     "metadata": {},
     "output_type": "execute_result"
    }
   ],
   "source": [
    "df_lst = [titles, locations, prices, img_lst, meta_lst,  feature_lst, desc_lst, single_url[:2]]\n",
    "column_lst = ['Title', 'Location', 'Price', 'Images', 'Meta Data', 'Feature', 'Description', 'URL']\n",
    "df = pd.DataFrame (df_lst).T\n",
    "df.columns = column_lst\n",
    "df.to_csv(f'csv/{category}.csv', index=False)\n",
    "df.head()\n"
   ]
  },
  {
   "cell_type": "code",
   "execution_count": 20,
   "metadata": {},
   "outputs": [
    {
     "data": {
      "text/plain": [
       "['Realme C11 (Used)', 'Samsung Galaxy A7 . (Used)']"
      ]
     },
     "execution_count": 20,
     "metadata": {},
     "output_type": "execute_result"
    }
   ],
   "source": [
    "titles"
   ]
  },
  {
   "cell_type": "code",
   "execution_count": null,
   "metadata": {},
   "outputs": [],
   "source": []
  }
 ],
 "metadata": {
  "kernelspec": {
   "display_name": "Python 3 (ipykernel)",
   "language": "python",
   "name": "python3"
  },
  "language_info": {
   "codemirror_mode": {
    "name": "ipython",
    "version": 3
   },
   "file_extension": ".py",
   "mimetype": "text/x-python",
   "name": "python",
   "nbconvert_exporter": "python",
   "pygments_lexer": "ipython3",
   "version": "3.9.12"
  }
 },
 "nbformat": 4,
 "nbformat_minor": 4
}
